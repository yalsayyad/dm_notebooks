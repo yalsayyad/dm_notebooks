{
 "cells": [
  {
   "cell_type": "markdown",
   "id": "3117c614-c735-4772-b037-34cdb58d093a",
   "metadata": {},
   "source": [
    "### Missing Objects in LATISS"
   ]
  },
  {
   "cell_type": "code",
   "execution_count": 1,
   "id": "367d6569-df39-4f32-8631-22c5fa7d1d0e",
   "metadata": {
    "execution": {
     "iopub.execute_input": "2023-11-17T22:22:28.446410Z",
     "iopub.status.busy": "2023-11-17T22:22:28.446291Z",
     "iopub.status.idle": "2023-11-17T22:22:29.161654Z",
     "shell.execute_reply": "2023-11-17T22:22:29.161139Z",
     "shell.execute_reply.started": "2023-11-17T22:22:28.446398Z"
    }
   },
   "outputs": [],
   "source": [
    "import lsst.afw.display as afwDisplay\n",
    "from lsst.daf.butler import Butler"
   ]
  },
  {
   "cell_type": "code",
   "execution_count": 2,
   "id": "a97f3ab2-1a51-4199-a1b2-dca74fc7e29f",
   "metadata": {
    "execution": {
     "iopub.execute_input": "2023-11-17T22:22:29.162509Z",
     "iopub.status.busy": "2023-11-17T22:22:29.162352Z",
     "iopub.status.idle": "2023-11-17T22:22:30.552179Z",
     "shell.execute_reply": "2023-11-17T22:22:30.551663Z",
     "shell.execute_reply.started": "2023-11-17T22:22:29.162493Z"
    }
   },
   "outputs": [],
   "source": [
    "# Result is the same for all of these collections\n",
    "# try whichever you want\n",
    "butler = Butler(\"/repo/embargo\", collections=\"LATISS/runs/AUXTEL_DRP_IMAGING_2023-08A-07AB-05AB/w_2023_19/PREOPS-3598\")\n",
    "butler = Butler(\"/repo/embargo\", collections=\"LATISS/runs/AUXTEL_DRP_IMAGING_2023-09A-08ABC-07AB-05AB/d_2023_09_25/PREOPS-3780\")\n",
    "butler = Butler(\"/repo/embargo\", collections=\"u/laurenma/DM-40955_LATISS_PSF_71\")\n"
   ]
  },
  {
   "cell_type": "code",
   "execution_count": 3,
   "id": "508696e5-623a-4867-95c2-f5264aeb987e",
   "metadata": {
    "execution": {
     "iopub.execute_input": "2023-11-17T22:22:30.552914Z",
     "iopub.status.busy": "2023-11-17T22:22:30.552781Z",
     "iopub.status.idle": "2023-11-17T22:22:35.737887Z",
     "shell.execute_reply": "2023-11-17T22:22:35.737377Z",
     "shell.execute_reply.started": "2023-11-17T22:22:30.552901Z"
    }
   },
   "outputs": [],
   "source": [
    "dataId = {'patch':91, 'tract': 5634, 'band': 'r', 'skymap':'latiss_v1'}\n",
    "coadd = butler.get('deepCoadd', dataId=dataId)\n",
    "mergeDet  = butler.get('deepCoadd_mergeDet', dataId=dataId)\n",
    "meas  = butler.get('deepCoadd_meas', dataId=dataId)\n",
    "deblendedCatalog = butler.get('deepCoadd_deblendedCatalog', dataId=dataId)"
   ]
  },
  {
   "cell_type": "code",
   "execution_count": 4,
   "id": "76a789d2-46b9-4ac2-8ab0-b967753db680",
   "metadata": {
    "execution": {
     "iopub.execute_input": "2023-11-17T22:22:35.739030Z",
     "iopub.status.busy": "2023-11-17T22:22:35.738525Z",
     "iopub.status.idle": "2023-11-17T22:22:36.989025Z",
     "shell.execute_reply": "2023-11-17T22:22:36.988581Z",
     "shell.execute_reply.started": "2023-11-17T22:22:35.739014Z"
    }
   },
   "outputs": [],
   "source": [
    "afwDisplay.setDefaultBackend('firefly')\n",
    "display = afwDisplay.Display(frame=1)\n",
    "display.setMaskTransparency(90)\n",
    "display.scale(\"linear\", \"zscale\")\n",
    "display.mtv(coadd)\n",
    "display.erase()"
   ]
  },
  {
   "cell_type": "code",
   "execution_count": 5,
   "id": "49673b4f-9038-4f0f-b160-c509a262b820",
   "metadata": {
    "execution": {
     "iopub.execute_input": "2023-11-17T22:22:36.989728Z",
     "iopub.status.busy": "2023-11-17T22:22:36.989586Z",
     "iopub.status.idle": "2023-11-17T22:22:37.011810Z",
     "shell.execute_reply": "2023-11-17T22:22:37.011380Z",
     "shell.execute_reply.started": "2023-11-17T22:22:36.989714Z"
    }
   },
   "outputs": [
    {
     "name": "stdout",
     "output_type": "stream",
     "text": [
      "571 rows in meas\n"
     ]
    }
   ],
   "source": [
    "with display.Buffering():\n",
    "    for record in meas:\n",
    "        display.dot('+', record.getX(), record.getY(), size=20, ctype='red')\n",
    "print(len(meas), \"rows in meas\")"
   ]
  },
  {
   "cell_type": "code",
   "execution_count": 6,
   "id": "76e6a1cd-5561-42c0-955c-46e92d077929",
   "metadata": {
    "execution": {
     "iopub.execute_input": "2023-11-17T22:22:37.012531Z",
     "iopub.status.busy": "2023-11-17T22:22:37.012396Z",
     "iopub.status.idle": "2023-11-17T22:22:37.061060Z",
     "shell.execute_reply": "2023-11-17T22:22:37.060635Z",
     "shell.execute_reply.started": "2023-11-17T22:22:37.012518Z"
    }
   },
   "outputs": [
    {
     "name": "stdout",
     "output_type": "stream",
     "text": [
      "2149 peaks in mergeDet\n",
      "237 rows/footprints in mergeDet\n"
     ]
    }
   ],
   "source": [
    "# Plot peaks in larger footprints\n",
    "peaks = 0\n",
    "with display.Buffering():\n",
    "    for record in mergeDet:\n",
    "        footprint = record.getFootprint()\n",
    "        for peak in footprint.getPeaks():\n",
    "            peaks += 1\n",
    "            display.dot('o', peak['f_x'], peak['f_y'], size=10, ctype='green')\n",
    "print(peaks, \"peaks in mergeDet\")\n",
    "print(len(mergeDet), \"rows/footprints in mergeDet\")"
   ]
  },
  {
   "cell_type": "code",
   "execution_count": 7,
   "id": "ca33ac91-686a-4c12-a508-8defe1fdef10",
   "metadata": {
    "execution": {
     "iopub.execute_input": "2023-11-17T22:22:37.061753Z",
     "iopub.status.busy": "2023-11-17T22:22:37.061613Z",
     "iopub.status.idle": "2023-11-17T22:22:37.134555Z",
     "shell.execute_reply": "2023-11-17T22:22:37.134093Z",
     "shell.execute_reply.started": "2023-11-17T22:22:37.061740Z"
    }
   },
   "outputs": [
    {
     "name": "stdout",
     "output_type": "stream",
     "text": [
      "2483 peaks in deblendedCatalog\n",
      "571 rows in deblendedCatalog\n"
     ]
    }
   ],
   "source": [
    "peaks = 0 \n",
    "with display.Buffering():\n",
    "    for record in deblendedCatalog:\n",
    "        footprint = record.getFootprint()\n",
    "        for peak in footprint.getPeaks():\n",
    "            peaks += 1\n",
    "            display.dot('o', peak['f_x'], peak['f_y'], size=3, ctype='yellow')\n",
    "print(peaks, \"peaks in deblendedCatalog\")\n",
    "print(len(deblendedCatalog), \"rows in deblendedCatalog\")"
   ]
  },
  {
   "cell_type": "code",
   "execution_count": 8,
   "id": "7b95898b-b98b-448f-a043-7c75a3905d3f",
   "metadata": {
    "execution": {
     "iopub.execute_input": "2023-11-17T22:22:37.135307Z",
     "iopub.status.busy": "2023-11-17T22:22:37.135166Z",
     "iopub.status.idle": "2023-11-17T22:22:37.285778Z",
     "shell.execute_reply": "2023-11-17T22:22:37.285212Z",
     "shell.execute_reply.started": "2023-11-17T22:22:37.135292Z"
    }
   },
   "outputs": [],
   "source": [
    "log = butler.get(\"deblend_log\", dataId=dataId)"
   ]
  },
  {
   "cell_type": "code",
   "execution_count": 9,
   "id": "a2af26bf-4da3-4244-961f-b215ddc674f8",
   "metadata": {
    "execution": {
     "iopub.execute_input": "2023-11-17T22:22:37.286566Z",
     "iopub.status.busy": "2023-11-17T22:22:37.286417Z",
     "iopub.status.idle": "2023-11-17T22:22:37.289772Z",
     "shell.execute_reply": "2023-11-17T22:22:37.289345Z",
     "shell.execute_reply.started": "2023-11-17T22:22:37.286552Z"
    }
   },
   "outputs": [
    {
     "name": "stdout",
     "output_type": "stream",
     "text": [
      "INFO 2023-10-24T05:10:59.657225+00:00 lsst.ctrl.mpexec.singleQuantumExecutor singleQuantumExecutor.py:204 - Preparing execution of quantum for label=deblend dataId={skymap: 'latiss_v1', tract: 5634, patch: 91}.\n",
      "VERBOSE 2023-10-24T05:10:59.699380+00:00 lsst.daf.butler.datastores.fileDatastore fileDatastore.py:1711 - Number of datasets found in datastore: 3 out of 3 datasets checked.\n",
      "INFO 2023-10-24T05:10:59.699947+00:00 lsst.ctrl.mpexec.singleQuantumExecutor singleQuantumExecutor.py:256 - Constructing task and executing quantum for label=deblend dataId={skymap: 'latiss_v1', tract: 5634, patch: 91}.\n",
      "INFO 2023-10-24T05:11:04.211711+00:00 lsst.deblend.multibandDeblend scarletDeblendTask.py:913 - Deblending 237 sources in 3 exposure bands\n",
      "INFO 2023-10-24T05:12:54.458097+00:00 lsst.deblend.multibandDeblend scarletDeblendTask.py:1084 - Deblender results: of 237 parent sources, 151 were deblended, creating 334 children, for a total of 571 sources\n",
      "INFO 2023-10-24T05:12:57.988802+00:00 lsst.ctrl.mpexec.singleQuantumExecutor singleQuantumExecutor.py:279 - Execution of task 'deblend' on quantum {skymap: 'latiss_v1', tract: 5634, patch: 91} took 119.132 seconds\n"
     ]
    }
   ],
   "source": [
    "for l in log:\n",
    "    print(l)"
   ]
  },
  {
   "cell_type": "code",
   "execution_count": null,
   "id": "16443741-a438-44f7-b7e3-85d44ed859df",
   "metadata": {},
   "outputs": [],
   "source": []
  }
 ],
 "metadata": {
  "kernelspec": {
   "display_name": "LSST",
   "language": "python",
   "name": "lsst"
  },
  "language_info": {
   "codemirror_mode": {
    "name": "ipython",
    "version": 3
   },
   "file_extension": ".py",
   "mimetype": "text/x-python",
   "name": "python",
   "nbconvert_exporter": "python",
   "pygments_lexer": "ipython3",
   "version": "3.11.4"
  }
 },
 "nbformat": 4,
 "nbformat_minor": 5
}
