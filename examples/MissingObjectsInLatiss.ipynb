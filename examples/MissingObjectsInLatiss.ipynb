{
 "cells": [
  {
   "cell_type": "markdown",
   "id": "3117c614-c735-4772-b037-34cdb58d093a",
   "metadata": {},
   "source": [
    "### Missing Objects in LATISS"
   ]
  },
  {
   "cell_type": "code",
   "execution_count": 1,
   "id": "367d6569-df39-4f32-8631-22c5fa7d1d0e",
   "metadata": {
    "execution": {
     "iopub.execute_input": "2023-11-17T22:11:52.124752Z",
     "iopub.status.busy": "2023-11-17T22:11:52.124629Z",
     "iopub.status.idle": "2023-11-17T22:11:52.793107Z",
     "shell.execute_reply": "2023-11-17T22:11:52.792652Z",
     "shell.execute_reply.started": "2023-11-17T22:11:52.124737Z"
    }
   },
   "outputs": [],
   "source": [
    "import lsst.afw.display as afwDisplay\n",
    "from lsst.daf.butler import Butler"
   ]
  },
  {
   "cell_type": "code",
   "execution_count": 2,
   "id": "a97f3ab2-1a51-4199-a1b2-dca74fc7e29f",
   "metadata": {
    "execution": {
     "iopub.execute_input": "2023-11-17T22:11:52.793792Z",
     "iopub.status.busy": "2023-11-17T22:11:52.793654Z",
     "iopub.status.idle": "2023-11-17T22:11:53.886543Z",
     "shell.execute_reply": "2023-11-17T22:11:53.886051Z",
     "shell.execute_reply.started": "2023-11-17T22:11:52.793779Z"
    }
   },
   "outputs": [],
   "source": [
    "# Result is the same for all of these collections\n",
    "# try whichever you want\n",
    "butler = Butler(\"/repo/embargo\", collections=\"LATISS/runs/AUXTEL_DRP_IMAGING_2023-08A-07AB-05AB/w_2023_19/PREOPS-3598\")\n",
    "butler = Butler(\"/repo/embargo\", collections=\"LATISS/runs/AUXTEL_DRP_IMAGING_2023-09A-08ABC-07AB-05AB/d_2023_09_25/PREOPS-3780\")\n",
    "butler = Butler(\"/repo/embargo\", collections=\"u/laurenma/DM-40955_LATISS_PSF_71\")\n"
   ]
  },
  {
   "cell_type": "code",
   "execution_count": 3,
   "id": "508696e5-623a-4867-95c2-f5264aeb987e",
   "metadata": {
    "execution": {
     "iopub.execute_input": "2023-11-17T22:11:53.887273Z",
     "iopub.status.busy": "2023-11-17T22:11:53.887134Z",
     "iopub.status.idle": "2023-11-17T22:11:58.279991Z",
     "shell.execute_reply": "2023-11-17T22:11:58.279451Z",
     "shell.execute_reply.started": "2023-11-17T22:11:53.887259Z"
    }
   },
   "outputs": [],
   "source": [
    "dataId = {'patch':91, 'tract': 5634, 'band': 'r', 'skymap':'latiss_v1'}\n",
    "coadd = butler.get('deepCoadd', **dataId)\n",
    "mergeDet  = butler.get('deepCoadd_mergeDet', **dataId)\n",
    "meas  = butler.get('deepCoadd_meas', **dataId)\n",
    "deblendedCatalog = butler.get('deepCoadd_deblendedCatalog', **dataId)"
   ]
  },
  {
   "cell_type": "code",
   "execution_count": 16,
   "id": "76a789d2-46b9-4ac2-8ab0-b967753db680",
   "metadata": {
    "execution": {
     "iopub.execute_input": "2023-11-17T22:14:46.535507Z",
     "iopub.status.busy": "2023-11-17T22:14:46.535225Z",
     "iopub.status.idle": "2023-11-17T22:14:47.598781Z",
     "shell.execute_reply": "2023-11-17T22:14:47.598321Z",
     "shell.execute_reply.started": "2023-11-17T22:14:46.535493Z"
    }
   },
   "outputs": [],
   "source": [
    "afwDisplay.setDefaultBackend('firefly')\n",
    "display = afwDisplay.Display(frame=1)\n",
    "display.setMaskTransparency(90)\n",
    "display.scale(\"linear\", \"zscale\")\n",
    "display.mtv(coadd)\n",
    "display.erase()"
   ]
  },
  {
   "cell_type": "code",
   "execution_count": 17,
   "id": "49673b4f-9038-4f0f-b160-c509a262b820",
   "metadata": {
    "execution": {
     "iopub.execute_input": "2023-11-17T22:14:48.005053Z",
     "iopub.status.busy": "2023-11-17T22:14:48.004926Z",
     "iopub.status.idle": "2023-11-17T22:14:48.027937Z",
     "shell.execute_reply": "2023-11-17T22:14:48.027541Z",
     "shell.execute_reply.started": "2023-11-17T22:14:48.005041Z"
    }
   },
   "outputs": [
    {
     "name": "stdout",
     "output_type": "stream",
     "text": [
      "571 rows in meas\n"
     ]
    }
   ],
   "source": [
    "with display.Buffering():\n",
    "    for record in meas:\n",
    "        display.dot('+', record.getX(), record.getY(), size=20, ctype='red')\n",
    "print(len(meas), \"rows in meas\")"
   ]
  },
  {
   "cell_type": "code",
   "execution_count": 18,
   "id": "76e6a1cd-5561-42c0-955c-46e92d077929",
   "metadata": {
    "execution": {
     "iopub.execute_input": "2023-11-17T22:14:48.028930Z",
     "iopub.status.busy": "2023-11-17T22:14:48.028712Z",
     "iopub.status.idle": "2023-11-17T22:14:48.078946Z",
     "shell.execute_reply": "2023-11-17T22:14:48.078547Z",
     "shell.execute_reply.started": "2023-11-17T22:14:48.028918Z"
    }
   },
   "outputs": [
    {
     "name": "stdout",
     "output_type": "stream",
     "text": [
      "2149 peaks in mergeDet\n",
      "237 rows/footprints in mergeDet\n"
     ]
    }
   ],
   "source": [
    "# Plot peaks in larger footprints\n",
    "peaks = 0\n",
    "with display.Buffering():\n",
    "    for record in mergeDet:\n",
    "        footprint = record.getFootprint()\n",
    "        for peak in footprint.getPeaks():\n",
    "            peaks += 1\n",
    "            display.dot('o', peak['f_x'], peak['f_y'], size=10, ctype='green')\n",
    "print(peaks, \"peaks in mergeDet\")\n",
    "print(len(mergeDet), \"rows/footprints in mergeDet\")"
   ]
  },
  {
   "cell_type": "code",
   "execution_count": 19,
   "id": "ca33ac91-686a-4c12-a508-8defe1fdef10",
   "metadata": {
    "execution": {
     "iopub.execute_input": "2023-11-17T22:14:48.079831Z",
     "iopub.status.busy": "2023-11-17T22:14:48.079697Z",
     "iopub.status.idle": "2023-11-17T22:14:48.141294Z",
     "shell.execute_reply": "2023-11-17T22:14:48.140860Z",
     "shell.execute_reply.started": "2023-11-17T22:14:48.079819Z"
    }
   },
   "outputs": [
    {
     "name": "stdout",
     "output_type": "stream",
     "text": [
      "2483 peaks in deblendedCatalog\n",
      "571 rows in deblendedCatalog\n"
     ]
    }
   ],
   "source": [
    "peaks = 0 \n",
    "with display.Buffering():\n",
    "    for record in deblendedCatalog:\n",
    "        footprint = record.getFootprint()\n",
    "        for peak in footprint.getPeaks():\n",
    "            peaks += 1\n",
    "            display.dot('o', peak['f_x'], peak['f_y'], size=3, ctype='yellow')\n",
    "print(peaks, \"peaks in deblendedCatalog\")\n",
    "print(len(deblendedCatalog), \"rows in deblendedCatalog\")"
   ]
  },
  {
   "cell_type": "code",
   "execution_count": null,
   "id": "7b95898b-b98b-448f-a043-7c75a3905d3f",
   "metadata": {},
   "outputs": [],
   "source": []
  }
 ],
 "metadata": {
  "kernelspec": {
   "display_name": "LSST",
   "language": "python",
   "name": "lsst"
  },
  "language_info": {
   "codemirror_mode": {
    "name": "ipython",
    "version": 3
   },
   "file_extension": ".py",
   "mimetype": "text/x-python",
   "name": "python",
   "nbconvert_exporter": "python",
   "pygments_lexer": "ipython3",
   "version": "3.11.4"
  }
 },
 "nbformat": 4,
 "nbformat_minor": 5
}
