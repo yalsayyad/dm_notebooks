{
 "cells": [
  {
   "cell_type": "markdown",
   "id": "d86752f6-7f14-48fa-b165-4086b2e4bfbd",
   "metadata": {},
   "source": [
    "# collection with the results of step 1:\n"
   ]
  },
  {
   "cell_type": "code",
   "execution_count": 16,
   "id": "498d5451-9f23-4c62-bff7-e5c0983155b6",
   "metadata": {
    "execution": {
     "iopub.execute_input": "2024-04-22T22:44:36.380095Z",
     "iopub.status.busy": "2024-04-22T22:44:36.379927Z",
     "iopub.status.idle": "2024-04-22T22:44:36.382143Z",
     "shell.execute_reply": "2024-04-22T22:44:36.381797Z",
     "shell.execute_reply.started": "2024-04-22T22:44:36.380082Z"
    },
    "tags": []
   },
   "outputs": [],
   "source": [
    "from lsst.daf.butler import Butler\n",
    "import pandas as pd\n",
    "import re"
   ]
  },
  {
   "cell_type": "code",
   "execution_count": 2,
   "id": "55af7f1a-8b07-45dc-ba18-8f1d9653fb0f",
   "metadata": {
    "execution": {
     "iopub.execute_input": "2024-04-22T21:54:02.187807Z",
     "iopub.status.busy": "2024-04-22T21:54:02.187662Z",
     "iopub.status.idle": "2024-04-22T21:54:02.650713Z",
     "shell.execute_reply": "2024-04-22T21:54:02.650300Z",
     "shell.execute_reply.started": "2024-04-22T21:54:02.187795Z"
    }
   },
   "outputs": [],
   "source": [
    "butler = Butler('/repo/main', collections=['u/sierrav/PDR2/w_2024_03_fitAffineWCS/DM-42607'])\n",
    "#butler = Butler('/repo/main', collections=['/u/sierrav/cm/pandatesting/DM-42607_test1/inputs'])\n",
    "#butler = Butler('/repo/main', collections=['HSC/runs/PDR2/v24_1_0/DM-39132'])"
   ]
  },
  {
   "cell_type": "markdown",
   "id": "61ccaa56-f87b-4c72-86b7-85ac974bec03",
   "metadata": {},
   "source": [
    "### example table from PDR2 reprocessing:\n",
    "```\n",
    "collection='HSC/raw/PDR2/v24_1_0/DM-39132/input'\n",
    "1783445 = 17315 visits * 103 detectors\n",
    "                        SUCCEEDED FAILED EXPECTED\n",
    "----------------------- --------- ------ --------\n",
    "TOTAL                     1778310   5135  1783445\n",
    "----------------------- --------- ------ --------\n",
    "isr                       1779973   3472  1783445\n",
    "characterizeImage         1778481   1492  1779973\n",
    "calibrate                 1778310    171  1778481 \n",
    "writePreSourceTable       1778310      0  1778310\n",
    "transformPreSourceTable   1778310      0  1778310\n",
    "```"
   ]
  },
  {
   "cell_type": "code",
   "execution_count": 11,
   "id": "8d9f30a4-e322-471c-a513-a8208a799770",
   "metadata": {
    "execution": {
     "iopub.execute_input": "2024-04-22T17:54:49.471942Z",
     "iopub.status.busy": "2024-04-22T17:54:49.471801Z",
     "iopub.status.idle": "2024-04-22T17:54:49.636464Z",
     "shell.execute_reply": "2024-04-22T17:54:49.636022Z",
     "shell.execute_reply.started": "2024-04-22T17:54:49.471929Z"
    },
    "tags": []
   },
   "outputs": [],
   "source": [
    "#resFirstFalse = butler.registry.queryDatasets('postISRCCD', dimensions=['visit', 'detector'], findFirst=False)\n",
    "#res.count(exact=False)"
   ]
  },
  {
   "cell_type": "code",
   "execution_count": 12,
   "id": "8fa0f395-a992-4247-9dd6-d3bbce0bc2a7",
   "metadata": {
    "execution": {
     "iopub.execute_input": "2024-04-22T17:56:25.760188Z",
     "iopub.status.busy": "2024-04-22T17:56:25.760046Z",
     "iopub.status.idle": "2024-04-22T17:59:01.615603Z",
     "shell.execute_reply": "2024-04-22T17:59:01.615212Z",
     "shell.execute_reply.started": "2024-04-22T17:56:25.760175Z"
    }
   },
   "outputs": [
    {
     "data": {
      "text/plain": [
       "1485718"
      ]
     },
     "execution_count": 12,
     "metadata": {},
     "output_type": "execute_result"
    }
   ],
   "source": [
    "#resFirstFalseSet = set([ r for r in resFirstFalse])\n",
    "#len(resFirstFalseSet)"
   ]
  },
  {
   "cell_type": "code",
   "execution_count": 3,
   "id": "ff75dcbe-2534-4532-bb7d-4c64dcfc284d",
   "metadata": {
    "execution": {
     "iopub.execute_input": "2024-04-22T21:54:10.483167Z",
     "iopub.status.busy": "2024-04-22T21:54:10.482928Z",
     "iopub.status.idle": "2024-04-22T21:55:13.196662Z",
     "shell.execute_reply": "2024-04-22T21:55:13.196261Z",
     "shell.execute_reply.started": "2024-04-22T21:54:10.483150Z"
    }
   },
   "outputs": [
    {
     "data": {
      "text/plain": [
       "2064275"
      ]
     },
     "execution_count": 3,
     "metadata": {},
     "output_type": "execute_result"
    }
   ],
   "source": [
    "results = butler.registry.queryDataIds(datasets='raw', dimensions=['visit', 'detector'], \n",
    "                                       where=\"instrument = 'HSC' and detector != 9 and detector < 140 and band in ('g', 'r', 'i', 'z', 'y')\")\n",
    "rawSet = set([r for r in results])\n",
    "len(rawSet)"
   ]
  },
  {
   "cell_type": "code",
   "execution_count": 4,
   "id": "0035b893-0f3f-434a-9cf6-e772778324e8",
   "metadata": {
    "execution": {
     "iopub.execute_input": "2024-04-22T21:55:39.917044Z",
     "iopub.status.busy": "2024-04-22T21:55:39.916898Z",
     "iopub.status.idle": "2024-04-22T21:55:58.420898Z",
     "shell.execute_reply": "2024-04-22T21:55:58.420522Z",
     "shell.execute_reply.started": "2024-04-22T21:55:39.917030Z"
    }
   },
   "outputs": [
    {
     "data": {
      "text/plain": [
       "599882"
      ]
     },
     "execution_count": 4,
     "metadata": {},
     "output_type": "execute_result"
    }
   ],
   "source": [
    "results = butler.registry.queryDataIds(datasets='postISRCCD', dimensions=['visit', 'detector'])\n",
    "resSet = set([ r for r in results])\n",
    "len(resSet)"
   ]
  },
  {
   "cell_type": "code",
   "execution_count": 5,
   "id": "e3eacc1e-3d34-4c39-b952-0cf7c3dcb0b9",
   "metadata": {
    "execution": {
     "iopub.execute_input": "2024-04-22T21:55:58.421975Z",
     "iopub.status.busy": "2024-04-22T21:55:58.421748Z",
     "iopub.status.idle": "2024-04-22T21:56:05.915295Z",
     "shell.execute_reply": "2024-04-22T21:56:05.914889Z",
     "shell.execute_reply.started": "2024-04-22T21:55:58.421962Z"
    }
   },
   "outputs": [
    {
     "data": {
      "text/plain": [
       "550362"
      ]
     },
     "execution_count": 5,
     "metadata": {},
     "output_type": "execute_result"
    }
   ],
   "source": [
    "results = butler.registry.queryDataIds(datasets='icSrc', dimensions=['visit','detector'])\n",
    "icSrcSet = set([ r for r in results])\n",
    "len(icSrcSet)"
   ]
  },
  {
   "cell_type": "code",
   "execution_count": 6,
   "id": "4628062f-f3f5-42b1-9ae7-8fd245a73ef3",
   "metadata": {
    "execution": {
     "iopub.execute_input": "2024-04-22T21:56:05.915983Z",
     "iopub.status.busy": "2024-04-22T21:56:05.915855Z",
     "iopub.status.idle": "2024-04-22T21:56:13.722262Z",
     "shell.execute_reply": "2024-04-22T21:56:13.721849Z",
     "shell.execute_reply.started": "2024-04-22T21:56:05.915971Z"
    }
   },
   "outputs": [
    {
     "data": {
      "text/plain": [
       "542272"
      ]
     },
     "execution_count": 6,
     "metadata": {},
     "output_type": "execute_result"
    }
   ],
   "source": [
    "results = butler.registry.queryDataIds(datasets='calexp', dimensions=['visit','detector'])\n",
    "calexpSet = set([ r for r in results])\n",
    "len(calexpSet)"
   ]
  },
  {
   "cell_type": "code",
   "execution_count": 7,
   "id": "10d0110d-b6d4-4738-a69b-151c3bd7eb35",
   "metadata": {
    "execution": {
     "iopub.execute_input": "2024-04-22T21:56:13.722967Z",
     "iopub.status.busy": "2024-04-22T21:56:13.722827Z",
     "iopub.status.idle": "2024-04-22T21:56:19.582549Z",
     "shell.execute_reply": "2024-04-22T21:56:19.582147Z",
     "shell.execute_reply.started": "2024-04-22T21:56:13.722955Z"
    },
    "tags": []
   },
   "outputs": [
    {
     "data": {
      "text/plain": [
       "542272"
      ]
     },
     "execution_count": 7,
     "metadata": {},
     "output_type": "execute_result"
    }
   ],
   "source": [
    "results = butler.registry.queryDataIds(datasets='preSourceTable', dimensions=['visit','detector'])\n",
    "stSet = set([ r for r in results])\n",
    "len(stSet)"
   ]
  },
  {
   "cell_type": "code",
   "execution_count": 8,
   "id": "cc3a9d8a-abda-45fc-9dfc-77cb4e770f92",
   "metadata": {
    "execution": {
     "iopub.execute_input": "2024-04-22T21:56:19.583236Z",
     "iopub.status.busy": "2024-04-22T21:56:19.583101Z",
     "iopub.status.idle": "2024-04-22T21:56:24.387697Z",
     "shell.execute_reply": "2024-04-22T21:56:24.387225Z",
     "shell.execute_reply.started": "2024-04-22T21:56:19.583222Z"
    },
    "tags": []
   },
   "outputs": [],
   "source": [
    "failedIsrSet = (rawSet-resSet)\n",
    "failedCharSet = (resSet-icSrcSet)\n",
    "failedCalibrateSet = (icSrcSet - stSet)"
   ]
  },
  {
   "cell_type": "code",
   "execution_count": null,
   "id": "cba5b992-63ca-49c1-aeba-d0e5fdf32465",
   "metadata": {},
   "outputs": [],
   "source": [
    "errors = []\n",
    "noLogs = []\n",
    "noError = []\n",
    "for i, dataId in enumerate(failedIsrSet):\n",
    "    try:\n",
    "        log = butler.get('isr_log', dataId={'exposure': dataId['visit'], 'detector':  dataId['detector']})\n",
    "    except:\n",
    "        noLogs.append(dataId)\n",
    "        #print(i, \"noLog\")\n",
    "        continue\n",
    "    appendedError = False\n",
    "    for l in log:\n",
    "        if l.levelname == \"ERROR\":\n",
    "            errors.append(l)\n",
    "            #print(i, \"appending Error\")\n",
    "            appendedError = True\n",
    "    if not appendedError:\n",
    "        noError.append(l)\n",
    "        #print(i, \"noError\")\n",
    "    if i > 100: # if you just want to check it out a few without reading in a 50000 logs\n",
    "        break"
   ]
  },
  {
   "cell_type": "code",
   "execution_count": null,
   "id": "cd3298b9-2c18-4621-9b4e-bbe1cdb7a400",
   "metadata": {},
   "outputs": [],
   "source": [
    "errors = []\n",
    "noLogs = []\n",
    "noError = []\n",
    "for i, dataId in enumerate(failedCharSet):\n",
    "    try:\n",
    "        log = butler.get('characterizeImage_log', dataId={'visit': dataId['visit'], 'detector':  dataId['detector']})\n",
    "    except:\n",
    "        noLogs.append(dataId)\n",
    "        #print(i, \"noLog\")\n",
    "        continue\n",
    "    appendedError = False\n",
    "    for l in log:\n",
    "        if l.levelname == \"ERROR\":\n",
    "            errors.append(l)\n",
    "            #print(i, \"appending Error\")\n",
    "            appendedError = True\n",
    "    if not appendedError:\n",
    "        noError.append(l)\n",
    "        #print(i, \"noError\")\n",
    "    if i > 100: # if you just want to check it out a few without reading in a 50000 logs\n",
    "        break"
   ]
  },
  {
   "cell_type": "code",
   "execution_count": 9,
   "id": "a2156df9-d430-40e7-9bc8-87279765a672",
   "metadata": {
    "execution": {
     "iopub.execute_input": "2024-04-22T22:02:35.541913Z",
     "iopub.status.busy": "2024-04-22T22:02:35.541782Z",
     "iopub.status.idle": "2024-04-22T22:29:13.862003Z",
     "shell.execute_reply": "2024-04-22T22:29:13.861516Z",
     "shell.execute_reply.started": "2024-04-22T22:02:35.541901Z"
    }
   },
   "outputs": [],
   "source": [
    "errors = []\n",
    "noLogs = []\n",
    "noError = []\n",
    "\n",
    "total = len(failedCalibrateSet)\n",
    "for i, dataId in enumerate(failedCalibrateSet):\n",
    "    try:\n",
    "        log = butler.get('calibrate_log', dataId={'visit': dataId['visit'], 'detector':  dataId['detector']})\n",
    "    except:\n",
    "        noLogs.append(dataId)\n",
    "        # print(i, \"noLog\")\n",
    "        continue\n",
    "    appendedError = False\n",
    "    for l in log:\n",
    "        if l.levelname == \"ERROR\":\n",
    "            errors.append(l)\n",
    "            # print(i, \"appending Error\")\n",
    "            appendedError = True\n",
    "    if not appendedError:\n",
    "        noError.append(l)\n",
    "        # print(i, \"noError\")\n",
    "    if i % 1000 == 0:\n",
    "        print(f'{i} of {total}')"
   ]
  },
  {
   "cell_type": "code",
   "execution_count": 14,
   "id": "6b70bbd0-cd19-465e-8abd-52fe323aae13",
   "metadata": {
    "execution": {
     "iopub.execute_input": "2024-04-22T22:42:05.024857Z",
     "iopub.status.busy": "2024-04-22T22:42:05.024635Z",
     "iopub.status.idle": "2024-04-22T22:42:05.028427Z",
     "shell.execute_reply": "2024-04-22T22:42:05.027928Z",
     "shell.execute_reply.started": "2024-04-22T22:42:05.024841Z"
    },
    "tags": []
   },
   "outputs": [
    {
     "name": "stdout",
     "output_type": "stream",
     "text": [
      "INFO 2024-02-06T23:11:53.889086+00:00 lsst.ctrl.mpexec.singleQuantumExecutor singleQuantumExecutor.py:204 - Preparing execution of quantum for label=calibrate dataId={instrument: 'HSC', detector: 109, visit: 944, band: 'i', physical_filter: 'HSC-I'}.\n",
      "VERBOSE 2024-02-06T23:11:53.893072+00:00 lsst.daf.butler.datastores.fileDatastore fileDatastore.py:1472 - Number of datasets found in datastore: 2 out of 2 datasets checked.\n",
      "INFO 2024-02-06T23:11:53.899630+00:00 lsst.ctrl.mpexec.singleQuantumExecutor singleQuantumExecutor.py:256 - Constructing task and executing quantum for label=calibrate dataId={instrument: 'HSC', detector: 109, visit: 944, band: 'i', physical_filter: 'HSC-I'}.\n",
      "INFO 2024-02-06T23:11:55.030985+00:00 lsst.calibrate.detection detection.py:563 - Setting factor for negative detections equal to that for positive detections: 1.000000\n",
      "INFO 2024-02-06T23:11:55.490821+00:00 lsst.calibrate.detection detection.py:653 - Detected 22075 positive peaks in 183 footprints and 242 negative peaks in 224 footprints to 5 +ve and 5 -ve sigma\n",
      "INFO 2024-02-06T23:11:55.606309+00:00 lsst.calibrate.detection detection.py:678 - Resubtracting the background after object detection\n",
      "INFO 2024-02-06T23:11:55.807315+00:00 lsst.calibrate.skySources skyObjects.py:133 - Added 53 of 100 requested sky sources (53%)\n",
      "INFO 2024-02-06T23:11:55.808321+00:00 lsst.calibrate.deblend sourceDeblendTask.py:326 - Deblending 236 sources\n",
      "WARNING 2024-02-06T23:11:55.877022+00:00 lsst.calibrate.deblend sourceDeblendTask.py:356 - Parent 405678988460063: skipping large footprint (area: 7395045)\n",
      "WARNING 2024-02-06T23:11:55.877409+00:00 lsst.calibrate.deblend sourceDeblendTask.py:356 - Parent 405678988460068: skipping large footprint (area: 11631)\n",
      "INFO 2024-02-06T23:11:55.972326+00:00 lsst.calibrate.deblend sourceDeblendTask.py:495 - Deblended: of 236 sources, 25 were deblended, creating 67 children, total 303 sources\n",
      "INFO 2024-02-06T23:11:56.616336+00:00 lsst.calibrate.measurement sfm.py:292 - Measuring 303 sources (236 parents, 67 children) \n",
      "WARNING 2024-02-06T23:11:56.679542+00:00 py.warnings warnings.py:109 - /cvmfs/sw.lsst.eu/linux-x86_64/lsst_distrib/w_2024_03/conda/envs/lsst-scipipe-8.0.0-exact/share/eups/Linux64/meas_extensions_shapeHSM/gb3ef3c6f46+21b0ba5f88/python/lsst/meas/extensions/shapeHSM/_hsm_higher_moments.py:211: RuntimeWarning: invalid value encountered in scalar divide\n",
      "  results[(p, q)] = np.sum(std_x_powers[p] * std_y_powers[q] * image_weight) / normalization\n",
      "\n",
      "INFO 2024-02-06T23:12:18.737658+00:00 lsst.calibrate.applyApCorr applyApCorr.py:238 - Applying aperture corrections to 3 instFlux fields\n",
      "INFO 2024-02-06T23:12:18.763402+00:00 lsst.calibrate calibrate.py:771 - Copying flags from icSourceCat to sourceCat for 29 sources\n",
      "INFO 2024-02-06T23:12:18.765411+00:00 lsst.calibrate.astrometry.sourceSelector sourceSelector.py:638 - Selected 22/303 sources\n",
      "INFO 2024-02-06T23:12:18.765643+00:00 lsst.calibrate.astrometry astrometry.py:227 - Purged 281 sources, leaving 22 good sources\n",
      "INFO 2024-02-06T23:12:18.766141+00:00 lsst.calibrate loadReferenceObjects.py:657 - Loading reference objects from ps1_pv3_3pi_20170110 in region bounded by [149.40056623, 149.52617076], [1.77713698, 1.99307309] RA Dec\n",
      "INFO 2024-02-06T23:12:18.924694+00:00 lsst.calibrate loadReferenceObjects.py:701 - Loaded 1674 reference objects\n",
      "WARNING 2024-02-06T23:12:18.925907+00:00 lsst.calibrate loadReferenceObjects.py:241 - Reference catalog pm_ra field is not an Angle; cannot apply proper motion.\n",
      "INFO 2024-02-06T23:12:18.930805+00:00 lsst.calibrate.astrometry.referenceSelector sourceSelector.py:704 - Selected 1674/1674 references\n",
      "INFO 2024-02-06T23:12:19.542892+00:00 lsst.calibrate.astrometry.matcher matchPessimisticB.py:304 - Matched 17 sources\n",
      "INFO 2024-02-06T23:12:20.125422+00:00 lsst.calibrate.astrometry.matcher matchPessimisticB.py:304 - Matched 19 sources\n",
      "INFO 2024-02-06T23:12:20.678035+00:00 lsst.calibrate.astrometry.matcher matchPessimisticB.py:304 - Matched 19 sources\n",
      "INFO 2024-02-06T23:12:21.032413+00:00 lsst.calibrate.astrometry astrometry.py:280 - Fit WCS iter 3 failed; using previous iteration: Fit failed: median scatter on sky = 22.445 arcsec > 10.000 config.maxScatterArcsec\n",
      "INFO 2024-02-06T23:12:21.032783+00:00 lsst.calibrate.astrometry astrometry.py:308 - Matched and fit WCS in 2 iterations; found 19 matches with mean and scatter = 5.571 +- 2.782 arcsec\n",
      "INFO 2024-02-06T23:12:21.032974+00:00 lsst.calibrate.astrometry astrometry.py:313 - Assigning as a fit failure: mean on-sky distance = 5.571 arcsec > 0.500 (maxMeanDistanceArcsec)\n",
      "WARNING 2024-02-06T23:12:21.033115+00:00 lsst.calibrate.astrometry astrometry.py:319 - WCS fit failed.  Setting exposure's WCS to None and coord_ra & coord_dec cols in sourceCat to nan.\n",
      "ERROR 2024-02-06T23:12:21.034147+00:00 lsst.ctrl.mpexec.singleQuantumExecutor singleQuantumExecutor.py:266 - Execution of task 'calibrate' on quantum {instrument: 'HSC', detector: 109, visit: 944, band: 'i', physical_filter: 'HSC-I'} failed. Exception RuntimeError: WCS fit failed for {instrument: 'HSC', detector: 109, visit: 944, band: 'i', physical_filter: 'HSC-I'} and requireAstrometry is True.\n"
     ]
    }
   ],
   "source": [
    "for l in log:\n",
    "    print(l)"
   ]
  },
  {
   "cell_type": "code",
   "execution_count": 17,
   "id": "5336062d-201a-4847-8045-ee88cc1616fe",
   "metadata": {
    "execution": {
     "iopub.execute_input": "2024-04-22T22:44:36.382694Z",
     "iopub.status.busy": "2024-04-22T22:44:36.382574Z",
     "iopub.status.idle": "2024-04-22T22:44:36.426808Z",
     "shell.execute_reply": "2024-04-22T22:44:36.426414Z",
     "shell.execute_reply.started": "2024-04-22T22:44:36.382683Z"
    },
    "tags": []
   },
   "outputs": [],
   "source": [
    "# remove all digits\n",
    "messages = [re.sub('\\d', '', e.message) for e in errors]\n",
    "df = pd.DataFrame(messages)\n",
    "df.columns = [\"message\"]\n",
    "\n",
    "mdc = [e.MDC for e in errors]\n",
    "df['mdc'] = mdc\n",
    "df2 = df.groupby('message')['mdc'].apply(list).reset_index()"
   ]
  },
  {
   "cell_type": "code",
   "execution_count": 21,
   "id": "e71bb921-66a5-4205-a2ae-f2ebf3106c90",
   "metadata": {
    "execution": {
     "iopub.execute_input": "2024-04-22T22:54:42.397778Z",
     "iopub.status.busy": "2024-04-22T22:54:42.397512Z",
     "iopub.status.idle": "2024-04-22T22:54:42.405715Z",
     "shell.execute_reply": "2024-04-22T22:54:42.405416Z",
     "shell.execute_reply.started": "2024-04-22T22:54:42.397765Z"
    }
   },
   "outputs": [
    {
     "data": {
      "text/html": [
       "<div>\n",
       "<style scoped>\n",
       "    .dataframe tbody tr th:only-of-type {\n",
       "        vertical-align: middle;\n",
       "    }\n",
       "\n",
       "    .dataframe tbody tr th {\n",
       "        vertical-align: top;\n",
       "    }\n",
       "\n",
       "    .dataframe thead th {\n",
       "        text-align: right;\n",
       "    }\n",
       "</style>\n",
       "<table border=\"1\" class=\"dataframe\">\n",
       "  <thead>\n",
       "    <tr style=\"text-align: right;\">\n",
       "      <th></th>\n",
       "      <th>mdc</th>\n",
       "    </tr>\n",
       "    <tr>\n",
       "      <th>message</th>\n",
       "      <th></th>\n",
       "    </tr>\n",
       "  </thead>\n",
       "  <tbody>\n",
       "    <tr>\n",
       "      <th>Execution of task 'calibrate' on quantum {instrument: 'HSC', detector: , visit: , band: 'g', physical_filter: 'HSC-G'} failed. Exception IndexError: arrays used as indices must be of integer (or boolean) type</th>\n",
       "      <td>1</td>\n",
       "    </tr>\n",
       "    <tr>\n",
       "      <th>Execution of task 'calibrate' on quantum {instrument: 'HSC', detector: , visit: , band: 'g', physical_filter: 'HSC-G'} failed. Exception RuntimeError: No matches to use for photocal</th>\n",
       "      <td>33</td>\n",
       "    </tr>\n",
       "    <tr>\n",
       "      <th>Execution of task 'calibrate' on quantum {instrument: 'HSC', detector: , visit: , band: 'g', physical_filter: 'HSC-G'} failed. Exception RuntimeError: WCS fit failed for {instrument: 'HSC', detector: , visit: , band: 'g', physical_filter: 'HSC-G'} and requireAstrometry is True.</th>\n",
       "      <td>1202</td>\n",
       "    </tr>\n",
       "    <tr>\n",
       "      <th>Execution of task 'calibrate' on quantum {instrument: 'HSC', detector: , visit: , band: 'i', physical_filter: 'HSC-I'} failed. Exception IndexError: arrays used as indices must be of integer (or boolean) type</th>\n",
       "      <td>25</td>\n",
       "    </tr>\n",
       "    <tr>\n",
       "      <th>Execution of task 'calibrate' on quantum {instrument: 'HSC', detector: , visit: , band: 'i', physical_filter: 'HSC-I'} failed. Exception RuntimeError: No matches to use for photocal</th>\n",
       "      <td>262</td>\n",
       "    </tr>\n",
       "    <tr>\n",
       "      <th>Execution of task 'calibrate' on quantum {instrument: 'HSC', detector: , visit: , band: 'i', physical_filter: 'HSC-I'} failed. Exception RuntimeError: WCS fit failed for {instrument: 'HSC', detector: , visit: , band: 'i', physical_filter: 'HSC-I'} and requireAstrometry is True.</th>\n",
       "      <td>1187</td>\n",
       "    </tr>\n",
       "    <tr>\n",
       "      <th>Execution of task 'calibrate' on quantum {instrument: 'HSC', detector: , visit: , band: 'r', physical_filter: 'HSC-R'} failed. Exception IndexError: arrays used as indices must be of integer (or boolean) type</th>\n",
       "      <td>6</td>\n",
       "    </tr>\n",
       "    <tr>\n",
       "      <th>Execution of task 'calibrate' on quantum {instrument: 'HSC', detector: , visit: , band: 'r', physical_filter: 'HSC-R'} failed. Exception RuntimeError: No matches to use for photocal</th>\n",
       "      <td>49</td>\n",
       "    </tr>\n",
       "    <tr>\n",
       "      <th>Execution of task 'calibrate' on quantum {instrument: 'HSC', detector: , visit: , band: 'r', physical_filter: 'HSC-R'} failed. Exception RuntimeError: WCS fit failed for {instrument: 'HSC', detector: , visit: , band: 'r', physical_filter: 'HSC-R'} and requireAstrometry is True.</th>\n",
       "      <td>2032</td>\n",
       "    </tr>\n",
       "    <tr>\n",
       "      <th>Execution of task 'calibrate' on quantum {instrument: 'HSC', detector: , visit: , band: 'y', physical_filter: 'HSC-Y'} failed. Exception IndexError: arrays used as indices must be of integer (or boolean) type</th>\n",
       "      <td>1</td>\n",
       "    </tr>\n",
       "    <tr>\n",
       "      <th>Execution of task 'calibrate' on quantum {instrument: 'HSC', detector: , visit: , band: 'y', physical_filter: 'HSC-Y'} failed. Exception RuntimeError: No matches to use for photocal</th>\n",
       "      <td>94</td>\n",
       "    </tr>\n",
       "    <tr>\n",
       "      <th>Execution of task 'calibrate' on quantum {instrument: 'HSC', detector: , visit: , band: 'y', physical_filter: 'HSC-Y'} failed. Exception RuntimeError: WCS fit failed for {instrument: 'HSC', detector: , visit: , band: 'y', physical_filter: 'HSC-Y'} and requireAstrometry is True.</th>\n",
       "      <td>1447</td>\n",
       "    </tr>\n",
       "    <tr>\n",
       "      <th>Execution of task 'calibrate' on quantum {instrument: 'HSC', detector: , visit: , band: 'z', physical_filter: 'HSC-Z'} failed. Exception IndexError: arrays used as indices must be of integer (or boolean) type</th>\n",
       "      <td>5</td>\n",
       "    </tr>\n",
       "    <tr>\n",
       "      <th>Execution of task 'calibrate' on quantum {instrument: 'HSC', detector: , visit: , band: 'z', physical_filter: 'HSC-Z'} failed. Exception RuntimeError: No matches to use for photocal</th>\n",
       "      <td>160</td>\n",
       "    </tr>\n",
       "    <tr>\n",
       "      <th>Execution of task 'calibrate' on quantum {instrument: 'HSC', detector: , visit: , band: 'z', physical_filter: 'HSC-Z'} failed. Exception RuntimeError: WCS fit failed for {instrument: 'HSC', detector: , visit: , band: 'z', physical_filter: 'HSC-Z'} and requireAstrometry is True.</th>\n",
       "      <td>1586</td>\n",
       "    </tr>\n",
       "  </tbody>\n",
       "</table>\n",
       "</div>"
      ],
      "text/plain": [
       "                                                     mdc\n",
       "message                                                 \n",
       "Execution of task 'calibrate' on quantum {instr...     1\n",
       "Execution of task 'calibrate' on quantum {instr...    33\n",
       "Execution of task 'calibrate' on quantum {instr...  1202\n",
       "Execution of task 'calibrate' on quantum {instr...    25\n",
       "Execution of task 'calibrate' on quantum {instr...   262\n",
       "Execution of task 'calibrate' on quantum {instr...  1187\n",
       "Execution of task 'calibrate' on quantum {instr...     6\n",
       "Execution of task 'calibrate' on quantum {instr...    49\n",
       "Execution of task 'calibrate' on quantum {instr...  2032\n",
       "Execution of task 'calibrate' on quantum {instr...     1\n",
       "Execution of task 'calibrate' on quantum {instr...    94\n",
       "Execution of task 'calibrate' on quantum {instr...  1447\n",
       "Execution of task 'calibrate' on quantum {instr...     5\n",
       "Execution of task 'calibrate' on quantum {instr...   160\n",
       "Execution of task 'calibrate' on quantum {instr...  1586"
      ]
     },
     "execution_count": 21,
     "metadata": {},
     "output_type": "execute_result"
    }
   ],
   "source": [
    "df.groupby('message').count()"
   ]
  },
  {
   "cell_type": "code",
   "execution_count": null,
   "id": "1e29a106-8368-4737-b4c0-eba3389e64cb",
   "metadata": {},
   "outputs": [],
   "source": [
    "# How to reproduce:\n",
    "# pipetask run -b /sdf/group/rubin/repo/main -i HSC/raw/all,HSC/runs/PDR2/v24_1_0/DM-39132/ancillary -o u/yusra/HSC/PDR2/how_to_reproduce -d \"exposure=84526 and detector=90\" -p $DRP_PIPE_DIR/pipelines/HSC/DRP-RC2.yaml#isr"
   ]
  },
  {
   "cell_type": "code",
   "execution_count": 23,
   "id": "d043d609-6a99-4ad3-98f4-950e539be547",
   "metadata": {
    "execution": {
     "iopub.execute_input": "2024-04-22T22:57:44.025498Z",
     "iopub.status.busy": "2024-04-22T22:57:44.025364Z",
     "iopub.status.idle": "2024-04-22T22:57:44.028663Z",
     "shell.execute_reply": "2024-04-22T22:57:44.028304Z",
     "shell.execute_reply.started": "2024-04-22T22:57:44.025486Z"
    }
   },
   "outputs": [
    {
     "name": "stdout",
     "output_type": "stream",
     "text": [
      "{instrument: 'HSC', detector: 106, visit: 34244, band: 'g', physical_filter: 'HSC-G'}\n",
      "{instrument: 'HSC', detector: 111, visit: 15302, band: 'g', physical_filter: 'HSC-G'}\n",
      "{instrument: 'HSC', detector: 110, visit: 42346, band: 'g', physical_filter: 'HSC-G'}\n",
      "{instrument: 'HSC', detector: 110, visit: 11702, band: 'g', physical_filter: 'HSC-G'}\n",
      "{instrument: 'HSC', detector: 109, visit: 85720, band: 'g', physical_filter: 'HSC-G'}\n",
      "{instrument: 'HSC', detector: 108, visit: 34238, band: 'g', physical_filter: 'HSC-G'}\n",
      "{instrument: 'HSC', detector: 110, visit: 11642, band: 'g', physical_filter: 'HSC-G'}\n",
      "{instrument: 'HSC', detector: 111, visit: 6336, band: 'g', physical_filter: 'HSC-G'}\n",
      "{instrument: 'HSC', detector: 106, visit: 25858, band: 'g', physical_filter: 'HSC-G'}\n",
      "{instrument: 'HSC', detector: 110, visit: 11684, band: 'g', physical_filter: 'HSC-G'}\n",
      "{instrument: 'HSC', detector: 110, visit: 9834, band: 'g', physical_filter: 'HSC-G'}\n",
      "{instrument: 'HSC', detector: 106, visit: 85540, band: 'g', physical_filter: 'HSC-G'}\n",
      "{instrument: 'HSC', detector: 106, visit: 34238, band: 'g', physical_filter: 'HSC-G'}\n",
      "{instrument: 'HSC', detector: 109, visit: 25960, band: 'g', physical_filter: 'HSC-G'}\n",
      "{instrument: 'HSC', detector: 106, visit: 25972, band: 'g', physical_filter: 'HSC-G'}\n",
      "{instrument: 'HSC', detector: 111, visit: 9852, band: 'g', physical_filter: 'HSC-G'}\n",
      "{instrument: 'HSC', detector: 109, visit: 19218, band: 'g', physical_filter: 'HSC-G'}\n",
      "{instrument: 'HSC', detector: 106, visit: 25954, band: 'g', physical_filter: 'HSC-G'}\n",
      "{instrument: 'HSC', detector: 110, visit: 34424, band: 'g', physical_filter: 'HSC-G'}\n",
      "{instrument: 'HSC', detector: 108, visit: 42470, band: 'g', physical_filter: 'HSC-G'}\n",
      "{instrument: 'HSC', detector: 109, visit: 25880, band: 'g', physical_filter: 'HSC-G'}\n",
      "{instrument: 'HSC', detector: 104, visit: 85548, band: 'g', physical_filter: 'HSC-G'}\n",
      "{instrument: 'HSC', detector: 111, visit: 34504, band: 'g', physical_filter: 'HSC-G'}\n",
      "{instrument: 'HSC', detector: 108, visit: 34316, band: 'g', physical_filter: 'HSC-G'}\n",
      "{instrument: 'HSC', detector: 104, visit: 34358, band: 'g', physical_filter: 'HSC-G'}\n",
      "{instrument: 'HSC', detector: 107, visit: 34244, band: 'g', physical_filter: 'HSC-G'}\n",
      "{instrument: 'HSC', detector: 105, visit: 103052, band: 'g', physical_filter: 'HSC-G'}\n",
      "{instrument: 'HSC', detector: 105, visit: 85616, band: 'g', physical_filter: 'HSC-G'}\n",
      "{instrument: 'HSC', detector: 108, visit: 29456, band: 'g', physical_filter: 'HSC-G'}\n",
      "{instrument: 'HSC', detector: 110, visit: 34218, band: 'g', physical_filter: 'HSC-G'}\n",
      "{instrument: 'HSC', detector: 111, visit: 25852, band: 'g', physical_filter: 'HSC-G'}\n",
      "{instrument: 'HSC', detector: 105, visit: 19194, band: 'g', physical_filter: 'HSC-G'}\n",
      "{instrument: 'HSC', detector: 109, visit: 25856, band: 'g', physical_filter: 'HSC-G'}\n"
     ]
    }
   ],
   "source": [
    "# To make lists of dataIds to attach to tickets:\n",
    "\n",
    "# first error \n",
    "INDEX = 1\n",
    "\n",
    "with open(\"/sdf/group/rubin/u/yusra/dataIds.txt\", \"w\") as f:\n",
    "for element in  [e['LABEL'] for e in df2.iloc[INDEX].mdc]:\n",
    "    # print(element.replace(\"calibrate:\",\"\").replace(\"...\",\"\"))\n",
    "    f.write(element.replace(\"calibrate:\",\"\").replace(\"...\",\"\"))\n",
    "    f.write(\"\\n\")"
   ]
  }
 ],
 "metadata": {
  "kernelspec": {
   "display_name": "LSST",
   "language": "python",
   "name": "lsst"
  },
  "language_info": {
   "codemirror_mode": {
    "name": "ipython",
    "version": 3
   },
   "file_extension": ".py",
   "mimetype": "text/x-python",
   "name": "python",
   "nbconvert_exporter": "python",
   "pygments_lexer": "ipython3",
   "version": "3.11.7"
  }
 },
 "nbformat": 4,
 "nbformat_minor": 5
}
