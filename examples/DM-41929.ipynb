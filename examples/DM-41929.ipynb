{
 "cells": [
  {
   "cell_type": "code",
   "execution_count": 1,
   "id": "eb436a37-44dc-4126-9d79-79d529d6c585",
   "metadata": {
    "execution": {
     "iopub.execute_input": "2023-12-16T05:09:13.226726Z",
     "iopub.status.busy": "2023-12-16T05:09:13.226437Z",
     "iopub.status.idle": "2023-12-16T05:09:20.637579Z",
     "shell.execute_reply": "2023-12-16T05:09:20.637127Z",
     "shell.execute_reply.started": "2023-12-16T05:09:13.226712Z"
    }
   },
   "outputs": [],
   "source": [
    "from lsst.summit.utils.bestEffort import BestEffortIsr\n",
    "bestEffort = BestEffortIsr(embargo=True)"
   ]
  },
  {
   "cell_type": "code",
   "execution_count": 2,
   "id": "b6f6591f-ad57-4abf-a082-3d42890697f9",
   "metadata": {
    "execution": {
     "iopub.execute_input": "2023-12-16T05:09:20.638631Z",
     "iopub.status.busy": "2023-12-16T05:09:20.638501Z",
     "iopub.status.idle": "2023-12-16T05:09:20.640899Z",
     "shell.execute_reply": "2023-12-16T05:09:20.640515Z",
     "shell.execute_reply.started": "2023-12-16T05:09:20.638618Z"
    }
   },
   "outputs": [],
   "source": [
    "dataId = {\"day_obs\": 20231212, \"seq_num\": 652, \"detector\": 0}"
   ]
  },
  {
   "cell_type": "code",
   "execution_count": 3,
   "id": "547a872f-6928-4b92-911b-6d8122441b2a",
   "metadata": {
    "execution": {
     "iopub.execute_input": "2023-12-16T05:09:20.641490Z",
     "iopub.status.busy": "2023-12-16T05:09:20.641371Z",
     "iopub.status.idle": "2023-12-16T05:09:20.833588Z",
     "shell.execute_reply": "2023-12-16T05:09:20.833170Z",
     "shell.execute_reply.started": "2023-12-16T05:09:20.641479Z"
    }
   },
   "outputs": [],
   "source": [
    "import lsst.summit.utils.butlerUtils as butlerUtils\n",
    "butler = butlerUtils.makeDefaultLatissButler(embargo=True)"
   ]
  },
  {
   "cell_type": "code",
   "execution_count": 4,
   "id": "7cc2eac8-2c02-4a9c-837b-888505a68771",
   "metadata": {
    "execution": {
     "iopub.execute_input": "2023-12-16T05:09:20.834280Z",
     "iopub.status.busy": "2023-12-16T05:09:20.834151Z",
     "iopub.status.idle": "2023-12-16T05:09:22.121333Z",
     "shell.execute_reply": "2023-12-16T05:09:22.120898Z",
     "shell.execute_reply.started": "2023-12-16T05:09:20.834267Z"
    }
   },
   "outputs": [],
   "source": [
    "exp = bestEffort.getExposure(dataId)\n",
    "record = butlerUtils.getExpRecordFromDataId(butler, dataId)"
   ]
  },
  {
   "cell_type": "code",
   "execution_count": 5,
   "id": "747e1578-d79f-4e9c-8d86-7da1befe9bf7",
   "metadata": {
    "execution": {
     "iopub.execute_input": "2023-12-16T05:09:22.122589Z",
     "iopub.status.busy": "2023-12-16T05:09:22.122459Z",
     "iopub.status.idle": "2023-12-16T05:09:56.914886Z",
     "shell.execute_reply": "2023-12-16T05:09:56.914441Z",
     "shell.execute_reply.started": "2023-12-16T05:09:22.122576Z"
    }
   },
   "outputs": [
    {
     "name": "stdout",
     "output_type": "stream",
     "text": [
      "Running CalibrateCcd runner at slac_testing...\n"
     ]
    },
    {
     "name": "stderr",
     "output_type": "stream",
     "text": [
      "WARNING:py.warnings:/sdf/group/rubin/u/yusra/DM-41929/rubintv_production/python/lsst/rubintv/production/baseChannels.py:153: FutureWarning: Call to deprecated function (or staticmethod) datasetExists. (datasExists has been replaced by Butler.exists(). Will be removed after v26.0.) -- Deprecated since version v26.0.\n",
      "  if butlerUtils.datasetExists(self.butler, self.dataProduct, dataId):\n",
      "\n",
      "WARNING:lsst.characterizeImage.measurePsf.makePsfCandidates:Could not get stamp for psfCandidate with source id=13: center=(4044.5888671875,304.84173583984375), status=UNKNOWN, rating=3549.4900947699884, size=(71, 71), chi2=1.7976931348623157e+308, amplitude=0.0\n",
      "WARNING:lsst.characterizeImage.measurePsf.makePsfCandidates:Could not get stamp for psfCandidate with source id=26: center=(4047.01904296875,480.8373107910156), status=UNKNOWN, rating=3148.2296019147598, size=(71, 71), chi2=1.7976931348623157e+308, amplitude=0.0\n",
      "WARNING:lsst.characterizeImage.measurePsf.makePsfCandidates:Could not get stamp for psfCandidate with source id=146: center=(4050.05419921875,3060.639404296875), status=UNKNOWN, rating=4807.950674541174, size=(71, 71), chi2=1.7976931348623157e+308, amplitude=0.0\n",
      "WARNING:lsst.characterizeImage.measurePsf.makePsfCandidates:Could not get stamp for psfCandidate with source id=195: center=(2539.48876953125,3968.914794921875), status=UNKNOWN, rating=5174.02629890957, size=(71, 71), chi2=1.7976931348623157e+308, amplitude=0.0\n",
      "WARNING:lsst.characterizeImage.measurePsf.makePsfCandidates:Could not get stamp for psfCandidate with source id=149: center=(4037.1728515625,2427.076171875), status=UNKNOWN, rating=5892.196094897132, size=(71, 71), chi2=1.7976931348623157e+308, amplitude=0.0\n",
      "WARNING:lsst.characterizeImage.measurePsf.makePsfCandidates:Could not get stamp for psfCandidate with source id=244: center=(3658.0,3966.0), status=UNKNOWN, rating=5917.192237706206, size=(71, 71), chi2=1.7976931348623157e+308, amplitude=0.0\n",
      "ERROR:lsst.rubintv.production.auxtel_calibrateCcd:No reference tables could be found for input region\n",
      "Traceback (most recent call last):\n",
      "  File \"/sdf/group/rubin/u/yusra/DM-41929/rubintv_production/python/lsst/rubintv/production/rubinTv.py\", line 862, in callback\n",
      "    calibrateRes = self.calibrate.run(charRes.exposure,\n",
      "                   ^^^^^^^^^^^^^^^^^^^^^^^^^^^^^^^^^^^^\n",
      "  File \"/opt/lsst/software/stack/stack/miniconda3-py38_4.9.2-7.0.1/Linux64/utils/gd9c83c13ba+81bc2a20b4/python/lsst/utils/timer.py\", line 300, in timeMethod_wrapper\n",
      "    res = func(self, *args, **keyArgs)\n",
      "          ^^^^^^^^^^^^^^^^^^^^^^^^^^^^\n",
      "  File \"/opt/lsst/software/stack/stack/miniconda3-py38_4.9.2-7.0.1/Linux64/pipe_tasks/gd151e6f194+8426de5ab5/python/lsst/pipe/tasks/calibrate.py\", line 603, in run\n",
      "    astromRes = self.astrometry.run(\n",
      "                ^^^^^^^^^^^^^^^^^^^^\n",
      "  File \"/opt/lsst/software/stack/stack/miniconda3-py38_4.9.2-7.0.1/Linux64/utils/gd9c83c13ba+81bc2a20b4/python/lsst/utils/timer.py\", line 300, in timeMethod_wrapper\n",
      "    res = func(self, *args, **keyArgs)\n",
      "          ^^^^^^^^^^^^^^^^^^^^^^^^^^^^\n",
      "  File \"/opt/lsst/software/stack/stack/miniconda3-py38_4.9.2-7.0.1/Linux64/meas_astrom/gf1cff7945b+88b164628e/python/lsst/meas/astrom/astrometry.py\", line 185, in run\n",
      "    res = self.solve(exposure=exposure, sourceCat=sourceCat)\n",
      "          ^^^^^^^^^^^^^^^^^^^^^^^^^^^^^^^^^^^^^^^^^^^^^^^^^^\n",
      "  File \"/opt/lsst/software/stack/stack/miniconda3-py38_4.9.2-7.0.1/Linux64/utils/gd9c83c13ba+81bc2a20b4/python/lsst/utils/timer.py\", line 300, in timeMethod_wrapper\n",
      "    res = func(self, *args, **keyArgs)\n",
      "          ^^^^^^^^^^^^^^^^^^^^^^^^^^^^\n",
      "  File \"/opt/lsst/software/stack/stack/miniconda3-py38_4.9.2-7.0.1/Linux64/meas_astrom/gf1cff7945b+88b164628e/python/lsst/meas/astrom/astrometry.py\", line 231, in solve\n",
      "    loadRes = self.refObjLoader.loadPixelBox(\n",
      "              ^^^^^^^^^^^^^^^^^^^^^^^^^^^^^^^\n",
      "  File \"/opt/lsst/software/stack/stack/miniconda3-py38_4.9.2-7.0.1/Linux64/meas_algorithms/g33a09d4741+4a8f921266/python/lsst/meas/algorithms/loadReferenceObjects.py\", line 603, in loadPixelBox\n",
      "    return self.loadRegion(outerSkyRegion, filterName, filtFunc=_filterFunction, epoch=epoch)\n",
      "           ^^^^^^^^^^^^^^^^^^^^^^^^^^^^^^^^^^^^^^^^^^^^^^^^^^^^^^^^^^^^^^^^^^^^^^^^^^^^^^^^^^\n",
      "  File \"/opt/lsst/software/stack/stack/miniconda3-py38_4.9.2-7.0.1/Linux64/meas_algorithms/g33a09d4741+4a8f921266/python/lsst/meas/algorithms/loadReferenceObjects.py\", line 678, in loadRegion\n",
      "    raise RuntimeError(\"No reference tables could be found for input region\")\n",
      "RuntimeError: No reference tables could be found for input region\n"
     ]
    }
   ],
   "source": [
    "from importlib import reload\n",
    "import lsst.rubintv.production.rubinTv\n",
    "reload(lsst.rubintv.production.rubinTv)\n",
    "#from lsst.rubintv.production import CalibrateCcdRunner\n",
    "from lsst.rubintv.production.utils import checkRubinTvExternalPackages, LocationConfig\n",
    "from lsst.summit.utils.utils import setupLogging\n",
    "\n",
    "setupLogging()\n",
    "checkRubinTvExternalPackages()\n",
    "\n",
    "location = 'slac_testing'\n",
    "locationConfig = LocationConfig(location)\n",
    "print(f'Running CalibrateCcd runner at {location}...')\n",
    "channel = lsst.rubintv.production.rubinTv.CalibrateCcdRunner(locationConfig=locationConfig,\n",
    "                             instrument='LATISS',\n",
    "                             embargo=True\n",
    "                             )\n",
    "\n",
    "channel.callback(record)"
   ]
  },
  {
   "cell_type": "markdown",
   "id": "cfa90908-6c3e-42ef-a6cf-928f4f7f448b",
   "metadata": {},
   "source": [
    "I confirmed that ^^^ works if I switch to \"gaia_dr2_20200414\" but I want to try to get dr3 working first, especially because looking at the RubinTV history it looks like CalibrateCcdRunner DID WORK for a period after we switched to gaia_dr3 on Sept 15. \n",
    "\n",
    "### So why can't it find \"gaia_dr3_20230707\"?\n",
    "\n",
    "I confirmed that this works fine with  d_2023_12_13 \n",
    "```\n",
    "pipetask run -b /repo/embargo -p $DRP_PIPE_DIR/pipelines/LATISS/DRP.yaml#isr,characterizeImage,calibrate -i LATISS/raw/all,LATISS/calib,LATISS/runs/quickLook  -o u/yusra/DM-41929 -d \"exposure.day_obs = 20231212 AND exposure.seq_num=652\n",
    "```"
   ]
  },
  {
   "cell_type": "code",
   "execution_count": 6,
   "id": "6d957cea-1172-4804-9b83-b830892ed906",
   "metadata": {
    "execution": {
     "iopub.execute_input": "2023-12-16T05:09:56.915603Z",
     "iopub.status.busy": "2023-12-16T05:09:56.915462Z",
     "iopub.status.idle": "2023-12-16T05:09:56.963685Z",
     "shell.execute_reply": "2023-12-16T05:09:56.963294Z",
     "shell.execute_reply.started": "2023-12-16T05:09:56.915589Z"
    }
   },
   "outputs": [
    {
     "data": {
      "text/plain": [
       "set()"
      ]
     },
     "execution_count": 6,
     "metadata": {},
     "output_type": "execute_result"
    }
   ],
   "source": [
    "# nothing..\n",
    "set(butler.registry.queryDatasets(\"gaia_dr3_20230707\", dataId=channel.getVisitDataId(record)).expanded())"
   ]
  },
  {
   "cell_type": "code",
   "execution_count": 7,
   "id": "ce47ff7b-474a-40d5-af7d-725e491c3bef",
   "metadata": {
    "execution": {
     "iopub.execute_input": "2023-12-16T05:09:56.964387Z",
     "iopub.status.busy": "2023-12-16T05:09:56.964252Z",
     "iopub.status.idle": "2023-12-16T05:09:57.030243Z",
     "shell.execute_reply": "2023-12-16T05:09:57.029853Z",
     "shell.execute_reply.started": "2023-12-16T05:09:56.964374Z"
    }
   },
   "outputs": [
    {
     "data": {
      "text/plain": [
       "{DatasetRef(DatasetType('gaia_dr2_20200414', {htm7}, SimpleCatalog), {htm7: 162888}, run='refcats/DM-28636', id=2ba04f87-dbc5-473c-8362-782525f8549c)}"
      ]
     },
     "execution_count": 7,
     "metadata": {},
     "output_type": "execute_result"
    }
   ],
   "source": [
    "# something...\n",
    "set(butler.registry.queryDatasets(\"gaia_dr2_20200414\", dataId=channel.getVisitDataId(record)).expanded())"
   ]
  },
  {
   "cell_type": "code",
   "execution_count": 8,
   "id": "a9702cf0-355b-41eb-9f2e-6dc2803ff4ca",
   "metadata": {
    "execution": {
     "iopub.execute_input": "2023-12-16T05:09:57.030860Z",
     "iopub.status.busy": "2023-12-16T05:09:57.030731Z",
     "iopub.status.idle": "2023-12-16T05:09:57.595497Z",
     "shell.execute_reply": "2023-12-16T05:09:57.595077Z",
     "shell.execute_reply.started": "2023-12-16T05:09:57.030848Z"
    }
   },
   "outputs": [
    {
     "data": {
      "text/plain": [
       "set()"
      ]
     },
     "execution_count": 8,
     "metadata": {},
     "output_type": "execute_result"
    }
   ],
   "source": [
    "# and same if I make a butler from scratch\n",
    "from lsst.daf.butler import Butler\n",
    "plainButler = Butler(\"/repo/embargo\", collections=[\"LATISS/raw/all\",\"LATISS/calib\",\"LATISS/runs/quickLook\"])\n",
    "set(plainButler.registry.queryDatasets(\"gaia_dr3_20230707\", dataId=channel.getVisitDataId(record)).expanded())"
   ]
  },
  {
   "cell_type": "code",
   "execution_count": 9,
   "id": "eda90965-205b-4346-be1e-911b9b72dade",
   "metadata": {
    "execution": {
     "iopub.execute_input": "2023-12-16T05:09:57.596236Z",
     "iopub.status.busy": "2023-12-16T05:09:57.596100Z",
     "iopub.status.idle": "2023-12-16T05:09:57.658392Z",
     "shell.execute_reply": "2023-12-16T05:09:57.658037Z",
     "shell.execute_reply.started": "2023-12-16T05:09:57.596223Z"
    }
   },
   "outputs": [
    {
     "data": {
      "text/plain": [
       "{DatasetRef(DatasetType('gaia_dr2_20200414', {htm7}, SimpleCatalog), {htm7: 162888}, run='refcats/DM-28636', id=2ba04f87-dbc5-473c-8362-782525f8549c)}"
      ]
     },
     "execution_count": 9,
     "metadata": {},
     "output_type": "execute_result"
    }
   ],
   "source": [
    "set(plainButler.registry.queryDatasets(\"gaia_dr2_20200414\", dataId=channel.getVisitDataId(record)).expanded())"
   ]
  },
  {
   "cell_type": "markdown",
   "id": "0375951d-ea2e-4575-8e73-d2dc59d5057d",
   "metadata": {},
   "source": [
    "## Appendix. Already resolved.\n",
    "### Compare configs\n"
   ]
  },
  {
   "cell_type": "code",
   "execution_count": 10,
   "id": "e25e3240-03b9-4930-b1b3-f1c354f92af4",
   "metadata": {
    "execution": {
     "iopub.execute_input": "2023-12-16T05:09:57.659041Z",
     "iopub.status.busy": "2023-12-16T05:09:57.658907Z",
     "iopub.status.idle": "2023-12-16T05:09:58.093011Z",
     "shell.execute_reply": "2023-12-16T05:09:58.092515Z",
     "shell.execute_reply.started": "2023-12-16T05:09:57.659028Z"
    }
   },
   "outputs": [],
   "source": [
    "goodRun  = Butler(\"/repo/embargo\", collections=[\"u/yusra/DM-41929\"])\n",
    "config = goodRun.get(\"calibrate_config\")"
   ]
  },
  {
   "cell_type": "code",
   "execution_count": 13,
   "id": "d686f0f3-60e1-419f-9eb9-0bb014b3cd9e",
   "metadata": {
    "execution": {
     "iopub.execute_input": "2023-12-16T05:14:14.308176Z",
     "iopub.status.busy": "2023-12-16T05:14:14.307654Z",
     "iopub.status.idle": "2023-12-16T05:14:14.311327Z",
     "shell.execute_reply": "2023-12-16T05:14:14.310915Z",
     "shell.execute_reply.started": "2023-12-16T05:14:14.308162Z"
    }
   },
   "outputs": [],
   "source": [
    "def print_diff_keys_recursive(dict1, dict2, parent_key=''):\n",
    "    for key in dict1:\n",
    "        # Constructing the full key path\n",
    "        full_key = f\"{parent_key}.{key}\" if parent_key else key\n",
    "\n",
    "        # Check if the key is in the second dictionary\n",
    "        if key in dict2:\n",
    "            if isinstance(dict1[key], dict) and isinstance(dict2[key], dict):\n",
    "                # If both values are dictionaries, recurse\n",
    "                print_diff_keys_recursive(dict1[key], dict2[key], full_key)\n",
    "            elif dict1[key] != dict2[key]:\n",
    "                # If values are different and not dictionaries, print the key\n",
    "                print(full_key, dict1[key],  dict2[key])\n",
    "        else:\n",
    "            # If key is not in dict2, print the key\n",
    "            print(full_key)"
   ]
  },
  {
   "cell_type": "code",
   "execution_count": 14,
   "id": "884314e7-b19f-4bf4-9d33-6f581956f36c",
   "metadata": {
    "execution": {
     "iopub.execute_input": "2023-12-16T05:14:15.621524Z",
     "iopub.status.busy": "2023-12-16T05:14:15.620900Z",
     "iopub.status.idle": "2023-12-16T05:14:15.625466Z",
     "shell.execute_reply": "2023-12-16T05:14:15.625051Z",
     "shell.execute_reply.started": "2023-12-16T05:14:15.621509Z"
    }
   },
   "outputs": [
    {
     "name": "stdout",
     "output_type": "stream",
     "text": [
      "astrometry.sourceSelector.values.science.doIsolated True False\n",
      "astrometry.sourceSelector.values.science.doRequirePrimary True False\n",
      "doDeblend True False\n",
      "measurement.slots.shape ext_shapeHSM_HsmSourceMoments base_SdssShape\n",
      "measurement.slots.psfShape ext_shapeHSM_HsmPsfMoments base_SdssShape_psf\n",
      "measurement.plugins.names ['ext_shapeHSM_HsmPsfMoments', 'base_GaussianFlux', 'ext_photometryKron_KronFlux', 'base_Blendedness', 'base_SdssShape', 'base_NaiveCentroid', 'ext_shapeHSM_HsmSourceMomentsRound', 'base_SdssCentroid', 'base_PixelFlags', 'base_LocalBackground', 'ext_shapeHSM_HsmShapeRegauss', 'base_CircularApertureFlux', 'ext_shapeHSM_HsmPsfMomentsDebiased', 'ext_shapeHSM_HsmSourceMoments', 'base_Jacobian', 'base_SkyCoord', 'base_Variance', 'base_CompensatedGaussianFlux', 'base_FPPosition', 'base_PsfFlux'] ['base_LocalBackground', 'base_Jacobian', 'base_GaussianFlux', 'base_Variance', 'base_CircularApertureFlux', 'base_SdssShape', 'base_SkyCoord', 'base_CompensatedGaussianFlux', 'base_NaiveCentroid', 'base_FPPosition', 'base_PsfFlux', 'base_SdssCentroid', 'base_PixelFlags']\n",
      "doApCorr True False\n"
     ]
    }
   ],
   "source": [
    "print_diff_keys_recursive(config.toDict(), channel.calibrate.config.toDict())"
   ]
  },
  {
   "cell_type": "markdown",
   "id": "67eabfc9-7292-4742-b612-d2695bcea451",
   "metadata": {},
   "source": [
    "^^^ these differences make sense.\n",
    "\n",
    "\n",
    "I updated the measurment plugin overrides in response to these differences (we weren't picking up the results of the LATISS config sprint)\n",
    "```\n",
    "astrometry.sourceSelector.values.science.doIsolated True False\n",
    "astrometry.sourceSelector.values.science.doRequirePrimary True False\n",
    "doDeblend True False\n",
    "measurement.slots.shape ext_shapeHSM_HsmSourceMoments base_SdssShape\n",
    "measurement.slots.psfShape ext_shapeHSM_HsmPsfMoments base_SdssShape_psf\n",
    "measurement.slots.apFlux base_CircularApertureFlux_35_0 base_CircularApertureFlux_12_0\n",
    "measurement.slots.calibFlux base_CircularApertureFlux_35_0 base_CircularApertureFlux_12_0\n",
    "measurement.plugins.names ['base_CircularApertureFlux', 'base_PsfFlux', 'ext_shapeHSM_HsmSourceMomentsRound', 'base_NaiveCentroid', 'base_CompensatedGaussianFlux', 'base_Blendedness', 'ext_photometryKron_KronFlux', 'base_LocalBackground', 'ext_shapeHSM_HsmPsfMomentsDebiased', 'base_SdssCentroid', 'ext_shapeHSM_HsmSourceMoments', 'base_SdssShape', 'base_Variance', 'base_Jacobian', 'base_PixelFlags', 'base_GaussianFlux', 'ext_shapeHSM_HsmShapeRegauss', 'base_SkyCoord', 'ext_shapeHSM_HsmPsfMoments', 'base_FPPosition'] ['base_CircularApertureFlux', 'base_PsfFlux', 'base_SdssShape', 'base_Variance', 'base_NaiveCentroid', 'base_PixelFlags', 'base_SdssCentroid', 'base_CompensatedGaussianFlux', 'base_Blendedness', 'base_GaussianFlux', 'base_LocalBackground', 'base_SkyCoord']\n",
    "measurement.plugins.values.base_CircularApertureFlux.maxSincRadius 12.0 10.0\n",
    "measurement.plugins.values.base_Jacobian.pixelScale 0.1 0.5\n",
    "measurement.plugins.values.ext_shapeHSM_HsmShapeRegauss.deblendNChild deblend_nChild None\n",
    "doApCorr True False\n",
    "```"
   ]
  },
  {
   "cell_type": "code",
   "execution_count": null,
   "id": "d18d7fba-149c-4172-86b0-ac01595aef13",
   "metadata": {},
   "outputs": [],
   "source": []
  },
  {
   "cell_type": "code",
   "execution_count": null,
   "id": "d4d28a93-4e19-4498-8374-23725fa33c5d",
   "metadata": {},
   "outputs": [],
   "source": []
  }
 ],
 "metadata": {
  "kernelspec": {
   "display_name": "LSST",
   "language": "python",
   "name": "lsst"
  },
  "language_info": {
   "codemirror_mode": {
    "name": "ipython",
    "version": 3
   },
   "file_extension": ".py",
   "mimetype": "text/x-python",
   "name": "python",
   "nbconvert_exporter": "python",
   "pygments_lexer": "ipython3",
   "version": "3.11.6"
  }
 },
 "nbformat": 4,
 "nbformat_minor": 5
}
