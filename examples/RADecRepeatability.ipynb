{
 "cells": [
  {
   "cell_type": "markdown",
   "id": "8c819c4d-9d32-41e4-baac-2ceb3354aa56",
   "metadata": {},
   "source": [
    "# RA and Dec measurement repeatability in multiple visits on HSC precursor data\n",
    "\n",
    "is between 5 and 10 mas for g-band in tract 9813 with 17 overlapping visits. "
   ]
  },
  {
   "cell_type": "code",
   "execution_count": 1,
   "id": "bc0df3fb-68c5-43e0-a613-9425aebd3671",
   "metadata": {
    "execution": {
     "iopub.execute_input": "2024-01-23T05:00:17.078799Z",
     "iopub.status.busy": "2024-01-23T05:00:17.078675Z",
     "iopub.status.idle": "2024-01-23T05:00:18.412596Z",
     "shell.execute_reply": "2024-01-23T05:00:18.412150Z",
     "shell.execute_reply.started": "2024-01-23T05:00:17.078786Z"
    }
   },
   "outputs": [],
   "source": [
    "from lsst.daf.butler import Butler\n",
    "import seaborn as sns\n",
    "import matplotlib.pyplot as plt\n",
    "import pandas as pd\n",
    "import numpy as np\n",
    "import scipy.stats"
   ]
  },
  {
   "cell_type": "code",
   "execution_count": 2,
   "id": "5ea72bd2-2651-422e-97b3-47713afe8852",
   "metadata": {
    "execution": {
     "iopub.execute_input": "2024-01-23T05:00:18.413857Z",
     "iopub.status.busy": "2024-01-23T05:00:18.413482Z",
     "iopub.status.idle": "2024-01-23T05:00:18.659951Z",
     "shell.execute_reply": "2024-01-23T05:00:18.659467Z",
     "shell.execute_reply.started": "2024-01-23T05:00:18.413843Z"
    }
   },
   "outputs": [],
   "source": [
    "butler = Butler('/repo/main', collections=['HSC/runs/RC2/w_2023_50/DM-42194'])"
   ]
  },
  {
   "cell_type": "code",
   "execution_count": 3,
   "id": "d55c70c4-72c5-4c69-9b8f-1b6cdf474f32",
   "metadata": {
    "execution": {
     "iopub.execute_input": "2024-01-23T05:00:18.660679Z",
     "iopub.status.busy": "2024-01-23T05:00:18.660549Z",
     "iopub.status.idle": "2024-01-23T05:00:19.393504Z",
     "shell.execute_reply": "2024-01-23T05:00:19.393093Z",
     "shell.execute_reply.started": "2024-01-23T05:00:18.660666Z"
    }
   },
   "outputs": [
    {
     "data": {
      "text/html": [
       "<div>\n",
       "<style scoped>\n",
       "    .dataframe tbody tr th:only-of-type {\n",
       "        vertical-align: middle;\n",
       "    }\n",
       "\n",
       "    .dataframe tbody tr th {\n",
       "        vertical-align: top;\n",
       "    }\n",
       "\n",
       "    .dataframe thead th {\n",
       "        text-align: right;\n",
       "    }\n",
       "</style>\n",
       "<table border=\"1\" class=\"dataframe\">\n",
       "  <thead>\n",
       "    <tr style=\"text-align: right;\">\n",
       "      <th></th>\n",
       "      <th>index</th>\n",
       "      <th>sourceId</th>\n",
       "      <th>visit</th>\n",
       "      <th>detector</th>\n",
       "      <th>ra</th>\n",
       "      <th>dec</th>\n",
       "      <th>physical_filter</th>\n",
       "      <th>band</th>\n",
       "      <th>apFlux_12_0_instFlux</th>\n",
       "      <th>apFlux_12_0_instFluxErr</th>\n",
       "      <th>x</th>\n",
       "      <th>y</th>\n",
       "      <th>apFlux_17_0_instFlux</th>\n",
       "      <th>apFlux_17_0_instFluxErr</th>\n",
       "      <th>apFlux_17_0_flag</th>\n",
       "      <th>localBackground_instFlux</th>\n",
       "      <th>localBackground_flag</th>\n",
       "      <th>source_row</th>\n",
       "      <th>obj_index</th>\n",
       "    </tr>\n",
       "  </thead>\n",
       "  <tbody>\n",
       "    <tr>\n",
       "      <th>0</th>\n",
       "      <td>244632</td>\n",
       "      <td>527619552446040</td>\n",
       "      <td>1228</td>\n",
       "      <td>92</td>\n",
       "      <td>150.129075</td>\n",
       "      <td>2.743438</td>\n",
       "      <td>HSC-I</td>\n",
       "      <td>i</td>\n",
       "      <td>8133.591797</td>\n",
       "      <td>632.296448</td>\n",
       "      <td>2004.000408</td>\n",
       "      <td>3641.778809</td>\n",
       "      <td>6822.989223</td>\n",
       "      <td>898.264517</td>\n",
       "      <td>False</td>\n",
       "      <td>-1.185561</td>\n",
       "      <td>False</td>\n",
       "      <td>244632</td>\n",
       "      <td>0</td>\n",
       "    </tr>\n",
       "    <tr>\n",
       "      <th>1</th>\n",
       "      <td>241784</td>\n",
       "      <td>528480693387294</td>\n",
       "      <td>1230</td>\n",
       "      <td>93</td>\n",
       "      <td>150.129064</td>\n",
       "      <td>2.743446</td>\n",
       "      <td>HSC-I</td>\n",
       "      <td>i</td>\n",
       "      <td>8351.114258</td>\n",
       "      <td>641.694214</td>\n",
       "      <td>1068.663368</td>\n",
       "      <td>70.778924</td>\n",
       "      <td>7616.517079</td>\n",
       "      <td>915.194695</td>\n",
       "      <td>False</td>\n",
       "      <td>-0.776985</td>\n",
       "      <td>False</td>\n",
       "      <td>241784</td>\n",
       "      <td>0</td>\n",
       "    </tr>\n",
       "    <tr>\n",
       "      <th>2</th>\n",
       "      <td>239371</td>\n",
       "      <td>529326801945109</td>\n",
       "      <td>1232</td>\n",
       "      <td>87</td>\n",
       "      <td>150.129053</td>\n",
       "      <td>2.743435</td>\n",
       "      <td>HSC-I</td>\n",
       "      <td>i</td>\n",
       "      <td>7733.971680</td>\n",
       "      <td>623.501404</td>\n",
       "      <td>344.758315</td>\n",
       "      <td>974.894071</td>\n",
       "      <td>6565.768755</td>\n",
       "      <td>889.012677</td>\n",
       "      <td>False</td>\n",
       "      <td>-0.106671</td>\n",
       "      <td>False</td>\n",
       "      <td>239371</td>\n",
       "      <td>0</td>\n",
       "    </tr>\n",
       "    <tr>\n",
       "      <th>3</th>\n",
       "      <td>254977</td>\n",
       "      <td>531901634840734</td>\n",
       "      <td>1238</td>\n",
       "      <td>86</td>\n",
       "      <td>150.129056</td>\n",
       "      <td>2.743442</td>\n",
       "      <td>HSC-I</td>\n",
       "      <td>i</td>\n",
       "      <td>9163.507812</td>\n",
       "      <td>654.370667</td>\n",
       "      <td>71.158995</td>\n",
       "      <td>4009.655972</td>\n",
       "      <td>8916.701934</td>\n",
       "      <td>933.057782</td>\n",
       "      <td>False</td>\n",
       "      <td>0.069349</td>\n",
       "      <td>False</td>\n",
       "      <td>254977</td>\n",
       "      <td>0</td>\n",
       "    </tr>\n",
       "    <tr>\n",
       "      <th>4</th>\n",
       "      <td>238639</td>\n",
       "      <td>532775660683470</td>\n",
       "      <td>1240</td>\n",
       "      <td>93</td>\n",
       "      <td>150.129062</td>\n",
       "      <td>2.743433</td>\n",
       "      <td>HSC-I</td>\n",
       "      <td>i</td>\n",
       "      <td>9112.935547</td>\n",
       "      <td>680.429810</td>\n",
       "      <td>1260.889434</td>\n",
       "      <td>441.888885</td>\n",
       "      <td>7438.498795</td>\n",
       "      <td>967.657478</td>\n",
       "      <td>False</td>\n",
       "      <td>-0.819285</td>\n",
       "      <td>False</td>\n",
       "      <td>238639</td>\n",
       "      <td>0</td>\n",
       "    </tr>\n",
       "  </tbody>\n",
       "</table>\n",
       "</div>"
      ],
      "text/plain": [
       "    index         sourceId  visit  detector          ra       dec  \\\n",
       "0  244632  527619552446040   1228        92  150.129075  2.743438   \n",
       "1  241784  528480693387294   1230        93  150.129064  2.743446   \n",
       "2  239371  529326801945109   1232        87  150.129053  2.743435   \n",
       "3  254977  531901634840734   1238        86  150.129056  2.743442   \n",
       "4  238639  532775660683470   1240        93  150.129062  2.743433   \n",
       "\n",
       "  physical_filter band  apFlux_12_0_instFlux  apFlux_12_0_instFluxErr  \\\n",
       "0           HSC-I    i           8133.591797               632.296448   \n",
       "1           HSC-I    i           8351.114258               641.694214   \n",
       "2           HSC-I    i           7733.971680               623.501404   \n",
       "3           HSC-I    i           9163.507812               654.370667   \n",
       "4           HSC-I    i           9112.935547               680.429810   \n",
       "\n",
       "             x            y  apFlux_17_0_instFlux  apFlux_17_0_instFluxErr  \\\n",
       "0  2004.000408  3641.778809           6822.989223               898.264517   \n",
       "1  1068.663368    70.778924           7616.517079               915.194695   \n",
       "2   344.758315   974.894071           6565.768755               889.012677   \n",
       "3    71.158995  4009.655972           8916.701934               933.057782   \n",
       "4  1260.889434   441.888885           7438.498795               967.657478   \n",
       "\n",
       "   apFlux_17_0_flag  localBackground_instFlux  localBackground_flag  \\\n",
       "0             False                 -1.185561                 False   \n",
       "1             False                 -0.776985                 False   \n",
       "2             False                 -0.106671                 False   \n",
       "3             False                  0.069349                 False   \n",
       "4             False                 -0.819285                 False   \n",
       "\n",
       "   source_row  obj_index  \n",
       "0      244632          0  \n",
       "1      241784          0  \n",
       "2      239371          0  \n",
       "3      254977          0  \n",
       "4      238639          0  "
      ]
     },
     "execution_count": 3,
     "metadata": {},
     "output_type": "execute_result"
    }
   ],
   "source": [
    "# read in the n-way matched bright isolated point sources\n",
    "# This is the dataset we use for fitting astrometry etc...\n",
    "isolated_star_sources = butler.get(\"isolated_star_sources\", skymap=\"hsc_rings_v1\", tract=9813)\n",
    "isolated_star_sources.head()"
   ]
  },
  {
   "cell_type": "code",
   "execution_count": 4,
   "id": "1f915d65-1361-43c8-bef6-34233e89745a",
   "metadata": {
    "execution": {
     "iopub.execute_input": "2024-01-23T05:00:19.394228Z",
     "iopub.status.busy": "2024-01-23T05:00:19.394083Z",
     "iopub.status.idle": "2024-01-23T05:00:19.458819Z",
     "shell.execute_reply": "2024-01-23T05:00:19.458392Z",
     "shell.execute_reply.started": "2024-01-23T05:00:19.394214Z"
    }
   },
   "outputs": [
    {
     "name": "stdout",
     "output_type": "stream",
     "text": [
      "[11690 11692 11694 11696 11698 11700 11702 11704 11706 11708 11710 11712\n",
      " 29324 29326 29336 29340 29350]\n"
     ]
    }
   ],
   "source": [
    "# get the list of g-band visits so we can read in the final source tables with the best-fit positions\n",
    "visits = isolated_star_sources[isolated_star_sources.band == \"g\"].visit.unique()\n",
    "print(visits)"
   ]
  },
  {
   "cell_type": "code",
   "execution_count": 5,
   "id": "76ab889a-521e-4a73-91ad-b6b606e165d4",
   "metadata": {
    "execution": {
     "iopub.execute_input": "2024-01-23T05:00:19.460059Z",
     "iopub.status.busy": "2024-01-23T05:00:19.459918Z",
     "iopub.status.idle": "2024-01-23T05:00:20.291630Z",
     "shell.execute_reply": "2024-01-23T05:00:20.291211Z",
     "shell.execute_reply.started": "2024-01-23T05:00:19.460046Z"
    }
   },
   "outputs": [
    {
     "data": {
      "text/html": [
       "<div>\n",
       "<style scoped>\n",
       "    .dataframe tbody tr th:only-of-type {\n",
       "        vertical-align: middle;\n",
       "    }\n",
       "\n",
       "    .dataframe tbody tr th {\n",
       "        vertical-align: top;\n",
       "    }\n",
       "\n",
       "    .dataframe thead th {\n",
       "        text-align: right;\n",
       "    }\n",
       "</style>\n",
       "<table border=\"1\" class=\"dataframe\">\n",
       "  <thead>\n",
       "    <tr style=\"text-align: right;\">\n",
       "      <th></th>\n",
       "      <th>ra</th>\n",
       "      <th>dec</th>\n",
       "      <th>psfFlux</th>\n",
       "      <th>psfFluxErr</th>\n",
       "      <th>pixelFlags_bad</th>\n",
       "      <th>pixelFlags_saturated</th>\n",
       "      <th>detect_isPrimary</th>\n",
       "    </tr>\n",
       "    <tr>\n",
       "      <th>sourceId</th>\n",
       "      <th></th>\n",
       "      <th></th>\n",
       "      <th></th>\n",
       "      <th></th>\n",
       "      <th></th>\n",
       "      <th></th>\n",
       "      <th></th>\n",
       "    </tr>\n",
       "  </thead>\n",
       "  <tbody>\n",
       "    <tr>\n",
       "      <th>5020816769024001</th>\n",
       "      <td>150.329808</td>\n",
       "      <td>1.490417</td>\n",
       "      <td>325.650576</td>\n",
       "      <td>29.433033</td>\n",
       "      <td>False</td>\n",
       "      <td>False</td>\n",
       "      <td>True</td>\n",
       "    </tr>\n",
       "    <tr>\n",
       "      <th>5020816769024002</th>\n",
       "      <td>150.330525</td>\n",
       "      <td>1.530190</td>\n",
       "      <td>328.020805</td>\n",
       "      <td>28.772124</td>\n",
       "      <td>False</td>\n",
       "      <td>False</td>\n",
       "      <td>True</td>\n",
       "    </tr>\n",
       "    <tr>\n",
       "      <th>5020816769024003</th>\n",
       "      <td>150.330954</td>\n",
       "      <td>1.542674</td>\n",
       "      <td>266040.801202</td>\n",
       "      <td>276.302641</td>\n",
       "      <td>False</td>\n",
       "      <td>False</td>\n",
       "      <td>False</td>\n",
       "    </tr>\n",
       "    <tr>\n",
       "      <th>5020816769024004</th>\n",
       "      <td>150.330549</td>\n",
       "      <td>1.486306</td>\n",
       "      <td>1530.588419</td>\n",
       "      <td>30.765019</td>\n",
       "      <td>False</td>\n",
       "      <td>False</td>\n",
       "      <td>True</td>\n",
       "    </tr>\n",
       "    <tr>\n",
       "      <th>5020816769024005</th>\n",
       "      <td>150.330273</td>\n",
       "      <td>1.498560</td>\n",
       "      <td>389.524572</td>\n",
       "      <td>29.243796</td>\n",
       "      <td>False</td>\n",
       "      <td>False</td>\n",
       "      <td>True</td>\n",
       "    </tr>\n",
       "  </tbody>\n",
       "</table>\n",
       "</div>"
      ],
      "text/plain": [
       "                          ra       dec        psfFlux  psfFluxErr  \\\n",
       "sourceId                                                            \n",
       "5020816769024001  150.329808  1.490417     325.650576   29.433033   \n",
       "5020816769024002  150.330525  1.530190     328.020805   28.772124   \n",
       "5020816769024003  150.330954  1.542674  266040.801202  276.302641   \n",
       "5020816769024004  150.330549  1.486306    1530.588419   30.765019   \n",
       "5020816769024005  150.330273  1.498560     389.524572   29.243796   \n",
       "\n",
       "                  pixelFlags_bad  pixelFlags_saturated  detect_isPrimary  \n",
       "sourceId                                                                  \n",
       "5020816769024001           False                 False              True  \n",
       "5020816769024002           False                 False              True  \n",
       "5020816769024003           False                 False             False  \n",
       "5020816769024004           False                 False              True  \n",
       "5020816769024005           False                 False              True  "
      ]
     },
     "execution_count": 5,
     "metadata": {},
     "output_type": "execute_result"
    }
   ],
   "source": [
    "sourceTables = []\n",
    "for visit in visits:\n",
    "    sourceTable = butler.get(\"sourceTable_visit\", visit=visit,parameters={\"columns\": [\"sourceId\", \"ra\", \"dec\", \"psfFlux\", \"psfFluxErr\", \"pixelFlags_bad\", \"pixelFlags_saturated\", \"detect_isPrimary\"]})\n",
    "    sourceTables.append(sourceTable)\n",
    "\n",
    "sources = pd.concat(sourceTables)\n",
    "sources.head()"
   ]
  },
  {
   "cell_type": "code",
   "execution_count": 6,
   "id": "5f31bc50-9a8f-471b-a04a-23cd46adaaee",
   "metadata": {
    "execution": {
     "iopub.execute_input": "2024-01-23T05:00:20.292455Z",
     "iopub.status.busy": "2024-01-23T05:00:20.292320Z",
     "iopub.status.idle": "2024-01-23T05:00:21.148639Z",
     "shell.execute_reply": "2024-01-23T05:00:21.148179Z",
     "shell.execute_reply.started": "2024-01-23T05:00:20.292440Z"
    }
   },
   "outputs": [],
   "source": [
    "# join with the catalog with the associated matches\n",
    "joined = pd.merge(isolated_star_sources[[\"sourceId\", \"obj_index\"]], sources, left_on=\"sourceId\", right_index=True)"
   ]
  },
  {
   "cell_type": "code",
   "execution_count": 7,
   "id": "43c238b5-0b42-4f3d-814a-8eff42b74338",
   "metadata": {
    "execution": {
     "iopub.execute_input": "2024-01-23T05:00:21.149333Z",
     "iopub.status.busy": "2024-01-23T05:00:21.149204Z",
     "iopub.status.idle": "2024-01-23T05:00:21.152212Z",
     "shell.execute_reply": "2024-01-23T05:00:21.151843Z",
     "shell.execute_reply.started": "2024-01-23T05:00:21.149321Z"
    }
   },
   "outputs": [
    {
     "name": "stdout",
     "output_type": "stream",
     "text": [
      "all SNR >  6.309977317510419\n"
     ]
    }
   ],
   "source": [
    "print(\"all SNR > \",(joined['psfFlux']/joined['psfFluxErr']).min())"
   ]
  },
  {
   "cell_type": "code",
   "execution_count": 8,
   "id": "f2c98e6e-0489-4166-9944-9584ed81134a",
   "metadata": {
    "execution": {
     "iopub.execute_input": "2024-01-23T05:00:21.152796Z",
     "iopub.status.busy": "2024-01-23T05:00:21.152671Z",
     "iopub.status.idle": "2024-01-23T05:00:21.469938Z",
     "shell.execute_reply": "2024-01-23T05:00:21.469521Z",
     "shell.execute_reply.started": "2024-01-23T05:00:21.152784Z"
    }
   },
   "outputs": [
    {
     "data": {
      "text/plain": [
       "Text(0.5, 0, 'PSF Flux SNR')"
      ]
     },
     "execution_count": 8,
     "metadata": {},
     "output_type": "execute_result"
    },
    {
     "data": {
      "image/png": "[encoded data removed]",
      "text/plain": [
       "<Figure size 640x480 with 1 Axes>"
      ]
     },
     "metadata": {},
     "output_type": "display_data"
    }
   ],
   "source": [
    "_ = plt.hist(joined['psfFlux']/joined['psfFluxErr'], bins=100, log=True)\n",
    "plt.xlabel(\"PSF Flux SNR\")"
   ]
  },
  {
   "cell_type": "code",
   "execution_count": 9,
   "id": "8fc14e4d-150a-49ea-aa93-b95162c69234",
   "metadata": {
    "execution": {
     "iopub.execute_input": "2024-01-23T05:00:21.470632Z",
     "iopub.status.busy": "2024-01-23T05:00:21.470501Z",
     "iopub.status.idle": "2024-01-23T05:00:29.339284Z",
     "shell.execute_reply": "2024-01-23T05:00:29.338724Z",
     "shell.execute_reply.started": "2024-01-23T05:00:21.470619Z"
    }
   },
   "outputs": [],
   "source": [
    "grouped = joined.groupby(\"obj_index\")\n",
    "\n",
    "results = pd.DataFrame()\n",
    "\n",
    "# Make a table with various statistics (robust and not) for the scatter of RA and Dec (pick your favorite)\n",
    "results['ra_std'] = grouped.ra.std()*60*60*1000\n",
    "results['dec_std'] = grouped.dec.std()*60*60*1000\n",
    "results['ra_std_percentile'] =  grouped.ra.apply(lambda x: np.percentile(x, 69.1) - np.percentile(x, 30.9))*60*60*1000\n",
    "results['dec_std_percentile'] =  grouped.dec.apply(lambda x: np.percentile(x, 69.1) - np.percentile(x, 30.9))*60*60*1000\n",
    "results['ra_std_mad'] =  grouped.ra.apply(lambda x: scipy.stats.median_abs_deviation(x))*1.4826*60*60*1000\n",
    "results['dec_std_mad'] =  grouped.dec.apply(lambda x: scipy.stats.median_abs_deviation(x))*1.4826*60*60*1000\n",
    "results['count'] = grouped.dec.count()"
   ]
  },
  {
   "cell_type": "code",
   "execution_count": 13,
   "id": "1ac7fca4-1dee-4732-a648-06b896472391",
   "metadata": {
    "execution": {
     "iopub.execute_input": "2024-01-23T05:01:19.516153Z",
     "iopub.status.busy": "2024-01-23T05:01:19.515744Z",
     "iopub.status.idle": "2024-01-23T05:01:19.910268Z",
     "shell.execute_reply": "2024-01-23T05:01:19.909936Z",
     "shell.execute_reply.started": "2024-01-23T05:01:19.516139Z"
    }
   },
   "outputs": [
    {
     "data": {
      "image/png": "[encoded data removed]",
      "text/plain": [
       "<Figure size 640x480 with 2 Axes>"
      ]
     },
     "metadata": {},
     "output_type": "display_data"
    }
   ],
   "source": [
    "fig = plt.figure()\n",
    "fig.suptitle('RMS of repeat observations of isolated bright stars (milliarcsec)', fontsize=14)\n",
    "plt.subplot(211)\n",
    "_ = plt.hist(results[results['count'] > 1]['ra_std'],  bins=np.arange(0,150), label=\"raw stdev\")\n",
    "plt.xlabel(\"RA\")\n",
    "plt.subplot(212)\n",
    "_ = plt.hist(results[results['count'] > 1]['dec_std'],  bins=np.arange(0,150), label=\"raw stdev\")\n",
    "plt.xlabel(\"Dec\")\n",
    "plt.tight_layout()"
   ]
  },
  {
   "cell_type": "code",
   "execution_count": 11,
   "id": "ced4f6b2-ed08-4d59-9f91-5604b9c642fe",
   "metadata": {
    "execution": {
     "iopub.execute_input": "2024-01-23T05:00:29.663779Z",
     "iopub.status.busy": "2024-01-23T05:00:29.663651Z",
     "iopub.status.idle": "2024-01-23T05:00:29.783264Z",
     "shell.execute_reply": "2024-01-23T05:00:29.782854Z",
     "shell.execute_reply.started": "2024-01-23T05:00:29.663767Z"
    }
   },
   "outputs": [
    {
     "data": {
      "image/png": "[encoded data removed]",
      "text/plain": [
       "<Figure size 640x480 with 1 Axes>"
      ]
     },
     "metadata": {},
     "output_type": "display_data"
    }
   ],
   "source": [
    "_ = plt.hist(grouped.dec.count(), bins=34)"
   ]
  },
  {
   "cell_type": "code",
   "execution_count": 12,
   "id": "d7603204-d11a-41e6-8f3b-d78356a6c5ba",
   "metadata": {
    "execution": {
     "iopub.execute_input": "2024-01-23T05:00:29.783985Z",
     "iopub.status.busy": "2024-01-23T05:00:29.783851Z",
     "iopub.status.idle": "2024-01-23T05:00:29.791939Z",
     "shell.execute_reply": "2024-01-23T05:00:29.791564Z",
     "shell.execute_reply.started": "2024-01-23T05:00:29.783973Z"
    }
   },
   "outputs": [
    {
     "name": "stdout",
     "output_type": "stream",
     "text": [
      "8.210830496038314 Median RA RMS (raw stdev) (milliarcsec)\n",
      "7.798748786955189 Median Dec RMS (raw stdev) (milliarcsec)\n",
      "6.267396611292497 Median RA RMS (percentile range) (milliarcsec)\n",
      "5.870474760705235 Median Dec RMS (percentile range) (milliarcsec)\n",
      "6.901577058697511 Median RA RMS (sigma MAD) (milliarcsec)\n",
      "6.590865744596819 Median Dec RMS (sigma MAD) (milliarcsec)\n"
     ]
    }
   ],
   "source": [
    "print(results[results['count'] > 1].ra_std.median(), \"Median RA RMS (raw stdev) (milliarcsec)\")\n",
    "print(results[results['count'] > 1].dec_std.median(), \"Median Dec RMS (raw stdev) (milliarcsec)\")\n",
    "print(results[results['count'] > 1].ra_std_percentile.median(), \"Median RA RMS (percentile range) (milliarcsec)\")\n",
    "print(results[results['count'] > 1].dec_std_percentile.median(), \"Median Dec RMS (percentile range) (milliarcsec)\")\n",
    "print(results[results['count'] > 1].ra_std_mad.median(), \"Median RA RMS (sigma MAD) (milliarcsec)\")\n",
    "print(results[results['count'] > 1].dec_std_mad.median(), \"Median Dec RMS (sigma MAD) (milliarcsec)\")"
   ]
  },
  {
   "cell_type": "code",
   "execution_count": null,
   "id": "fbb37cb9-b07a-4b51-b6e5-b6cc05cb08ec",
   "metadata": {},
   "outputs": [],
   "source": []
  }
 ],
 "metadata": {
  "kernelspec": {
   "display_name": "LSST",
   "language": "python",
   "name": "lsst"
  },
  "language_info": {
   "codemirror_mode": {
    "name": "ipython",
    "version": 3
   },
   "file_extension": ".py",
   "mimetype": "text/x-python",
   "name": "python",
   "nbconvert_exporter": "python",
   "pygments_lexer": "ipython3",
   "version": "3.11.7"
  }
 },
 "nbformat": 4,
 "nbformat_minor": 5
}
