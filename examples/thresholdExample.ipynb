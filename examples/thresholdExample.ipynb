{
 "cells": [
  {
   "cell_type": "code",
   "execution_count": 31,
   "metadata": {},
   "outputs": [],
   "source": [
    "import lsst.afw.image as afwImage\n",
    "import lsst.geom as geom\n",
    "import numpy as np\n",
    "import os\n",
    "import lsst.afw.image as afwImage\n",
    "import matplotlib.pyplot as plt\n",
    "import lsst.daf.persistence as dafPersist\n",
    "import lsst.afw.geom as afwGeom\n",
    "import lsst.afw.detection as afwDetection\n",
    "\n",
    "%matplotlib inline\n",
    "\n",
    "def plot(arr, title, cmap=None, vmin=None, vmax=None):\n",
    "    plt.figure(figsize=(8,6))\n",
    "    if vmin is None:\n",
    "        vmin = np.percentile(arr[np.where(np.isfinite(arr))], 2)\n",
    "    if vmax is None:\n",
    "        vmax = np.percentile(arr[np.where(np.isfinite(arr))], 98)\n",
    "    plt.imshow(arr, vmin=vmin, vmax=vmax,  origin='lower', cmap=cmap, interpolation='nearest')\n",
    "    plt.title(title)\n",
    "    plt.colorbar()"
   ]
  },
  {
   "cell_type": "code",
   "execution_count": 32,
   "metadata": {},
   "outputs": [
    {
     "data": {
      "image/png": "[encoded data removed]",
      "text/plain": [
       "<Figure size 576x432 with 2 Axes>"
      ]
     },
     "metadata": {
      "needs_background": "light"
     },
     "output_type": "display_data"
    }
   ],
   "source": [
    "exp = afwImage.ExposureF(100,100)\n",
    "plot(exp.image.array, \"blank\")"
   ]
  },
  {
   "cell_type": "code",
   "execution_count": 68,
   "metadata": {},
   "outputs": [
    {
     "data": {
      "image/png": "[encoded data removed]",
      "text/plain": [
       "<Figure size 576x432 with 2 Axes>"
      ]
     },
     "metadata": {
      "needs_background": "light"
     },
     "output_type": "display_data"
    }
   ],
   "source": [
    "exp = afwImage.ExposureF(100,100)\n",
    "exp.image[10:30,10:30] = 2.\n",
    "exp.image[40:50,45:55] = -2.\n",
    "exp.image[80:90,80:90] = -2.\n",
    "exp.image[40:50,10:20] = -2.\n",
    "plot(exp.image.array, \"exp\")"
   ]
  },
  {
   "cell_type": "code",
   "execution_count": 105,
   "metadata": {},
   "outputs": [
    {
     "name": "stdout",
     "output_type": "stream",
     "text": [
      "(minimum=(10, 10), maximum=(29, 29))\n",
      "(19.5, 19.5)\n"
     ]
    }
   ],
   "source": [
    "threshold = afwDetection.createThreshold(1.0, 'value', polarity=True)  # looks for pixels > 1\n",
    "footprints = afwDetection.FootprintSet(exp.maskedImage, threshold).getFootprints()\n",
    "for footprint in footprints:\n",
    "    print(footprint.getBBox())\n",
    "    print(footprint.getCentroid())"
   ]
  },
  {
   "cell_type": "code",
   "execution_count": 106,
   "metadata": {},
   "outputs": [
    {
     "name": "stdout",
     "output_type": "stream",
     "text": [
      "(minimum=(40, 10), maximum=(49, 19))\n",
      "(44.5, 14.5)\n",
      "(minimum=(40, 45), maximum=(49, 54))\n",
      "(44.5, 49.5)\n",
      "(minimum=(80, 80), maximum=(89, 89))\n",
      "(84.5, 84.5)\n"
     ]
    }
   ],
   "source": [
    "threshold = afwDetection.createThreshold(1.0, 'value', polarity=False)  # looks for pixels < -1\n",
    "footprints = afwDetection.FootprintSet(exp.maskedImage, threshold).getFootprints()\n",
    "for footprint in footprints:\n",
    "    print(footprint.getBBox())\n",
    "    print(footprint.getCentroid())"
   ]
  },
  {
   "cell_type": "code",
   "execution_count": 97,
   "metadata": {},
   "outputs": [],
   "source": [
    "config = SourceDetectionTask.ConfigClass()\n",
    "task = SourceDetectionTask(config=config)"
   ]
  },
  {
   "cell_type": "code",
   "execution_count": null,
   "metadata": {},
   "outputs": [],
   "source": []
  }
 ],
 "metadata": {
  "kernelspec": {
   "display_name": "LSST",
   "language": "python",
   "name": "lsst"
  },
  "language_info": {
   "codemirror_mode": {
    "name": "ipython",
    "version": 3
   },
   "file_extension": ".py",
   "mimetype": "text/x-python",
   "name": "python",
   "nbconvert_exporter": "python",
   "pygments_lexer": "ipython3",
   "version": "3.6.6"
  }
 },
 "nbformat": 4,
 "nbformat_minor": 2
}
