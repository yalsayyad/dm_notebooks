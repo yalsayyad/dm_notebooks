{
 "cells": [
  {
   "cell_type": "code",
   "execution_count": 1,
   "id": "15872518",
   "metadata": {},
   "outputs": [],
   "source": [
    "# LSST stack imports\n",
    "from lsst.daf.persistence import Butler\n",
    "import lsst.afw.display as afwDisplay\n",
    "import lsst.afw.geom as afwGeom\n",
    "import pandas as pd\n",
    "import numpy as np\n",
    "import matplotlib\n",
    "%matplotlib inline\n",
    "import matplotlib.pyplot as plt"
   ]
  },
  {
   "cell_type": "code",
   "execution_count": 2,
   "id": "e4dcdef3",
   "metadata": {},
   "outputs": [],
   "source": [
    "import lsst.daf.butler as dafButler\n",
    "butler1 = dafButler.Butler('/repo/main',  collections=['u/kherner/PREOPS-630_w36_default_bestSeeing_20210929',])\n",
    "butler2 = dafButler.Butler('/repo/main', collections=['u/kherner/PREOPS-630_useScoreImageDetection_bestThird'])"
   ]
  },
  {
   "cell_type": "code",
   "execution_count": 3,
   "id": "ace52347",
   "metadata": {},
   "outputs": [],
   "source": [
    "score = butler2.get('bestThirdDiff_scoreExp', visit=11690, detector=57)\n",
    "diff = butler1.get('bestThirdDiff_differenceExp', visit=11690, detector=57)"
   ]
  },
  {
   "cell_type": "code",
   "execution_count": 4,
   "id": "4afb6da0",
   "metadata": {},
   "outputs": [],
   "source": [
    "display1 = afwDisplay.Display(backend='firefly', frame=1, url='https://lsst-demo.ncsa.illinois.edu/firefly')\n",
    "display2 = afwDisplay.Display(backend='firefly', frame=2, url='https://lsst-demo.ncsa.illinois.edu/firefly')\n",
    "display1.mtv(score)\n",
    "display2.mtv(diff)"
   ]
  },
  {
   "cell_type": "code",
   "execution_count": 5,
   "id": "80cc5ba7",
   "metadata": {},
   "outputs": [],
   "source": [
    "src_default =  butler1.get('bestThirdDiff_diaSrc', visit=11690, detector=57)\n",
    "src_preconv =  butler2.get('bestThirdDiff_diaSrc', visit=11690, detector=57)\n",
    "df_default = src_default.asAstropy().to_pandas()\n",
    "df_preconv = src_preconv.asAstropy().to_pandas()"
   ]
  },
  {
   "cell_type": "code",
   "execution_count": 6,
   "id": "32e70589",
   "metadata": {},
   "outputs": [],
   "source": [
    "from scipy.spatial import cKDTree\n",
    "dist, ind = cKDTree(df_default[['coord_ra', 'coord_dec']].values).query(df_preconv[['coord_ra', 'coord_dec']].values,\n",
    "                                                           k=1, distance_upper_bound=1./206265)\n",
    "df_preconv['ind'] = ind\n",
    "df_preconv['dist'] = dist*206265\n",
    "\n",
    "merged = pd.merge(df_preconv, df_default, left_on='ind', right_index=True, \n",
    "                  suffixes=('_preconv', '_default'))"
   ]
  },
  {
   "cell_type": "code",
   "execution_count": 7,
   "id": "910568f0",
   "metadata": {},
   "outputs": [],
   "source": [
    "merged['flux_diff'] = merged['base_PeakLikelihoodFlux_instFlux_preconv'] - merged['base_PsfFlux_instFlux_default']\n",
    "merged['flux_diff_err'] = np.sqrt(merged['base_PsfFlux_instFluxErr_default']**2 + \n",
    "                                  merged['base_PeakLikelihoodFlux_instFluxErr_preconv']**2)"
   ]
  },
  {
   "cell_type": "code",
   "execution_count": 8,
   "id": "c1c00aea",
   "metadata": {},
   "outputs": [
    {
     "data": {
      "text/plain": [
       "Text(0, 0.5, 'PeakLikelihoodFlux - PsfFlux')"
      ]
     },
     "execution_count": 8,
     "metadata": {},
     "output_type": "execute_result"
    },
    {
     "data": {
      "image/png": "[encoded data removed]",
      "text/plain": [
       "<Figure size 432x288 with 1 Axes>"
      ]
     },
     "metadata": {
      "needs_background": "light"
     },
     "output_type": "display_data"
    }
   ],
   "source": [
    "plt.errorbar(merged['base_PeakLikelihoodFlux_instFlux_preconv'],\n",
    "            (merged['flux_diff']),\n",
    "             yerr=merged['flux_diff_err'],\n",
    "             fmt='.', alpha=0.5)\n",
    "plt.axhline(0, color='k')\n",
    "plt.xlim(-2500, 2500)\n",
    "plt.ylim(-1000, 1000)\n",
    "plt.xlabel('PeakLikelihoodFlux')\n",
    "plt.ylabel('PeakLikelihoodFlux - PsfFlux')"
   ]
  },
  {
   "cell_type": "code",
   "execution_count": 9,
   "id": "965f6c0c",
   "metadata": {},
   "outputs": [
    {
     "data": {
      "text/plain": [
       "Text(0, 0.5, 'Chi')"
      ]
     },
     "execution_count": 9,
     "metadata": {},
     "output_type": "execute_result"
    },
    {
     "data": {
      "image/png": "[encoded data removed]",
      "text/plain": [
       "<Figure size 432x288 with 1 Axes>"
      ]
     },
     "metadata": {
      "needs_background": "light"
     },
     "output_type": "display_data"
    }
   ],
   "source": [
    "plt.plot(merged['base_PeakLikelihoodFlux_instFlux_preconv'], merged['flux_diff']/merged['flux_diff_err'],'.',\n",
    "             alpha=0.5)\n",
    "plt.axhline(0, color='k')\n",
    "plt.xlim(-2500, 2500)\n",
    "plt.ylim(-3, 3)\n",
    "plt.xlabel('PeakLikelihoodFlux')\n",
    "plt.ylabel('Chi')"
   ]
  },
  {
   "cell_type": "code",
   "execution_count": 10,
   "id": "b0dfeada",
   "metadata": {},
   "outputs": [],
   "source": [
    "outliers = merged[(np.abs(merged['flux_diff']) > merged['flux_diff_err'])]"
   ]
  },
  {
   "cell_type": "code",
   "execution_count": 11,
   "id": "98d6ec92",
   "metadata": {},
   "outputs": [],
   "source": [
    "for display in (display1, display2):\n",
    "    with display.Buffering():\n",
    "        for index, record in outliers.iterrows():\n",
    "            if (\n",
    "                record['base_PixelFlags_flag_offimage_default'] |\n",
    "                record['base_PixelFlags_flag_edge_default'] |\n",
    "                record['base_PixelFlags_flag_saturated_default'] | \n",
    "                record['base_PixelFlags_flag_bad_default'] | \n",
    "                record['base_PixelFlags_flag_suspect_default'] | \n",
    "                record['base_PixelFlags_flag_interpolatedCenter_default'] | \n",
    "                record['base_PixelFlags_flag_saturatedCenter_default'] | \n",
    "                record['base_PixelFlags_flag_crCenter_default'] | \n",
    "                record['base_PixelFlags_flag_suspectCenter_default'] \n",
    "                 ):\n",
    "                display.dot('+', record['slot_Centroid_x_default'], record['slot_Centroid_y_default'], size=20, ctype='red')\n",
    "            else:\n",
    "                display.dot('o', record['slot_Centroid_x_default'], record['slot_Centroid_y_default'], size=20, ctype='yellow')\n"
   ]
  }
 ],
 "metadata": {
  "kernelspec": {
   "display_name": "Python 3 (ipykernel)",
   "language": "python",
   "name": "python3"
  },
  "language_info": {
   "codemirror_mode": {
    "name": "ipython",
    "version": 3
   },
   "file_extension": ".py",
   "mimetype": "text/x-python",
   "name": "python",
   "nbconvert_exporter": "python",
   "pygments_lexer": "ipython3",
   "version": "3.8.8"
  }
 },
 "nbformat": 4,
 "nbformat_minor": 5
}
