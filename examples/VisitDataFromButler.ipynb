{
 "cells": [
  {
   "cell_type": "markdown",
   "metadata": {},
   "source": [
    "# Examples of Visit Data from Bulter Data Products"
   ]
  },
  {
   "cell_type": "code",
   "execution_count": 1,
   "metadata": {},
   "outputs": [],
   "source": [
    "import os\n",
    "import numpy as np\n",
    "\n",
    "import matplotlib.pyplot as plt\n",
    "import pandas as pd\n",
    "import sqlite3\n",
    "import lsst.daf.persistence as dafPersist\n",
    "import lsst.afw.display as afwDisplay\n",
    "import lsst.geom\n",
    "afwDisplay.setDefaultBackend('matplotlib')\n",
    "import matplotlib.ticker as plticker\n",
    "import lsst.afw.cameraGeom.testUtils as testUtils\n",
    "import lsst.afw.cameraGeom as cameraGeom\n",
    "from lsst.obs.hsc import HscMapper as mapper"
   ]
  },
  {
   "cell_type": "code",
   "execution_count": 2,
   "metadata": {},
   "outputs": [],
   "source": [
    "REPO = '/datasets/hsc/repo/rerun/RC/w_2019_34/DM-21091'\n",
    "butler = dafPersist.Butler(REPO)"
   ]
  },
  {
   "cell_type": "code",
   "execution_count": 3,
   "metadata": {},
   "outputs": [],
   "source": [
    "#example dataId\n",
    "dataId = {\"visit\": 19662, \"ccd\": 35}"
   ]
  },
  {
   "cell_type": "markdown",
   "metadata": {},
   "source": [
    "## Seeing"
   ]
  },
  {
   "cell_type": "code",
   "execution_count": 4,
   "metadata": {},
   "outputs": [
    {
     "data": {
      "text/plain": [
       "1.3509500314734233"
      ]
     },
     "execution_count": 4,
     "metadata": {},
     "output_type": "execute_result"
    }
   ],
   "source": [
    "# Seeing by Catalog:\n",
    "src = butler.get('src', dataId=dataId)\n",
    "radius = np.median(np.sqrt(0.5) * np.sqrt(src['slot_PsfShape_xx'] + src['slot_PsfShape_yy']))\n",
    "radius"
   ]
  },
  {
   "cell_type": "code",
   "execution_count": 5,
   "metadata": {},
   "outputs": [
    {
     "name": "stdout",
     "output_type": "stream",
     "text": [
      "1.3342014095509867\n",
      "1.3662240569626103\n"
     ]
    }
   ],
   "source": [
    "miniCalexp = butler.get('calexp_sub', dataId=dataId, bbox=lsst.geom.Box2I(lsst.geom.Point2I(0,0), lsst.geom.Extent2I(1, 1)))\n",
    "bbox = butler.get('calexp_bbox', dataId=dataId)\n",
    "\n",
    "# This is the PSF at the center of the ccd which is different than in the corners:\n",
    "radius = miniCalexp.getPsf().computeShape(bbox.getCenter()).getDeterminantRadius()\n",
    "print(radius)\n",
    "\n",
    "# And is not the same as the PSF in the corner:\n",
    "print(miniCalexp.getPsf().computeShape(lsst.geom.Point2D(0, 0)).getDeterminantRadius())                                     "
   ]
  },
  {
   "cell_type": "code",
   "execution_count": 6,
   "metadata": {},
   "outputs": [
    {
     "name": "stdout",
     "output_type": "stream",
     "text": [
      "3.142 pixels\n",
      "0.528 arcsec\n"
     ]
    }
   ],
   "source": [
    "# Convert to FWHM:\n",
    "\n",
    "SIGMA2FWHM = 2*np.sqrt(2*np.log(2))\n",
    "PIXEL_SCALE = 0.168\n",
    "\n",
    "fwhm = SIGMA2FWHM * radius\n",
    "print(\"%.3f pixels\" % fwhm)\n",
    "print(\"%.3f arcsec\" % (fwhm*PIXEL_SCALE))"
   ]
  },
  {
   "cell_type": "markdown",
   "metadata": {},
   "source": [
    "## Airmass"
   ]
  },
  {
   "cell_type": "code",
   "execution_count": 7,
   "metadata": {},
   "outputs": [
    {
     "data": {
      "text/plain": [
       "1.10282413272986"
      ]
     },
     "execution_count": 7,
     "metadata": {},
     "output_type": "execute_result"
    }
   ],
   "source": [
    "miniCalexp.getInfo().getVisitInfo().getBoresightAirmass()"
   ]
  },
  {
   "cell_type": "markdown",
   "metadata": {},
   "source": [
    "## Coadd Inputs"
   ]
  },
  {
   "cell_type": "code",
   "execution_count": 8,
   "metadata": {},
   "outputs": [],
   "source": [
    "coaddExp = butler.get('deepCoadd', patch=\"3,3\", tract=9813, filter=\"HSC-I\")\n",
    "inputs = coaddExp.getInfo().getCoaddInputs()"
   ]
  },
  {
   "cell_type": "code",
   "execution_count": 9,
   "metadata": {},
   "outputs": [
    {
     "data": {
      "text/plain": [
       "<class 'lsst.afw.table.exposure.exposure.ExposureCatalog'>\n",
       "  id  bbox_min_x bbox_min_y bbox_max_x ... goodpix        weight       filter\n",
       "         pix        pix        pix     ...                                   \n",
       "----- ---------- ---------- ---------- ... -------- ------------------ ------\n",
       " 1228      11900      11900      16099 ... 15712782 106.29273092461976      i\n",
       " 1230      11900      11900      16099 ... 15693535 107.41940078164764      i\n",
       " 1232      11900      11900      16099 ... 15687581 109.18421152345934      i\n",
       " 1238      11900      11900      16099 ... 16183217   97.4457927235314      i\n",
       " 1240      11900      11900      16099 ... 15691941  97.26230731179764      i\n",
       " 1242      11900      11900      16099 ... 15687893  95.53641485752884      i\n",
       " 1244      11900      11900      16099 ... 15712855  87.62339755344917      i\n",
       " 1246      11900      11900      16099 ... 15715305  86.11495595141974      i\n",
       " 1248      11900      11900      16099 ... 15712815  84.15206732339372      i\n",
       "19658      11900      11900      16099 ... 15712621  95.09788918260345      i\n",
       "  ...        ...        ...        ... ...      ...                ...    ...\n",
       "30486      11900      11900      16099 ... 15716757  75.76812072339062      i\n",
       "30488      11900      11900      16099 ... 15714640  84.79448162082835      i\n",
       "30490      11900      11900      16099 ... 15718541  83.71162437998298      i\n",
       "30492      11900      11900      16099 ... 15713237   85.1237793429579      i\n",
       "30494      11900      11900      16099 ... 15714205  82.33537989272075      i\n",
       "30496      11900      11900      16099 ... 16076259  78.50142414883229      i\n",
       "30498      11900      11900      16099 ... 15688692  97.39172705341348      i\n",
       "30500      11900      11900      16099 ... 15696727 101.19538580114587      i\n",
       "30502      11900      11900      16099 ... 15689995   97.4054653019072      i\n",
       "30504      11900      11900      16099 ... 15690175  90.23789725008928      i\n",
       "Length = 33 rows"
      ]
     },
     "execution_count": 9,
     "metadata": {},
     "output_type": "execute_result"
    }
   ],
   "source": [
    "inputs.visits"
   ]
  },
  {
   "cell_type": "code",
   "execution_count": 10,
   "metadata": {},
   "outputs": [
    {
     "data": {
      "text/html": [
       "<i>Table length=188</i>\n",
       "<table id=\"table140261071780496\" class=\"table-striped table-bordered table-condensed\">\n",
       "<thead><tr><th>id</th><th>bbox_min_x</th><th>bbox_min_y</th><th>bbox_max_x</th><th>bbox_max_y</th><th>ccd</th><th>visit</th><th>goodpix</th><th>weight</th><th>filter</th></tr></thead>\n",
       "<thead><tr><th></th><th>pix</th><th>pix</th><th>pix</th><th>pix</th><th></th><th></th><th></th><th></th><th></th></tr></thead>\n",
       "<thead><tr><th>int64</th><th>int32</th><th>int32</th><th>int32</th><th>int32</th><th>int32</th><th>int64</th><th>int32</th><th>float64</th><th>str32</th></tr></thead>\n",
       "<tr><td>3942016</td><td>0</td><td>0</td><td>2047</td><td>4175</td><td>16</td><td>19710</td><td>514084</td><td>80.34591582246404</td><td>i</td></tr>\n",
       "<tr><td>3942017</td><td>0</td><td>0</td><td>2047</td><td>4175</td><td>17</td><td>19710</td><td>1184194</td><td>80.34591582246404</td><td>i</td></tr>\n",
       "<tr><td>3942023</td><td>0</td><td>0</td><td>2047</td><td>4175</td><td>23</td><td>19710</td><td>2208215</td><td>80.34591582246404</td><td>i</td></tr>\n",
       "<tr><td>3942024</td><td>0</td><td>0</td><td>2047</td><td>4175</td><td>24</td><td>19710</td><td>5614022</td><td>80.34591582246404</td><td>i</td></tr>\n",
       "<tr><td>3942031</td><td>0</td><td>0</td><td>2047</td><td>4175</td><td>31</td><td>19710</td><td>1706021</td><td>80.34591582246404</td><td>i</td></tr>\n",
       "<tr><td>3942032</td><td>0</td><td>0</td><td>2047</td><td>4175</td><td>32</td><td>19710</td><td>4492985</td><td>80.34591582246404</td><td>i</td></tr>\n",
       "<tr><td>6096816</td><td>0</td><td>0</td><td>2047</td><td>4175</td><td>16</td><td>30484</td><td>2767394</td><td>72.35008868141928</td><td>i</td></tr>\n",
       "<tr><td>6096817</td><td>0</td><td>0</td><td>2047</td><td>4175</td><td>17</td><td>30484</td><td>2478817</td><td>72.35008868141928</td><td>i</td></tr>\n",
       "<tr><td>6096823</td><td>0</td><td>0</td><td>2047</td><td>4175</td><td>23</td><td>30484</td><td>4011963</td><td>72.35008868141928</td><td>i</td></tr>\n",
       "<tr><td>...</td><td>...</td><td>...</td><td>...</td><td>...</td><td>...</td><td>...</td><td>...</td><td>...</td><td>...</td></tr>\n",
       "<tr><td>3936849</td><td>0</td><td>0</td><td>2047</td><td>4175</td><td>49</td><td>19684</td><td>387066</td><td>118.38316943786344</td><td>i</td></tr>\n",
       "<tr><td>3938832</td><td>0</td><td>0</td><td>2047</td><td>4175</td><td>32</td><td>19694</td><td>1375995</td><td>126.83493069195796</td><td>i</td></tr>\n",
       "<tr><td>3938833</td><td>0</td><td>0</td><td>2047</td><td>4175</td><td>33</td><td>19694</td><td>1740036</td><td>126.83493069195796</td><td>i</td></tr>\n",
       "<tr><td>3938840</td><td>0</td><td>0</td><td>2047</td><td>4175</td><td>40</td><td>19694</td><td>3468612</td><td>126.83493069195796</td><td>i</td></tr>\n",
       "<tr><td>3938841</td><td>0</td><td>0</td><td>2047</td><td>4175</td><td>41</td><td>19694</td><td>4471798</td><td>126.83493069195796</td><td>i</td></tr>\n",
       "<tr><td>3938848</td><td>0</td><td>0</td><td>2047</td><td>4175</td><td>48</td><td>19694</td><td>2017476</td><td>126.83493069195796</td><td>i</td></tr>\n",
       "<tr><td>3938849</td><td>0</td><td>0</td><td>2047</td><td>4175</td><td>49</td><td>19694</td><td>2611270</td><td>126.83493069195796</td><td>i</td></tr>\n",
       "<tr><td>3941632</td><td>0</td><td>0</td><td>2047</td><td>4175</td><td>32</td><td>19708</td><td>4974233</td><td>81.44064882613958</td><td>i</td></tr>\n",
       "<tr><td>3941640</td><td>0</td><td>0</td><td>2047</td><td>4175</td><td>40</td><td>19708</td><td>8041374</td><td>81.44064882613958</td><td>i</td></tr>\n",
       "<tr><td>3941648</td><td>0</td><td>0</td><td>2047</td><td>4175</td><td>48</td><td>19708</td><td>2915091</td><td>81.44064882613958</td><td>i</td></tr>\n",
       "</table>"
      ],
      "text/plain": [
       "<Table length=188>\n",
       "   id   bbox_min_x bbox_min_y bbox_max_x ... goodpix       weight       filter\n",
       "           pix        pix        pix     ...                                  \n",
       " int64    int32      int32      int32    ...  int32       float64       str32 \n",
       "------- ---------- ---------- ---------- ... ------- ------------------ ------\n",
       "3942016          0          0       2047 ...  514084  80.34591582246404      i\n",
       "3942017          0          0       2047 ... 1184194  80.34591582246404      i\n",
       "3942023          0          0       2047 ... 2208215  80.34591582246404      i\n",
       "3942024          0          0       2047 ... 5614022  80.34591582246404      i\n",
       "3942031          0          0       2047 ... 1706021  80.34591582246404      i\n",
       "3942032          0          0       2047 ... 4492985  80.34591582246404      i\n",
       "6096816          0          0       2047 ... 2767394  72.35008868141928      i\n",
       "6096817          0          0       2047 ... 2478817  72.35008868141928      i\n",
       "6096823          0          0       2047 ... 4011963  72.35008868141928      i\n",
       "    ...        ...        ...        ... ...     ...                ...    ...\n",
       "3936849          0          0       2047 ...  387066 118.38316943786344      i\n",
       "3938832          0          0       2047 ... 1375995 126.83493069195796      i\n",
       "3938833          0          0       2047 ... 1740036 126.83493069195796      i\n",
       "3938840          0          0       2047 ... 3468612 126.83493069195796      i\n",
       "3938841          0          0       2047 ... 4471798 126.83493069195796      i\n",
       "3938848          0          0       2047 ... 2017476 126.83493069195796      i\n",
       "3938849          0          0       2047 ... 2611270 126.83493069195796      i\n",
       "3941632          0          0       2047 ... 4974233  81.44064882613958      i\n",
       "3941640          0          0       2047 ... 8041374  81.44064882613958      i\n",
       "3941648          0          0       2047 ... 2915091  81.44064882613958      i"
      ]
     },
     "execution_count": 10,
     "metadata": {},
     "output_type": "execute_result"
    }
   ],
   "source": [
    "inputs.ccds.asAstropy()"
   ]
  },
  {
   "cell_type": "code",
   "execution_count": 11,
   "metadata": {},
   "outputs": [],
   "source": [
    "# You can get the inputs at a particular point too (which I'll add if you need it)"
   ]
  },
  {
   "cell_type": "code",
   "execution_count": 12,
   "metadata": {},
   "outputs": [],
   "source": [
    "# Then you can loop through the rows and get each exposure:\n",
    "# Note (one gotcha is that you need to make sure the visit/ccds are passed as ints)\n",
    "for row in inputs.ccds:\n",
    "    calexp = butler.get('calexp', visit=int(row['visit']), ccd=int(row['ccd']))\n",
    "    break"
   ]
  },
  {
   "cell_type": "code",
   "execution_count": 13,
   "metadata": {},
   "outputs": [
    {
     "data": {
      "text/plain": [
       "<lsst.afw.image.exposure.exposure.ExposureF at 0x7f91135b8068>"
      ]
     },
     "execution_count": 13,
     "metadata": {},
     "output_type": "execute_result"
    }
   ],
   "source": [
    "calexp"
   ]
  },
  {
   "cell_type": "code",
   "execution_count": null,
   "metadata": {},
   "outputs": [],
   "source": []
  }
 ],
 "metadata": {
  "kernelspec": {
   "display_name": "Python 3",
   "language": "python",
   "name": "python3"
  },
  "language_info": {
   "codemirror_mode": {
    "name": "ipython",
    "version": 3
   },
   "file_extension": ".py",
   "mimetype": "text/x-python",
   "name": "python",
   "nbconvert_exporter": "python",
   "pygments_lexer": "ipython3",
   "version": "3.7.2"
  }
 },
 "nbformat": 4,
 "nbformat_minor": 2
}
