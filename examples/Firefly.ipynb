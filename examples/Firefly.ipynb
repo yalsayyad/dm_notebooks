{
 "cells": [
  {
   "cell_type": "markdown",
   "metadata": {},
   "source": [
    "# July 3 2019 Firefly Demo\n",
    "\n",
    "The best place to start is two LSST DM demo notebooks:\n",
    "* Part I: https://github.com/lsst-sqre/notebook-demo/blob/master/Firefly.ipynb\n",
    "* Part II: https://github.com/lsst/display_firefly/blob/master/examples/HSC-Footprints.ipynb\n",
    "* Part III: Fun with HSC image differences\n",
    "\n",
    "---\n",
    "## `https://github.com/lsst-sqre/notebook-demo/blob/master/Firefly.ipynb`\n",
    "# Firefly Visualization Demo\n",
    "\n",
    "This notebook is intended to demonstrate the [Firefly](https://mospace.umsystem.edu/xmlui/handle/10355/5346) interactive interface for viewing image data. It also builds on the pedagogical explanations provided in [Getting started tutorial part 3](https://pipelines.lsst.io/getting-started/display.html) of the LSST Stack v16.0 documentation.\n",
    "\n",
    "This tutorial seeks to teach you about how to use the LSST Science Pipelines to inspect outputs from `processCcd.py` by displaying images and source catalogs in the Firefly image viewer. In doing so, you’ll be introduced to some of the LSST Science Pipelines’ Python APIs, including:\n",
    "\n",
    "* Accessing datasets with the `Butler`.\n",
    "* Displaying images with `lsst.afw.display`\n",
    "* Pass source catalog data directly to the `FireflyClient`"
   ]
  },
  {
   "cell_type": "code",
   "execution_count": null,
   "metadata": {},
   "outputs": [],
   "source": []
  },
  {
   "cell_type": "markdown",
   "metadata": {},
   "source": [
    "## Set up\n",
    "\n",
    "This tutorial is meant to be run from the `jupyterhub` interface where the LSST stack is preinstalled. It assumes that the notebook is running a kernel with the `lsst_distrib` package set up.\n",
    "\n",
    "We start by importing packages from the LSST stack for data access and visualization."
   ]
  },
  {
   "cell_type": "code",
   "execution_count": 1,
   "metadata": {},
   "outputs": [],
   "source": [
    "# LSST stack imports\n",
    "from lsst.daf.persistence import Butler\n",
    "import lsst.afw.display as afwDisplay\n",
    "import lsst.afw.geom as afwGeom\n",
    "import numpy as np"
   ]
  },
  {
   "cell_type": "markdown",
   "metadata": {},
   "source": [
    "## Creating a Butler client\n",
    "\n",
    "All data in the LSST Pipelines flow through the `Butler`. LSST does not recommend directly accessing processed image files. Instead, use the `Butler` client available from the `lsst.daf.persistence` module imported above."
   ]
  },
  {
   "cell_type": "code",
   "execution_count": 2,
   "metadata": {},
   "outputs": [],
   "source": [
    "datadir = '/project/shared/data/Twinkles_subset/output_data_v2'\n",
    "butler = Butler(datadir)"
   ]
  },
  {
   "cell_type": "markdown",
   "metadata": {},
   "source": [
    "The `Butler` client reads from the data repository specified with the inputs argument. In this specific case, the data were downloaded from: [here](https://lsst-web.ncsa.illinois.edu/~krughoff/data/twinkles_subset.tar.gz).  See the `README.txt` in `/project/shared/data/Twinkles_subset` for more info."
   ]
  },
  {
   "cell_type": "markdown",
   "metadata": {},
   "source": [
    "## Listing available data IDs in the Butler\n",
    "\n",
    "To get data from the `Butler` you need to know two things: the dataset type and the data ID.\n",
    "\n",
    "Every dataset stored by the Butler has a well-defined type. Tasks read specific dataset types and output other specific dataset types. The `processCcd.py` command reads in raw datasets and outputs calexp, or calibrated exposure, datasets (among others). It’s calexp datasets that you’ll display in this tutorial.\n",
    "\n",
    "Data IDs let you reference specific instances of a dataset. On the command line you select data IDs with `--id` arguments, filtering by keys like `visit`, `raft`, `ccd`, and `filter`.\n",
    "\n",
    "Now, use the `Butler` client to find what data IDs are available for the `calexp` dataset type:\n",
    "\n"
   ]
  },
  {
   "cell_type": "code",
   "execution_count": 3,
   "metadata": {},
   "outputs": [
    {
     "data": {
      "text/plain": [
       "[(230, '2,2', '1,1'),\n",
       " (231, '2,2', '1,1'),\n",
       " (232, '2,2', '1,1'),\n",
       " (233, '2,2', '1,1'),\n",
       " (234, '2,2', '1,1'),\n",
       " (235, '2,2', '1,1'),\n",
       " (236, '2,2', '1,1'),\n",
       " (237, '2,2', '1,1'),\n",
       " (238, '2,2', '1,1'),\n",
       " (239, '2,2', '1,1')]"
      ]
     },
     "execution_count": 3,
     "metadata": {},
     "output_type": "execute_result"
    }
   ],
   "source": [
    "butler.queryMetadata('calexp', ['visit', 'raft', 'sensor'], dataId={'filter': 'r'})"
   ]
  },
  {
   "cell_type": "markdown",
   "metadata": {},
   "source": [
    "The printed output is a list of `(visit, raft, ccd)` key tuples for all data IDs where the filter key is the LSST r band. "
   ]
  },
  {
   "cell_type": "markdown",
   "metadata": {},
   "source": [
    "## Get an exposure through the Butler\n",
    "\n",
    "Knowing a specific data ID, let’s get the dataset with the `Butler` client’s get method:"
   ]
  },
  {
   "cell_type": "code",
   "execution_count": 4,
   "metadata": {},
   "outputs": [],
   "source": [
    "dataId = {'filter': 'r', 'raft': '2,2', 'sensor': '1,1', 'visit': 235}\n",
    "calexp = butler.get('calexp', **dataId)"
   ]
  },
  {
   "cell_type": "markdown",
   "metadata": {},
   "source": [
    "The `calexp` is an `ExposureF` Python object. Exposures are powerful representations of image data because they contain not only the image data, but also a variance image for uncertainty propagation, a bit mask image plane, and key-value metadata. They can also contain WCS and PSF model information. In the next steps you’ll learn how to display an Exposure’s image and mask."
   ]
  },
  {
   "cell_type": "markdown",
   "metadata": {},
   "source": [
    "## Create a Display\n",
    "\n",
    "To display the `calexp` you will use the LSST `afwDisplay` framework. It provides a uniform API for multiple display backends, including DS9, matplotlib, and LSST’s Firefly viewer. The default backend is `ds9`, but since we are working remotely on `jupyterhub` we would prefer to use the web-based Firefly display. A [user guide](https://pipelines.lsst.io/v/daily/modules/lsst.display.firefly/index.html)  for `lsst.display.firefly` is available on the [pipelines.lsst.io site](https://pipelines.lsst.io/v/daily)."
   ]
  },
  {
   "cell_type": "markdown",
   "metadata": {},
   "source": [
    "Now, we create a Firefly display."
   ]
  },
  {
   "cell_type": "code",
   "execution_count": 5,
   "metadata": {},
   "outputs": [],
   "source": [
    "afwDisplay.setDefaultBackend('firefly')\n",
    "display1 = afwDisplay.Display(frame=1)"
   ]
  },
  {
   "cell_type": "code",
   "execution_count": 6,
   "metadata": {},
   "outputs": [],
   "source": [
    "# Yusra notes that if you're on lsst-dev, you can do:\n",
    "\n",
    "# \n",
    "# display1 = afwDisplay.Display(backend='firefly', frame=1, url='https://lsst-demo.ncsa.illinois.edu/firefly')\n",
    "# display1.getClient().get_firefly_url()\n",
    "#\n",
    "# I've been told not to do this becaue your notebook won't be portable, but to instead do:\n",
    "# export FIREFLY_URL=https://lsst-demo.ncsa.illinois.edu/firefly\n",
    "#\n"
   ]
  },
  {
   "cell_type": "markdown",
   "metadata": {},
   "source": [
    "If you're on the LSP, you can drag the window to the right side so that you can see the display side-by-side with the notebook.  Or you can embed it:"
   ]
  },
  {
   "cell_type": "code",
   "execution_count": 7,
   "metadata": {},
   "outputs": [
    {
     "data": {
      "text/html": [
       "\n",
       "        <iframe\n",
       "            width=\"1100\"\n",
       "            height=\"700\"\n",
       "            src=\"https://lsst-demo.ncsa.illinois.edu/firefly/?__wsch=ffChan-nb-yusra-w-2019-25-1562045107-57\"\n",
       "            frameborder=\"0\"\n",
       "            allowfullscreen\n",
       "        ></iframe>\n",
       "        "
      ],
      "text/plain": [
       "<IPython.lib.display.IFrame at 0x7f60eceabc50>"
      ]
     },
     "execution_count": 7,
     "metadata": {},
     "output_type": "execute_result"
    }
   ],
   "source": [
    "from IPython.display import IFrame\n",
    "IFrame(display1.getClient().get_firefly_url(), 1100, 700)"
   ]
  },
  {
   "cell_type": "markdown",
   "metadata": {},
   "source": [
    "## Display the calexp (calibrated exposure)\n",
    "\n",
    "We can now build the display and use the `mtv` method to view the `calexp` with Firefly. First we display an image with mask planes and then overplot some sources."
   ]
  },
  {
   "cell_type": "code",
   "execution_count": 8,
   "metadata": {},
   "outputs": [],
   "source": [
    "display1.mtv(calexp)"
   ]
  },
  {
   "cell_type": "markdown",
   "metadata": {},
   "source": [
    "As soon as you execute the command a single simulated, calibrated LSST exposure, the `{'filter': 'r', 'raft': '2,2', 'sensor': '1,1', 'visit': 235}` data ID, should appear in the Firefly browser window.\n",
    "\n",
    "Notice that the image is overlaid with colorful regions. These are mask regions. Each color reflects a different mask bit that correspond to detections and different types of detector artifacts. You’ll learn how to interpret these colors later, but first you’ll likely want to adjust the image display."
   ]
  },
  {
   "cell_type": "markdown",
   "metadata": {},
   "source": [
    "## Improving the image display\n",
    "\n",
    "The display framework gives you control over the image display to help bring out image details. For example, to make masked regions semi-transparent, so that underlying image features are visible, try:"
   ]
  },
  {
   "cell_type": "code",
   "execution_count": 9,
   "metadata": {},
   "outputs": [],
   "source": [
    "display1.setMaskTransparency(80)"
   ]
  },
  {
   "cell_type": "markdown",
   "metadata": {},
   "source": [
    "The setMaskTransparency method’s argument can range from 0 (fully opaque) to 100 (fully transparent).\n",
    "\n",
    "You can also control the colorbar scaling algorithm with the display’s scale method. Try an asinh stretch with explicit minimum (black) and maximum (white) values:"
   ]
  },
  {
   "cell_type": "code",
   "execution_count": 10,
   "metadata": {},
   "outputs": [],
   "source": [
    "display1.scale(\"asinh\", -1, 30)"
   ]
  },
  {
   "cell_type": "markdown",
   "metadata": {},
   "source": [
    "You can also use an automatic algorithm like `zscale` (or `minmax`) to select the white and black thresholds:"
   ]
  },
  {
   "cell_type": "code",
   "execution_count": 11,
   "metadata": {},
   "outputs": [],
   "source": [
    "display1.scale(\"linear\", \"zscale\")"
   ]
  },
  {
   "cell_type": "markdown",
   "metadata": {},
   "source": [
    "## Interpreting displayed mask colors\n",
    "\n",
    "The display framework renders each plane of the mask in a different color (plane being a different bit in the mask). To interpret these colors you can get a dictionary of mask planes from the `calexp` and query the display for the colors it rendered each mask plane with. For example:"
   ]
  },
  {
   "cell_type": "code",
   "execution_count": 12,
   "metadata": {},
   "outputs": [
    {
     "name": "stdout",
     "output_type": "stream",
     "text": [
      "BAD: red\n",
      "CR: magenta\n",
      "DETECTED: blue\n",
      "DETECTED_NEGATIVE: cyan\n",
      "EDGE: yellow\n",
      "INTRP: green\n",
      "NO_DATA: orange\n",
      "SAT: green\n",
      "SUSPECT: yellow\n"
     ]
    }
   ],
   "source": [
    "mask = calexp.getMask()\n",
    "for maskName, maskBit in mask.getMaskPlaneDict().items():\n",
    "    print('{}: {}'.format(maskName, display1.getMaskPlaneColor(maskName)))"
   ]
  },
  {
   "cell_type": "markdown",
   "metadata": {},
   "source": [
    "In the Firefly viewer tab, the overlays button ![overlays button](http://irsa.ipac.caltech.edu/onlinehelp/finderchart/img/layers.png) on the toolbar gives you very detailed control over the mask planes, such as turning individual planes on and off, changing the color and adjusting the transparency. Mask transparency and colors can also be set using `afw.display` commands, for individual planes or for all."
   ]
  },
  {
   "cell_type": "markdown",
   "metadata": {},
   "source": [
    "## Plotting sources on the display\n",
    "\n",
    "The LSST processing pipeline also creates a table of the sources it used for PSF estimation as well as astrometric and photometric calibration. The dataset type of this table is `src`, which you can get from the Butler:"
   ]
  },
  {
   "cell_type": "code",
   "execution_count": 13,
   "metadata": {},
   "outputs": [],
   "source": [
    "src = butler.get('src', **dataId)"
   ]
  },
  {
   "cell_type": "markdown",
   "metadata": {},
   "source": [
    "The returned object, `src`, is a `lsst.afw.table.SourceTable` object. `SourceTables` are explored more elsewhere, but you can do some simple investigations using common python functions. For example, to check the length of the object:\n",
    "\n",
    "\n"
   ]
  },
  {
   "cell_type": "code",
   "execution_count": 14,
   "metadata": {},
   "outputs": [
    {
     "data": {
      "text/plain": [
       "2662"
      ]
     },
     "execution_count": 14,
     "metadata": {},
     "output_type": "execute_result"
    }
   ],
   "source": [
    "len(src)"
   ]
  },
  {
   "cell_type": "markdown",
   "metadata": {},
   "source": [
    "You can view an HTML rendering of the `src` table by getting an `astropy.table.Table` version of it:"
   ]
  },
  {
   "cell_type": "code",
   "execution_count": 15,
   "metadata": {},
   "outputs": [
    {
     "data": {
      "text/html": [
       "<i>Table length=5</i>\n",
       "<table id=\"table140054259015632\" class=\"table-striped table-bordered table-condensed\">\n",
       "<thead><tr><th>id</th><th>coord_ra</th><th>coord_dec</th><th>parent</th><th>calib_detected</th><th>calib_psfCandidate</th><th>calib_psfUsed</th><th>calib_psf_reserved</th><th>deblend_nChild</th><th>deblend_deblendedAsPsf</th><th>deblend_psfCenter_x</th><th>deblend_psfCenter_y</th><th>deblend_psfFlux</th><th>deblend_tooManyPeaks</th><th>deblend_parentTooBig</th><th>deblend_masked</th><th>deblend_skipped</th><th>deblend_rampedTemplate</th><th>deblend_patchedTemplate</th><th>deblend_hasStrayFlux</th><th>base_GaussianCentroid_x</th><th>base_GaussianCentroid_y</th><th>base_GaussianCentroid_flag</th><th>base_GaussianCentroid_flag_noPeak</th><th>base_GaussianCentroid_flag_resetToPeak</th><th>base_NaiveCentroid_x</th><th>base_NaiveCentroid_y</th><th>base_NaiveCentroid_flag</th><th>base_NaiveCentroid_flag_noCounts</th><th>base_NaiveCentroid_flag_edge</th><th>base_NaiveCentroid_flag_resetToPeak</th><th>base_SdssCentroid_x</th><th>slot_Centroid_x</th><th>base_SdssCentroid_y</th><th>slot_Centroid_y</th><th>base_SdssCentroid_xSigma</th><th>base_SdssCentroid_xErr</th><th>slot_Centroid_xSigma</th><th>base_SdssCentroid_ySigma</th><th>base_SdssCentroid_yErr</th><th>slot_Centroid_ySigma</th><th>base_SdssCentroid_flag</th><th>base_CircularApertureFlux_flag_badCentroid</th><th>base_GaussianCentroid_flag_badInitialCentroid</th><th>base_GaussianFlux_flag_badCentroid</th><th>base_NaiveCentroid_flag_badInitialCentroid</th><th>base_PsfFlux_flag_badCentroid</th><th>base_SdssShape_flag_badCentroid</th><th>base_Variance_flag_badCentroid</th><th>ext_photometryKron_KronFlux_flag_badInitialCentroid</th><th>ext_shapeHSM_HsmPsfMoments_flag_badCentroid</th><th>ext_shapeHSM_HsmShapeRegauss_flag_badCentroid</th><th>ext_shapeHSM_HsmSourceMomentsRound_flag_badCentroid</th><th>ext_shapeHSM_HsmSourceMoments_flag_badCentroid</th><th>slot_Centroid_flag</th><th>base_SdssCentroid_flag_edge</th><th>base_CircularApertureFlux_flag_badCentroid_edge</th><th>base_GaussianCentroid_flag_badInitialCentroid_edge</th><th>base_GaussianFlux_flag_badCentroid_edge</th><th>base_NaiveCentroid_flag_badInitialCentroid_edge</th><th>base_PsfFlux_flag_badCentroid_edge</th><th>base_SdssShape_flag_badCentroid_edge</th><th>base_Variance_flag_badCentroid_edge</th><th>ext_photometryKron_KronFlux_flag_badInitialCentroid_edge</th><th>ext_shapeHSM_HsmPsfMoments_flag_badCentroid_edge</th><th>ext_shapeHSM_HsmShapeRegauss_flag_badCentroid_edge</th><th>ext_shapeHSM_HsmSourceMomentsRound_flag_badCentroid_edge</th><th>ext_shapeHSM_HsmSourceMoments_flag_badCentroid_edge</th><th>slot_Centroid_flag_edge</th><th>base_SdssCentroid_flag_noSecondDerivative</th><th>base_CircularApertureFlux_flag_badCentroid_noSecondDerivative</th><th>base_GaussianCentroid_flag_badInitialCentroid_noSecondDerivative</th><th>base_GaussianFlux_flag_badCentroid_noSecondDerivative</th><th>base_NaiveCentroid_flag_badInitialCentroid_noSecondDerivative</th><th>base_PsfFlux_flag_badCentroid_noSecondDerivative</th><th>base_SdssShape_flag_badCentroid_noSecondDerivative</th><th>base_Variance_flag_badCentroid_noSecondDerivative</th><th>ext_photometryKron_KronFlux_flag_badInitialCentroid_noSecondDerivative</th><th>ext_shapeHSM_HsmPsfMoments_flag_badCentroid_noSecondDerivative</th><th>ext_shapeHSM_HsmShapeRegauss_flag_badCentroid_noSecondDerivative</th><th>ext_shapeHSM_HsmSourceMomentsRound_flag_badCentroid_noSecondDerivative</th><th>ext_shapeHSM_HsmSourceMoments_flag_badCentroid_noSecondDerivative</th><th>slot_Centroid_flag_noSecondDerivative</th><th>base_SdssCentroid_flag_almostNoSecondDerivative</th><th>base_CircularApertureFlux_flag_badCentroid_almostNoSecondDerivative</th><th>base_GaussianCentroid_flag_badInitialCentroid_almostNoSecondDerivative</th><th>base_GaussianFlux_flag_badCentroid_almostNoSecondDerivative</th><th>base_NaiveCentroid_flag_badInitialCentroid_almostNoSecondDerivative</th><th>base_PsfFlux_flag_badCentroid_almostNoSecondDerivative</th><th>base_SdssShape_flag_badCentroid_almostNoSecondDerivative</th><th>base_Variance_flag_badCentroid_almostNoSecondDerivative</th><th>ext_photometryKron_KronFlux_flag_badInitialCentroid_almostNoSecondDerivative</th><th>ext_shapeHSM_HsmPsfMoments_flag_badCentroid_almostNoSecondDerivative</th><th>ext_shapeHSM_HsmShapeRegauss_flag_badCentroid_almostNoSecondDerivative</th><th>ext_shapeHSM_HsmSourceMomentsRound_flag_badCentroid_almostNoSecondDerivative</th><th>ext_shapeHSM_HsmSourceMoments_flag_badCentroid_almostNoSecondDerivative</th><th>slot_Centroid_flag_almostNoSecondDerivative</th><th>base_SdssCentroid_flag_notAtMaximum</th><th>base_CircularApertureFlux_flag_badCentroid_notAtMaximum</th><th>base_GaussianCentroid_flag_badInitialCentroid_notAtMaximum</th><th>base_GaussianFlux_flag_badCentroid_notAtMaximum</th><th>base_NaiveCentroid_flag_badInitialCentroid_notAtMaximum</th><th>base_PsfFlux_flag_badCentroid_notAtMaximum</th><th>base_SdssShape_flag_badCentroid_notAtMaximum</th><th>base_Variance_flag_badCentroid_notAtMaximum</th><th>ext_photometryKron_KronFlux_flag_badInitialCentroid_notAtMaximum</th><th>ext_shapeHSM_HsmPsfMoments_flag_badCentroid_notAtMaximum</th><th>ext_shapeHSM_HsmShapeRegauss_flag_badCentroid_notAtMaximum</th><th>ext_shapeHSM_HsmSourceMomentsRound_flag_badCentroid_notAtMaximum</th><th>ext_shapeHSM_HsmSourceMoments_flag_badCentroid_notAtMaximum</th><th>slot_Centroid_flag_notAtMaximum</th><th>base_SdssCentroid_flag_resetToPeak</th><th>base_CircularApertureFlux_flag_badCentroid_resetToPeak</th><th>base_GaussianCentroid_flag_badInitialCentroid_resetToPeak</th><th>base_GaussianFlux_flag_badCentroid_resetToPeak</th><th>base_NaiveCentroid_flag_badInitialCentroid_resetToPeak</th><th>base_PsfFlux_flag_badCentroid_resetToPeak</th><th>base_SdssShape_flag_badCentroid_resetToPeak</th><th>base_Variance_flag_badCentroid_resetToPeak</th><th>ext_photometryKron_KronFlux_flag_badInitialCentroid_resetToPeak</th><th>ext_shapeHSM_HsmPsfMoments_flag_badCentroid_resetToPeak</th><th>ext_shapeHSM_HsmShapeRegauss_flag_badCentroid_resetToPeak</th><th>ext_shapeHSM_HsmSourceMomentsRound_flag_badCentroid_resetToPeak</th><th>ext_shapeHSM_HsmSourceMoments_flag_badCentroid_resetToPeak</th><th>slot_Centroid_flag_resetToPeak</th><th>base_Blendedness_old</th><th>base_Blendedness_raw_flux</th><th>base_Blendedness_raw_flux_child</th><th>base_Blendedness_raw_instFlux_child</th><th>base_Blendedness_raw_flux_parent</th><th>base_Blendedness_raw_instFlux_parent</th><th>base_Blendedness_abs_flux</th><th>base_Blendedness_abs_flux_child</th><th>base_Blendedness_abs_instFlux_child</th><th>base_Blendedness_abs_flux_parent</th><th>base_Blendedness_abs_instFlux_parent</th><th>base_Blendedness_raw_child_xx</th><th>base_Blendedness_raw_child_yy</th><th>base_Blendedness_raw_child_xy</th><th>base_Blendedness_raw_parent_xx</th><th>base_Blendedness_raw_parent_yy</th><th>base_Blendedness_raw_parent_xy</th><th>base_Blendedness_abs_child_xx</th><th>base_Blendedness_abs_child_yy</th><th>base_Blendedness_abs_child_xy</th><th>base_Blendedness_abs_parent_xx</th><th>base_Blendedness_abs_parent_yy</th><th>base_Blendedness_abs_parent_xy</th><th>base_Blendedness_flag</th><th>base_Blendedness_flag_noCentroid</th><th>base_Blendedness_flag_noShape</th><th>base_SdssShape_xx</th><th>base_SdssShape_yy</th><th>base_SdssShape_xy</th><th>base_SdssShape_xxSigma</th><th>base_SdssShape_xxErr</th><th>base_SdssShape_yySigma</th><th>base_SdssShape_yyErr</th><th>base_SdssShape_xySigma</th><th>base_SdssShape_xyErr</th><th>base_SdssShape_x</th><th>base_SdssShape_y</th><th>base_SdssShape_flux</th><th>base_SdssShape_instFlux</th><th>base_SdssShape_fluxSigma</th><th>base_SdssShape_instFluxSigma</th><th>base_SdssShape_instFluxErr</th><th>base_SdssShape_psf_xx</th><th>base_SdssShape_psf_yy</th><th>base_SdssShape_psf_xy</th><th>base_SdssShape_flux_xx_Cov</th><th>base_SdssShape_instFlux_xx_Cov</th><th>base_SdssShape_flux_yy_Cov</th><th>base_SdssShape_instFlux_yy_Cov</th><th>base_SdssShape_flux_xy_Cov</th><th>base_SdssShape_instFlux_xy_Cov</th><th>base_SdssShape_flag</th><th>base_SdssShape_flag_unweightedBad</th><th>base_SdssShape_flag_unweighted</th><th>base_SdssShape_flag_shift</th><th>base_SdssShape_flag_maxIter</th><th>base_SdssShape_flag_psf</th><th>ext_shapeHSM_HsmPsfMoments_x</th><th>slot_PsfShape_x</th><th>ext_shapeHSM_HsmPsfMoments_y</th><th>slot_PsfShape_y</th><th>ext_shapeHSM_HsmPsfMoments_xx</th><th>slot_PsfShape_xx</th><th>ext_shapeHSM_HsmPsfMoments_yy</th><th>slot_PsfShape_yy</th><th>ext_shapeHSM_HsmPsfMoments_xy</th><th>slot_PsfShape_xy</th><th>ext_shapeHSM_HsmPsfMoments_flag</th><th>slot_PsfShape_flag</th><th>ext_shapeHSM_HsmPsfMoments_flag_no_pixels</th><th>slot_PsfShape_flag_no_pixels</th><th>ext_shapeHSM_HsmPsfMoments_flag_not_contained</th><th>slot_PsfShape_flag_not_contained</th><th>ext_shapeHSM_HsmPsfMoments_flag_parent_source</th><th>slot_PsfShape_flag_parent_source</th><th>ext_shapeHSM_HsmShapeRegauss_e1</th><th>ext_shapeHSM_HsmShapeRegauss_e2</th><th>ext_shapeHSM_HsmShapeRegauss_sigma</th><th>ext_shapeHSM_HsmShapeRegauss_resolution</th><th>ext_shapeHSM_HsmShapeRegauss_flag</th><th>ext_shapeHSM_HsmShapeRegauss_flag_no_pixels</th><th>ext_shapeHSM_HsmShapeRegauss_flag_not_contained</th><th>ext_shapeHSM_HsmShapeRegauss_flag_parent_source</th><th>ext_shapeHSM_HsmShapeRegauss_flag_galsim</th><th>ext_shapeHSM_HsmSourceMoments_x</th><th>slot_Shape_x</th><th>ext_shapeHSM_HsmSourceMoments_y</th><th>slot_Shape_y</th><th>ext_shapeHSM_HsmSourceMoments_xx</th><th>slot_Shape_xx</th><th>ext_shapeHSM_HsmSourceMoments_yy</th><th>slot_Shape_yy</th><th>ext_shapeHSM_HsmSourceMoments_xy</th><th>slot_Shape_xy</th><th>ext_shapeHSM_HsmSourceMoments_flag</th><th>base_GaussianFlux_flag_badShape</th><th>slot_Shape_flag</th><th>ext_shapeHSM_HsmSourceMoments_flag_no_pixels</th><th>base_GaussianFlux_flag_badShape_no_pixels</th><th>slot_Shape_flag_no_pixels</th><th>ext_shapeHSM_HsmSourceMoments_flag_not_contained</th><th>base_GaussianFlux_flag_badShape_not_contained</th><th>slot_Shape_flag_not_contained</th><th>ext_shapeHSM_HsmSourceMoments_flag_parent_source</th><th>base_GaussianFlux_flag_badShape_parent_source</th><th>slot_Shape_flag_parent_source</th><th>ext_shapeHSM_HsmSourceMomentsRound_x</th><th>slot_ShapeRound_x</th><th>ext_shapeHSM_HsmSourceMomentsRound_y</th><th>slot_ShapeRound_y</th><th>ext_shapeHSM_HsmSourceMomentsRound_xx</th><th>slot_ShapeRound_xx</th><th>ext_shapeHSM_HsmSourceMomentsRound_yy</th><th>slot_ShapeRound_yy</th><th>ext_shapeHSM_HsmSourceMomentsRound_xy</th><th>slot_ShapeRound_xy</th><th>ext_shapeHSM_HsmSourceMomentsRound_flag</th><th>slot_ShapeRound_flag</th><th>ext_shapeHSM_HsmSourceMomentsRound_flag_no_pixels</th><th>slot_ShapeRound_flag_no_pixels</th><th>ext_shapeHSM_HsmSourceMomentsRound_flag_not_contained</th><th>slot_ShapeRound_flag_not_contained</th><th>ext_shapeHSM_HsmSourceMomentsRound_flag_parent_source</th><th>slot_ShapeRound_flag_parent_source</th><th>ext_shapeHSM_HsmSourceMomentsRound_Flux</th><th>slot_ShapeRound_Flux</th><th>base_CircularApertureFlux_3_0_flux</th><th>base_CircularApertureFlux_3_0_instFlux</th><th>base_CircularApertureFlux_3_0_fluxSigma</th><th>base_CircularApertureFlux_3_0_instFluxSigma</th><th>base_CircularApertureFlux_3_0_instFluxErr</th><th>base_CircularApertureFlux_3_0_flag</th><th>base_CircularApertureFlux_3_0_flag_apertureTruncated</th><th>base_CircularApertureFlux_3_0_flag_sincCoeffsTruncated</th><th>base_CircularApertureFlux_4_5_flux</th><th>base_CircularApertureFlux_4_5_instFlux</th><th>base_CircularApertureFlux_4_5_fluxSigma</th><th>base_CircularApertureFlux_4_5_instFluxSigma</th><th>base_CircularApertureFlux_4_5_instFluxErr</th><th>base_CircularApertureFlux_4_5_flag</th><th>base_CircularApertureFlux_4_5_flag_apertureTruncated</th><th>base_CircularApertureFlux_4_5_flag_sincCoeffsTruncated</th><th>base_CircularApertureFlux_6_0_flux</th><th>base_CircularApertureFlux_6_0_instFlux</th><th>base_CircularApertureFlux_6_0_fluxSigma</th><th>base_CircularApertureFlux_6_0_instFluxSigma</th><th>base_CircularApertureFlux_6_0_instFluxErr</th><th>base_CircularApertureFlux_6_0_flag</th><th>base_CircularApertureFlux_6_0_flag_apertureTruncated</th><th>base_CircularApertureFlux_6_0_flag_sincCoeffsTruncated</th><th>base_CircularApertureFlux_9_0_flux</th><th>base_CircularApertureFlux_9_0_instFlux</th><th>base_CircularApertureFlux_9_0_fluxSigma</th><th>base_CircularApertureFlux_9_0_instFluxSigma</th><th>base_CircularApertureFlux_9_0_instFluxErr</th><th>base_CircularApertureFlux_9_0_flag</th><th>base_CircularApertureFlux_9_0_flag_apertureTruncated</th><th>base_CircularApertureFlux_9_0_flag_sincCoeffsTruncated</th><th>base_CircularApertureFlux_12_0_flux</th><th>base_CircularApertureFlux_12_0_instFlux</th><th>slot_ApFlux_flux</th><th>slot_CalibFlux_flux</th><th>base_CircularApertureFlux_12_0_fluxSigma</th><th>base_CircularApertureFlux_12_0_instFluxSigma</th><th>base_CircularApertureFlux_12_0_instFluxErr</th><th>slot_ApFlux_fluxSigma</th><th>slot_CalibFlux_fluxSigma</th><th>base_CircularApertureFlux_12_0_flag</th><th>slot_ApFlux_flag</th><th>slot_CalibFlux_flag</th><th>base_CircularApertureFlux_12_0_flag_apertureTruncated</th><th>slot_ApFlux_flag_apertureTruncated</th><th>slot_CalibFlux_flag_apertureTruncated</th><th>base_CircularApertureFlux_12_0_flag_sincCoeffsTruncated</th><th>slot_ApFlux_flag_sincCoeffsTruncated</th><th>slot_CalibFlux_flag_sincCoeffsTruncated</th><th>base_CircularApertureFlux_17_0_flux</th><th>base_CircularApertureFlux_17_0_instFlux</th><th>base_CircularApertureFlux_17_0_fluxSigma</th><th>base_CircularApertureFlux_17_0_instFluxSigma</th><th>base_CircularApertureFlux_17_0_instFluxErr</th><th>base_CircularApertureFlux_17_0_flag</th><th>base_CircularApertureFlux_17_0_flag_apertureTruncated</th><th>base_CircularApertureFlux_25_0_flux</th><th>base_CircularApertureFlux_25_0_instFlux</th><th>base_CircularApertureFlux_25_0_fluxSigma</th><th>base_CircularApertureFlux_25_0_instFluxSigma</th><th>base_CircularApertureFlux_25_0_instFluxErr</th><th>base_CircularApertureFlux_25_0_flag</th><th>base_CircularApertureFlux_25_0_flag_apertureTruncated</th><th>base_CircularApertureFlux_35_0_flux</th><th>base_CircularApertureFlux_35_0_instFlux</th><th>base_CircularApertureFlux_35_0_fluxSigma</th><th>base_CircularApertureFlux_35_0_instFluxSigma</th><th>base_CircularApertureFlux_35_0_instFluxErr</th><th>base_CircularApertureFlux_35_0_flag</th><th>base_CircularApertureFlux_35_0_flag_apertureTruncated</th><th>base_CircularApertureFlux_50_0_flux</th><th>base_CircularApertureFlux_50_0_instFlux</th><th>base_CircularApertureFlux_50_0_fluxSigma</th><th>base_CircularApertureFlux_50_0_instFluxSigma</th><th>base_CircularApertureFlux_50_0_instFluxErr</th><th>base_CircularApertureFlux_50_0_flag</th><th>base_CircularApertureFlux_50_0_flag_apertureTruncated</th><th>base_CircularApertureFlux_70_0_flux</th><th>base_CircularApertureFlux_70_0_instFlux</th><th>base_CircularApertureFlux_70_0_fluxSigma</th><th>base_CircularApertureFlux_70_0_instFluxSigma</th><th>base_CircularApertureFlux_70_0_instFluxErr</th><th>base_CircularApertureFlux_70_0_flag</th><th>base_CircularApertureFlux_70_0_flag_apertureTruncated</th><th>base_GaussianFlux_flux</th><th>base_GaussianFlux_instFlux</th><th>slot_InstFlux_flux</th><th>slot_ModelFlux_flux</th><th>base_GaussianFlux_fluxSigma</th><th>base_GaussianFlux_instFluxSigma</th><th>base_GaussianFlux_instFluxErr</th><th>slot_InstFlux_fluxSigma</th><th>slot_ModelFlux_fluxSigma</th><th>base_GaussianFlux_flag</th><th>slot_InstFlux_flag</th><th>slot_ModelFlux_flag</th><th>base_PixelFlags_flag</th><th>base_PixelFlags_flag_offimage</th><th>base_PixelFlags_flag_edge</th><th>base_PixelFlags_flag_interpolated</th><th>base_PixelFlags_flag_saturated</th><th>base_PixelFlags_flag_cr</th><th>base_PixelFlags_flag_bad</th><th>base_PixelFlags_flag_suspect</th><th>base_PixelFlags_flag_interpolatedCenter</th><th>base_PixelFlags_flag_saturatedCenter</th><th>base_PixelFlags_flag_crCenter</th><th>base_PixelFlags_flag_suspectCenter</th><th>base_PsfFlux_flux</th><th>base_PsfFlux_instFlux</th><th>slot_PsfFlux_flux</th><th>base_PsfFlux_fluxSigma</th><th>base_PsfFlux_instFluxSigma</th><th>base_PsfFlux_instFluxErr</th><th>slot_PsfFlux_fluxSigma</th><th>base_PsfFlux_flag</th><th>slot_PsfFlux_flag</th><th>base_PsfFlux_flag_noGoodPixels</th><th>slot_PsfFlux_flag_noGoodPixels</th><th>base_PsfFlux_flag_edge</th><th>slot_PsfFlux_flag_edge</th><th>base_Variance_flag</th><th>base_Variance_value</th><th>base_Variance_flag_emptyFootprint</th><th>ext_photometryKron_KronFlux_flux</th><th>ext_photometryKron_KronFlux_instFlux</th><th>ext_photometryKron_KronFlux_fluxSigma</th><th>ext_photometryKron_KronFlux_instFluxSigma</th><th>ext_photometryKron_KronFlux_instFluxErr</th><th>ext_photometryKron_KronFlux_radius</th><th>ext_photometryKron_KronFlux_radius_for_radius</th><th>ext_photometryKron_KronFlux_psf_radius</th><th>ext_photometryKron_KronFlux_flag</th><th>ext_photometryKron_KronFlux_flag_edge</th><th>ext_photometryKron_KronFlux_flag_bad_shape_no_psf</th><th>ext_photometryKron_KronFlux_flag_no_minimum_radius</th><th>ext_photometryKron_KronFlux_flag_no_fallback_radius</th><th>ext_photometryKron_KronFlux_flag_bad_radius</th><th>ext_photometryKron_KronFlux_flag_used_minimum_radius</th><th>ext_photometryKron_KronFlux_flag_used_psf_radius</th><th>ext_photometryKron_KronFlux_flag_small_radius</th><th>ext_photometryKron_KronFlux_flag_bad_shape</th><th>base_GaussianFlux_apCorr</th><th>slot_InstFlux_apCorr</th><th>slot_ModelFlux_apCorr</th><th>base_GaussianFlux_apCorrSigma</th><th>base_GaussianFlux_apCorrErr</th><th>slot_InstFlux_apCorrSigma</th><th>slot_ModelFlux_apCorrSigma</th><th>base_GaussianFlux_flag_apCorr</th><th>slot_InstFlux_flag_apCorr</th><th>slot_ModelFlux_flag_apCorr</th><th>ext_photometryKron_KronFlux_apCorr</th><th>ext_photometryKron_KronFlux_apCorrSigma</th><th>ext_photometryKron_KronFlux_apCorrErr</th><th>ext_photometryKron_KronFlux_flag_apCorr</th><th>base_PsfFlux_apCorr</th><th>slot_PsfFlux_apCorr</th><th>base_PsfFlux_apCorrSigma</th><th>base_PsfFlux_apCorrErr</th><th>slot_PsfFlux_apCorrSigma</th><th>base_PsfFlux_flag_apCorr</th><th>slot_PsfFlux_flag_apCorr</th><th>base_ClassificationExtendedness_value</th><th>base_ClassificationExtendedness_flag</th><th>base_FootprintArea_value</th><th>calib_astrometryUsed</th><th>calib_photometry_used</th><th>calib_photometry_reserved</th></tr></thead>\n",
       "<thead><tr><th></th><th>rad</th><th>rad</th><th></th><th></th><th></th><th></th><th></th><th></th><th></th><th>pix</th><th>pix</th><th></th><th></th><th></th><th></th><th></th><th></th><th></th><th></th><th>pix</th><th>pix</th><th></th><th></th><th></th><th>pix</th><th>pix</th><th></th><th></th><th></th><th></th><th>pix</th><th>pix</th><th>pix</th><th>pix</th><th>pix</th><th>pix</th><th>pix</th><th>pix</th><th>pix</th><th>pix</th><th></th><th></th><th></th><th></th><th></th><th></th><th></th><th></th><th></th><th></th><th></th><th></th><th></th><th></th><th></th><th></th><th></th><th></th><th></th><th></th><th></th><th></th><th></th><th></th><th></th><th></th><th></th><th></th><th></th><th></th><th></th><th></th><th></th><th></th><th></th><th></th><th></th><th></th><th></th><th></th><th></th><th></th><th></th><th></th><th></th><th></th><th></th><th></th><th></th><th></th><th></th><th></th><th></th><th></th><th></th><th></th><th></th><th></th><th></th><th></th><th></th><th></th><th></th><th></th><th></th><th></th><th></th><th></th><th></th><th></th><th></th><th></th><th></th><th></th><th></th><th></th><th></th><th></th><th></th><th></th><th></th><th></th><th></th><th></th><th></th><th></th><th>ct</th><th>ct</th><th>ct</th><th>ct</th><th></th><th>ct</th><th>ct</th><th>ct</th><th>ct</th><th>pix2</th><th>pix2</th><th>pix2</th><th>pix2</th><th>pix2</th><th>pix2</th><th>pix2</th><th>pix2</th><th>pix2</th><th>pix2</th><th>pix2</th><th>pix2</th><th></th><th></th><th></th><th>pix2</th><th>pix2</th><th>pix2</th><th>pix2</th><th>pix2</th><th>pix2</th><th>pix2</th><th>pix2</th><th>pix2</th><th>pix</th><th>pix</th><th>ct</th><th>ct</th><th>ct</th><th>ct</th><th>ct</th><th>pix2</th><th>pix2</th><th>pix2</th><th>ct pix2</th><th>ct pix2</th><th>ct pix2</th><th>ct pix2</th><th>ct pix2</th><th>ct pix2</th><th></th><th></th><th></th><th></th><th></th><th></th><th>pix</th><th>pix</th><th>pix</th><th>pix</th><th>pix2</th><th>pix2</th><th>pix2</th><th>pix2</th><th>pix2</th><th>pix2</th><th></th><th></th><th></th><th></th><th></th><th></th><th></th><th></th><th></th><th></th><th></th><th></th><th></th><th></th><th></th><th></th><th></th><th>pix</th><th>pix</th><th>pix</th><th>pix</th><th>pix2</th><th>pix2</th><th>pix2</th><th>pix2</th><th>pix2</th><th>pix2</th><th></th><th></th><th></th><th></th><th></th><th></th><th></th><th></th><th></th><th></th><th></th><th></th><th>pix</th><th>pix</th><th>pix</th><th>pix</th><th>pix2</th><th>pix2</th><th>pix2</th><th>pix2</th><th>pix2</th><th>pix2</th><th></th><th></th><th></th><th></th><th></th><th></th><th></th><th></th><th></th><th></th><th>ct</th><th>ct</th><th>ct</th><th>ct</th><th>ct</th><th></th><th></th><th></th><th>ct</th><th>ct</th><th>ct</th><th>ct</th><th>ct</th><th></th><th></th><th></th><th>ct</th><th>ct</th><th>ct</th><th>ct</th><th>ct</th><th></th><th></th><th></th><th>ct</th><th>ct</th><th>ct</th><th>ct</th><th>ct</th><th></th><th></th><th></th><th>ct</th><th>ct</th><th>ct</th><th>ct</th><th>ct</th><th>ct</th><th>ct</th><th>ct</th><th>ct</th><th></th><th></th><th></th><th></th><th></th><th></th><th></th><th></th><th></th><th>ct</th><th>ct</th><th>ct</th><th>ct</th><th>ct</th><th></th><th></th><th>ct</th><th>ct</th><th>ct</th><th>ct</th><th>ct</th><th></th><th></th><th>ct</th><th>ct</th><th>ct</th><th>ct</th><th>ct</th><th></th><th></th><th>ct</th><th>ct</th><th>ct</th><th>ct</th><th>ct</th><th></th><th></th><th>ct</th><th>ct</th><th>ct</th><th>ct</th><th>ct</th><th></th><th></th><th>ct</th><th>ct</th><th>ct</th><th>ct</th><th>ct</th><th>ct</th><th>ct</th><th>ct</th><th>ct</th><th></th><th></th><th></th><th></th><th></th><th></th><th></th><th></th><th></th><th></th><th></th><th></th><th></th><th></th><th></th><th>ct</th><th>ct</th><th>ct</th><th>ct</th><th>ct</th><th>ct</th><th>ct</th><th></th><th></th><th></th><th></th><th></th><th></th><th></th><th></th><th></th><th>ct</th><th>ct</th><th>ct</th><th>ct</th><th>ct</th><th></th><th></th><th></th><th></th><th></th><th></th><th></th><th></th><th></th><th></th><th></th><th></th><th></th><th></th><th></th><th></th><th></th><th></th><th></th><th></th><th></th><th></th><th></th><th></th><th></th><th></th><th></th><th></th><th></th><th></th><th></th><th></th><th></th><th></th><th></th><th></th><th>pix</th><th></th><th></th><th></th></tr></thead>\n",
       "<thead><tr><th>int64</th><th>float64</th><th>float64</th><th>int64</th><th>bool</th><th>bool</th><th>bool</th><th>bool</th><th>int32</th><th>bool</th><th>float64</th><th>float64</th><th>float64</th><th>bool</th><th>bool</th><th>bool</th><th>bool</th><th>bool</th><th>bool</th><th>bool</th><th>float64</th><th>float64</th><th>bool</th><th>bool</th><th>bool</th><th>float64</th><th>float64</th><th>bool</th><th>bool</th><th>bool</th><th>bool</th><th>float64</th><th>float64</th><th>float64</th><th>float64</th><th>float32</th><th>float32</th><th>float32</th><th>float32</th><th>float32</th><th>float32</th><th>bool</th><th>bool</th><th>bool</th><th>bool</th><th>bool</th><th>bool</th><th>bool</th><th>bool</th><th>bool</th><th>bool</th><th>bool</th><th>bool</th><th>bool</th><th>bool</th><th>bool</th><th>bool</th><th>bool</th><th>bool</th><th>bool</th><th>bool</th><th>bool</th><th>bool</th><th>bool</th><th>bool</th><th>bool</th><th>bool</th><th>bool</th><th>bool</th><th>bool</th><th>bool</th><th>bool</th><th>bool</th><th>bool</th><th>bool</th><th>bool</th><th>bool</th><th>bool</th><th>bool</th><th>bool</th><th>bool</th><th>bool</th><th>bool</th><th>bool</th><th>bool</th><th>bool</th><th>bool</th><th>bool</th><th>bool</th><th>bool</th><th>bool</th><th>bool</th><th>bool</th><th>bool</th><th>bool</th><th>bool</th><th>bool</th><th>bool</th><th>bool</th><th>bool</th><th>bool</th><th>bool</th><th>bool</th><th>bool</th><th>bool</th><th>bool</th><th>bool</th><th>bool</th><th>bool</th><th>bool</th><th>bool</th><th>bool</th><th>bool</th><th>bool</th><th>bool</th><th>bool</th><th>bool</th><th>bool</th><th>bool</th><th>bool</th><th>bool</th><th>bool</th><th>bool</th><th>bool</th><th>bool</th><th>float64</th><th>float64</th><th>float64</th><th>float64</th><th>float64</th><th>float64</th><th>float64</th><th>float64</th><th>float64</th><th>float64</th><th>float64</th><th>float64</th><th>float64</th><th>float64</th><th>float64</th><th>float64</th><th>float64</th><th>float64</th><th>float64</th><th>float64</th><th>float64</th><th>float64</th><th>float64</th><th>bool</th><th>bool</th><th>bool</th><th>float64</th><th>float64</th><th>float64</th><th>float32</th><th>float32</th><th>float32</th><th>float32</th><th>float32</th><th>float32</th><th>float64</th><th>float64</th><th>float64</th><th>float64</th><th>float64</th><th>float64</th><th>float64</th><th>float64</th><th>float64</th><th>float64</th><th>float32</th><th>float32</th><th>float32</th><th>float32</th><th>float32</th><th>float32</th><th>bool</th><th>bool</th><th>bool</th><th>bool</th><th>bool</th><th>bool</th><th>float64</th><th>float64</th><th>float64</th><th>float64</th><th>float64</th><th>float64</th><th>float64</th><th>float64</th><th>float64</th><th>float64</th><th>bool</th><th>bool</th><th>bool</th><th>bool</th><th>bool</th><th>bool</th><th>bool</th><th>bool</th><th>float64</th><th>float64</th><th>float64</th><th>float64</th><th>bool</th><th>bool</th><th>bool</th><th>bool</th><th>bool</th><th>float64</th><th>float64</th><th>float64</th><th>float64</th><th>float64</th><th>float64</th><th>float64</th><th>float64</th><th>float64</th><th>float64</th><th>bool</th><th>bool</th><th>bool</th><th>bool</th><th>bool</th><th>bool</th><th>bool</th><th>bool</th><th>bool</th><th>bool</th><th>bool</th><th>bool</th><th>float64</th><th>float64</th><th>float64</th><th>float64</th><th>float64</th><th>float64</th><th>float64</th><th>float64</th><th>float64</th><th>float64</th><th>bool</th><th>bool</th><th>bool</th><th>bool</th><th>bool</th><th>bool</th><th>bool</th><th>bool</th><th>float32</th><th>float32</th><th>float64</th><th>float64</th><th>float64</th><th>float64</th><th>float64</th><th>bool</th><th>bool</th><th>bool</th><th>float64</th><th>float64</th><th>float64</th><th>float64</th><th>float64</th><th>bool</th><th>bool</th><th>bool</th><th>float64</th><th>float64</th><th>float64</th><th>float64</th><th>float64</th><th>bool</th><th>bool</th><th>bool</th><th>float64</th><th>float64</th><th>float64</th><th>float64</th><th>float64</th><th>bool</th><th>bool</th><th>bool</th><th>float64</th><th>float64</th><th>float64</th><th>float64</th><th>float64</th><th>float64</th><th>float64</th><th>float64</th><th>float64</th><th>bool</th><th>bool</th><th>bool</th><th>bool</th><th>bool</th><th>bool</th><th>bool</th><th>bool</th><th>bool</th><th>float64</th><th>float64</th><th>float64</th><th>float64</th><th>float64</th><th>bool</th><th>bool</th><th>float64</th><th>float64</th><th>float64</th><th>float64</th><th>float64</th><th>bool</th><th>bool</th><th>float64</th><th>float64</th><th>float64</th><th>float64</th><th>float64</th><th>bool</th><th>bool</th><th>float64</th><th>float64</th><th>float64</th><th>float64</th><th>float64</th><th>bool</th><th>bool</th><th>float64</th><th>float64</th><th>float64</th><th>float64</th><th>float64</th><th>bool</th><th>bool</th><th>float64</th><th>float64</th><th>float64</th><th>float64</th><th>float64</th><th>float64</th><th>float64</th><th>float64</th><th>float64</th><th>bool</th><th>bool</th><th>bool</th><th>bool</th><th>bool</th><th>bool</th><th>bool</th><th>bool</th><th>bool</th><th>bool</th><th>bool</th><th>bool</th><th>bool</th><th>bool</th><th>bool</th><th>float64</th><th>float64</th><th>float64</th><th>float64</th><th>float64</th><th>float64</th><th>float64</th><th>bool</th><th>bool</th><th>bool</th><th>bool</th><th>bool</th><th>bool</th><th>bool</th><th>float64</th><th>bool</th><th>float64</th><th>float64</th><th>float64</th><th>float64</th><th>float64</th><th>float32</th><th>float32</th><th>float32</th><th>bool</th><th>bool</th><th>bool</th><th>bool</th><th>bool</th><th>bool</th><th>bool</th><th>bool</th><th>bool</th><th>bool</th><th>float64</th><th>float64</th><th>float64</th><th>float64</th><th>float64</th><th>float64</th><th>float64</th><th>bool</th><th>bool</th><th>bool</th><th>float64</th><th>float64</th><th>float64</th><th>bool</th><th>float64</th><th>float64</th><th>float64</th><th>float64</th><th>float64</th><th>bool</th><th>bool</th><th>float64</th><th>bool</th><th>int32</th><th>bool</th><th>bool</th><th>bool</th></tr></thead>\n",
       "<tr><td>1010357501953</td><td>0.923033029229361</td><td>-0.4793723336088661</td><td>0</td><td>False</td><td>False</td><td>False</td><td>False</td><td>0</td><td>False</td><td>nan</td><td>nan</td><td>nan</td><td>False</td><td>False</td><td>False</td><td>False</td><td>False</td><td>False</td><td>False</td><td>1980.019868931552</td><td>7.642499448278578</td><td>False</td><td>False</td><td>False</td><td>1980.0453256720882</td><td>7.943966875047312</td><td>False</td><td>False</td><td>False</td><td>False</td><td>1980.0</td><td>1980.0</td><td>8.0</td><td>8.0</td><td>nan</td><td>nan</td><td>nan</td><td>nan</td><td>nan</td><td>nan</td><td>True</td><td>True</td><td>True</td><td>True</td><td>True</td><td>True</td><td>True</td><td>True</td><td>True</td><td>True</td><td>True</td><td>True</td><td>True</td><td>True</td><td>True</td><td>True</td><td>True</td><td>True</td><td>True</td><td>True</td><td>True</td><td>True</td><td>True</td><td>True</td><td>True</td><td>True</td><td>True</td><td>True</td><td>False</td><td>False</td><td>False</td><td>False</td><td>False</td><td>False</td><td>False</td><td>False</td><td>False</td><td>False</td><td>False</td><td>False</td><td>False</td><td>False</td><td>False</td><td>False</td><td>False</td><td>False</td><td>False</td><td>False</td><td>False</td><td>False</td><td>False</td><td>False</td><td>False</td><td>False</td><td>False</td><td>False</td><td>False</td><td>False</td><td>False</td><td>False</td><td>False</td><td>False</td><td>False</td><td>False</td><td>False</td><td>False</td><td>False</td><td>False</td><td>False</td><td>False</td><td>False</td><td>False</td><td>False</td><td>False</td><td>False</td><td>False</td><td>False</td><td>False</td><td>False</td><td>False</td><td>False</td><td>False</td><td>False</td><td>False</td><td>0.0</td><td>0.0</td><td>5096.54728820666</td><td>5096.54728820666</td><td>5096.54728820666</td><td>5096.54728820666</td><td>0.0</td><td>5098.721211862966</td><td>5098.721211862966</td><td>5098.721211862966</td><td>5098.721211862966</td><td>4.041121102495505</td><td>4.494217271276707</td><td>-0.3367538197030731</td><td>4.041121102495505</td><td>4.494217271276707</td><td>-0.3367538197030731</td><td>4.081307052165051</td><td>4.593879812379573</td><td>-0.3505340861513449</td><td>4.081307052165051</td><td>4.593879812379573</td><td>-0.3505340861513449</td><td>True</td><td>True</td><td>True</td><td>4.033203557887515</td><td>4.620004443579578</td><td>-0.2948944651416235</td><td>0.50965065</td><td>0.50965065</td><td>0.3866026</td><td>0.3866026</td><td>0.583801</td><td>0.583801</td><td>1980.01179804876</td><td>7.804458001407865</td><td>5204.457512306397</td><td>5204.457512306397</td><td>328.8273332063399</td><td>328.8273332063399</td><td>328.8273332063399</td><td>4.494544764128309</td><td>5.212304374560799</td><td>-0.1371336289244042</td><td>-83.79353</td><td>-83.79353</td><td>6.1267056</td><td>6.1267056</td><td>-95.98486</td><td>-95.98486</td><td>False</td><td>False</td><td>False</td><td>False</td><td>False</td><td>False</td><td>-0.0004632858349975</td><td>-0.0004632858349975</td><td>0.0017496107488251841</td><td>0.0017496107488251841</td><td>4.498141007165044</td><td>4.498141007165044</td><td>5.215121218023793</td><td>5.215121218023793</td><td>-0.1371611722138221</td><td>-0.1371611722138221</td><td>True</td><td>True</td><td>False</td><td>False</td><td>False</td><td>False</td><td>False</td><td>False</td><td>nan</td><td>nan</td><td>nan</td><td>nan</td><td>True</td><td>False</td><td>False</td><td>False</td><td>True</td><td>1980.0220472746714</td><td>1980.0220472746714</td><td>7.616673274566461</td><td>7.616673274566461</td><td>4.046703357874882</td><td>4.046703357874882</td><td>4.413891445445761</td><td>4.413891445445761</td><td>-0.3371103277975421</td><td>-0.3371103277975421</td><td>True</td><td>True</td><td>True</td><td>False</td><td>False</td><td>False</td><td>False</td><td>False</td><td>False</td><td>False</td><td>False</td><td>False</td><td>1980.0160443472944</td><td>1980.0160443472944</td><td>7.622242088225723</td><td>7.622242088225723</td><td>4.116252025546935</td><td>4.116252025546935</td><td>4.295061277190894</td><td>4.295061277190894</td><td>-0.16487429218976926</td><td>-0.16487429218976926</td><td>True</td><td>True</td><td>False</td><td>False</td><td>False</td><td>False</td><td>False</td><td>False</td><td>5177.1675</td><td>5177.1675</td><td>3287.5244140625</td><td>3287.5244140625</td><td>158.10244750976562</td><td>158.10244750976562</td><td>158.10244750976562</td><td>True</td><td>False</td><td>False</td><td>4587.88232421875</td><td>4587.88232421875</td><td>233.74769592285156</td><td>233.74769592285156</td><td>233.74769592285156</td><td>True</td><td>False</td><td>True</td><td>5432.3828125</td><td>5432.3828125</td><td>308.88043212890625</td><td>308.88043212890625</td><td>308.88043212890625</td><td>True</td><td>False</td><td>True</td><td>nan</td><td>nan</td><td>nan</td><td>nan</td><td>nan</td><td>True</td><td>True</td><td>True</td><td>nan</td><td>nan</td><td>nan</td><td>nan</td><td>nan</td><td>nan</td><td>nan</td><td>nan</td><td>nan</td><td>True</td><td>True</td><td>True</td><td>True</td><td>True</td><td>True</td><td>True</td><td>True</td><td>True</td><td>nan</td><td>nan</td><td>nan</td><td>nan</td><td>nan</td><td>True</td><td>True</td><td>nan</td><td>nan</td><td>nan</td><td>nan</td><td>nan</td><td>True</td><td>True</td><td>nan</td><td>nan</td><td>nan</td><td>nan</td><td>nan</td><td>True</td><td>True</td><td>nan</td><td>nan</td><td>nan</td><td>nan</td><td>nan</td><td>True</td><td>True</td><td>nan</td><td>nan</td><td>nan</td><td>nan</td><td>nan</td><td>True</td><td>True</td><td>5685.499181921204</td><td>5685.499181921204</td><td>5685.499181921204</td><td>5685.499181921204</td><td>254.03851366006722</td><td>254.03851366006722</td><td>254.03851366006722</td><td>254.03851366006722</td><td>254.03851366006722</td><td>False</td><td>False</td><td>False</td><td>False</td><td>False</td><td>True</td><td>False</td><td>False</td><td>False</td><td>False</td><td>False</td><td>False</td><td>False</td><td>False</td><td>False</td><td>6136.804745021554</td><td>6136.804745021554</td><td>6136.804745021554</td><td>267.14045510788</td><td>267.14045510788</td><td>267.14045510788</td><td>267.14045510788</td><td>True</td><td>True</td><td>False</td><td>False</td><td>True</td><td>True</td><td>False</td><td>816.5</td><td>False</td><td>nan</td><td>nan</td><td>nan</td><td>nan</td><td>nan</td><td>nan</td><td>nan</td><td>nan</td><td>True</td><td>True</td><td>False</td><td>False</td><td>False</td><td>False</td><td>False</td><td>False</td><td>False</td><td>True</td><td>1.1046485541028341</td><td>1.1046485541028341</td><td>1.1046485541028341</td><td>0.0</td><td>0.0</td><td>0.0</td><td>0.0</td><td>False</td><td>False</td><td>False</td><td>1.035658891796663</td><td>0.0</td><td>0.0</td><td>False</td><td>0.9880637531939365</td><td>0.9880637531939365</td><td>0.0</td><td>0.0</td><td>0.0</td><td>False</td><td>False</td><td>nan</td><td>True</td><td>219</td><td>False</td><td>False</td><td>False</td></tr>\n",
       "<tr><td>1010357501954</td><td>0.9231694833170864</td><td>-0.47984291442194804</td><td>0</td><td>False</td><td>False</td><td>False</td><td>False</td><td>0</td><td>False</td><td>nan</td><td>nan</td><td>nan</td><td>False</td><td>False</td><td>False</td><td>False</td><td>False</td><td>False</td><td>False</td><td>2481.0</td><td>7.0</td><td>True</td><td>False</td><td>True</td><td>2481.081254985273</td><td>6.656761002707083</td><td>False</td><td>False</td><td>False</td><td>False</td><td>2481.0</td><td>2481.0</td><td>7.0</td><td>7.0</td><td>nan</td><td>nan</td><td>nan</td><td>nan</td><td>nan</td><td>nan</td><td>True</td><td>True</td><td>True</td><td>True</td><td>True</td><td>True</td><td>True</td><td>True</td><td>True</td><td>True</td><td>True</td><td>True</td><td>True</td><td>True</td><td>True</td><td>True</td><td>True</td><td>True</td><td>True</td><td>True</td><td>True</td><td>True</td><td>True</td><td>True</td><td>True</td><td>True</td><td>True</td><td>True</td><td>False</td><td>False</td><td>False</td><td>False</td><td>False</td><td>False</td><td>False</td><td>False</td><td>False</td><td>False</td><td>False</td><td>False</td><td>False</td><td>False</td><td>False</td><td>False</td><td>False</td><td>False</td><td>False</td><td>False</td><td>False</td><td>False</td><td>False</td><td>False</td><td>False</td><td>False</td><td>False</td><td>False</td><td>False</td><td>False</td><td>False</td><td>False</td><td>False</td><td>False</td><td>False</td><td>False</td><td>False</td><td>False</td><td>False</td><td>False</td><td>False</td><td>False</td><td>False</td><td>False</td><td>False</td><td>False</td><td>False</td><td>False</td><td>False</td><td>False</td><td>False</td><td>False</td><td>False</td><td>False</td><td>False</td><td>False</td><td>0.0</td><td>0.0</td><td>4861.64280109757</td><td>4861.64280109757</td><td>4861.64280109757</td><td>4861.64280109757</td><td>0.0</td><td>4858.882106687269</td><td>4858.882106687269</td><td>4858.882106687269</td><td>4858.882106687269</td><td>5.619704489943014</td><td>2.2569570908999137</td><td>-0.22942789697451613</td><td>5.619704489943014</td><td>2.2569570908999137</td><td>-0.22942789697451613</td><td>5.62124833527127</td><td>2.2581591329912056</td><td>-0.23290560582537576</td><td>5.62124833527127</td><td>2.2581591329912056</td><td>-0.23290560582537576</td><td>True</td><td>True</td><td>True</td><td>4.735260032481499</td><td>15.521460739535787</td><td>-0.6623779549931184</td><td>nan</td><td>nan</td><td>nan</td><td>nan</td><td>nan</td><td>nan</td><td>2481.058729312579</td><td>6.0844143602473935</td><td>nan</td><td>nan</td><td>nan</td><td>nan</td><td>nan</td><td>4.479208026343726</td><td>5.245688032035276</td><td>-0.12282306095729793</td><td>nan</td><td>nan</td><td>nan</td><td>nan</td><td>nan</td><td>nan</td><td>True</td><td>False</td><td>True</td><td>False</td><td>False</td><td>False</td><td>-0.0012468354818022888</td><td>-0.0012468354818022888</td><td>0.0013916262282589402</td><td>0.0013916262282589402</td><td>4.482713763726027</td><td>4.482713763726027</td><td>5.248247574185301</td><td>5.248247574185301</td><td>-0.12262686082019596</td><td>-0.12262686082019596</td><td>True</td><td>True</td><td>False</td><td>False</td><td>False</td><td>False</td><td>False</td><td>False</td><td>nan</td><td>nan</td><td>nan</td><td>nan</td><td>True</td><td>False</td><td>False</td><td>False</td><td>True</td><td>2481.213842319571</td><td>2481.213842319571</td><td>2.6348222824329186</td><td>2.6348222824329186</td><td>4.498275901378852</td><td>4.498275901378852</td><td>0.9498700924730561</td><td>0.9498700924730561</td><td>-0.07294986290213222</td><td>-0.07294986290213222</td><td>True</td><td>True</td><td>True</td><td>False</td><td>False</td><td>False</td><td>False</td><td>False</td><td>False</td><td>False</td><td>False</td><td>False</td><td>2481.2065662802465</td><td>2481.2065662802465</td><td>2.8401171114565984</td><td>2.8401171114565984</td><td>3.1635837065221204</td><td>3.1635837065221204</td><td>1.6496305625620136</td><td>1.6496305625620136</td><td>-0.03608684390821266</td><td>-0.03608684390821266</td><td>True</td><td>True</td><td>False</td><td>False</td><td>False</td><td>False</td><td>False</td><td>False</td><td>44684.812</td><td>44684.812</td><td>7869.00927734375</td><td>7869.00927734375</td><td>170.34689331054688</td><td>170.34689331054688</td><td>170.34689331054688</td><td>True</td><td>False</td><td>False</td><td>25126.294921875</td><td>25126.294921875</td><td>271.5418701171875</td><td>271.5418701171875</td><td>271.5418701171875</td><td>True</td><td>False</td><td>True</td><td>54097.8515625</td><td>54097.8515625</td><td>376.9418029785156</td><td>376.9418029785156</td><td>376.9418029785156</td><td>True</td><td>False</td><td>True</td><td>nan</td><td>nan</td><td>nan</td><td>nan</td><td>nan</td><td>True</td><td>True</td><td>True</td><td>nan</td><td>nan</td><td>nan</td><td>nan</td><td>nan</td><td>nan</td><td>nan</td><td>nan</td><td>nan</td><td>True</td><td>True</td><td>True</td><td>True</td><td>True</td><td>True</td><td>True</td><td>True</td><td>True</td><td>nan</td><td>nan</td><td>nan</td><td>nan</td><td>nan</td><td>True</td><td>True</td><td>nan</td><td>nan</td><td>nan</td><td>nan</td><td>nan</td><td>True</td><td>True</td><td>nan</td><td>nan</td><td>nan</td><td>nan</td><td>nan</td><td>True</td><td>True</td><td>nan</td><td>nan</td><td>nan</td><td>nan</td><td>nan</td><td>True</td><td>True</td><td>nan</td><td>nan</td><td>nan</td><td>nan</td><td>nan</td><td>True</td><td>True</td><td>5565.411568579142</td><td>5565.411568579142</td><td>5565.411568579142</td><td>5565.411568579142</td><td>180.7610900871693</td><td>180.7610900871693</td><td>180.7610900871693</td><td>180.7610900871693</td><td>180.7610900871693</td><td>False</td><td>False</td><td>False</td><td>False</td><td>False</td><td>True</td><td>False</td><td>False</td><td>False</td><td>False</td><td>False</td><td>False</td><td>False</td><td>False</td><td>False</td><td>28075.820659722463</td><td>28075.820659722463</td><td>28075.820659722463</td><td>290.8160733166533</td><td>290.8160733166533</td><td>290.8160733166533</td><td>290.8160733166533</td><td>True</td><td>True</td><td>False</td><td>False</td><td>True</td><td>True</td><td>True</td><td>nan</td><td>True</td><td>nan</td><td>nan</td><td>nan</td><td>nan</td><td>nan</td><td>nan</td><td>nan</td><td>nan</td><td>True</td><td>True</td><td>False</td><td>False</td><td>False</td><td>False</td><td>False</td><td>False</td><td>False</td><td>True</td><td>1.103309825226218</td><td>1.103309825226218</td><td>1.103309825226218</td><td>0.0</td><td>0.0</td><td>0.0</td><td>0.0</td><td>False</td><td>False</td><td>False</td><td>1.0345385600790717</td><td>0.0</td><td>0.0</td><td>False</td><td>0.9866718800595933</td><td>0.9866718800595933</td><td>0.0</td><td>0.0</td><td>0.0</td><td>False</td><td>False</td><td>nan</td><td>True</td><td>290</td><td>False</td><td>False</td><td>False</td></tr>\n",
       "<tr><td>1010357501955</td><td>0.9232606263113138</td><td>-0.48015064707521005</td><td>0</td><td>False</td><td>False</td><td>False</td><td>False</td><td>0</td><td>False</td><td>nan</td><td>nan</td><td>nan</td><td>False</td><td>False</td><td>False</td><td>False</td><td>False</td><td>False</td><td>False</td><td>2808.550895997372</td><td>7.6145450937927555</td><td>False</td><td>False</td><td>False</td><td>2809.115913749368</td><td>7.985498569930726</td><td>False</td><td>False</td><td>False</td><td>False</td><td>2809.0</td><td>2809.0</td><td>8.0</td><td>8.0</td><td>nan</td><td>nan</td><td>nan</td><td>nan</td><td>nan</td><td>nan</td><td>True</td><td>True</td><td>True</td><td>True</td><td>True</td><td>True</td><td>True</td><td>True</td><td>True</td><td>True</td><td>True</td><td>True</td><td>True</td><td>True</td><td>True</td><td>True</td><td>True</td><td>True</td><td>True</td><td>True</td><td>True</td><td>True</td><td>True</td><td>True</td><td>True</td><td>True</td><td>True</td><td>True</td><td>False</td><td>False</td><td>False</td><td>False</td><td>False</td><td>False</td><td>False</td><td>False</td><td>False</td><td>False</td><td>False</td><td>False</td><td>False</td><td>False</td><td>False</td><td>False</td><td>False</td><td>False</td><td>False</td><td>False</td><td>False</td><td>False</td><td>False</td><td>False</td><td>False</td><td>False</td><td>False</td><td>False</td><td>False</td><td>False</td><td>False</td><td>False</td><td>False</td><td>False</td><td>False</td><td>False</td><td>False</td><td>False</td><td>False</td><td>False</td><td>False</td><td>False</td><td>False</td><td>False</td><td>False</td><td>False</td><td>False</td><td>False</td><td>False</td><td>False</td><td>False</td><td>False</td><td>False</td><td>False</td><td>False</td><td>False</td><td>0.0</td><td>0.0</td><td>4152.705157544043</td><td>4152.705157544043</td><td>4152.705157544043</td><td>4152.705157544043</td><td>0.0</td><td>4597.866309210161</td><td>4597.866309210161</td><td>4597.866309210161</td><td>4597.866309210161</td><td>11.180487762070285</td><td>11.604203740722133</td><td>-2.1544720730017453</td><td>11.180487762070285</td><td>11.604203740722133</td><td>-2.1544720730017453</td><td>14.421814199880618</td><td>14.396975879584325</td><td>-2.7770722301517736</td><td>14.421814199880618</td><td>14.396975879584325</td><td>-2.7770722301517736</td><td>True</td><td>True</td><td>True</td><td>11.832755898566637</td><td>13.743198572702662</td><td>-1.721126454527646</td><td>2.8073237</td><td>2.8073237</td><td>2.1587303</td><td>2.1587303</td><td>3.2605765</td><td>3.2605765</td><td>2808.831014679393</td><td>7.93151141303625</td><td>4556.534787611454</td><td>4556.534787611454</td><td>540.519376769358</td><td>540.519376769358</td><td>540.519376769358</td><td>4.471196771601749</td><td>5.276198781057862</td><td>-0.10904303539699525</td><td>-758.70636</td><td>-758.70636</td><td>110.357185</td><td>110.357185</td><td>-881.2024</td><td>-881.2024</td><td>False</td><td>False</td><td>False</td><td>False</td><td>False</td><td>False</td><td>-0.0017805092566785287</td><td>-0.0017805092566785287</td><td>0.0013532790120992047</td><td>0.0013532790120992047</td><td>4.474656641174518</td><td>4.474656641174518</td><td>5.27879171109894</td><td>5.27879171109894</td><td>-0.10879957969112511</td><td>-0.10879957969112511</td><td>True</td><td>True</td><td>False</td><td>False</td><td>False</td><td>False</td><td>False</td><td>False</td><td>0.0904681533575058</td><td>-0.4606698751449585</td><td>0.263982892036438</td><td>0.5253836512565613</td><td>False</td><td>False</td><td>False</td><td>False</td><td>False</td><td>2808.696367100513</td><td>2808.696367100513</td><td>7.756796933711694</td><td>7.756796933711694</td><td>11.166304978832367</td><td>11.166304978832367</td><td>11.081948351281211</td><td>11.081948351281211</td><td>-2.271744083254492</td><td>-2.271744083254492</td><td>True</td><td>True</td><td>True</td><td>False</td><td>False</td><td>False</td><td>False</td><td>False</td><td>False</td><td>False</td><td>False</td><td>False</td><td>2808.7218782689406</td><td>2808.7218782689406</td><td>7.8475261860635</td><td>7.8475261860635</td><td>10.587703676517556</td><td>10.587703676517556</td><td>11.148292141704792</td><td>11.148292141704792</td><td>-0.918265658858922</td><td>-0.918265658858922</td><td>True</td><td>True</td><td>False</td><td>False</td><td>False</td><td>False</td><td>False</td><td>False</td><td>4195.833</td><td>4195.833</td><td>1497.6934814453125</td><td>1497.6934814453125</td><td>152.51393127441406</td><td>152.51393127441406</td><td>152.51393127441406</td><td>True</td><td>False</td><td>False</td><td>2329.03759765625</td><td>2329.03759765625</td><td>228.65591430664062</td><td>228.65591430664062</td><td>228.65591430664062</td><td>True</td><td>False</td><td>True</td><td>3290.886474609375</td><td>3290.886474609375</td><td>305.20635986328125</td><td>305.20635986328125</td><td>305.20635986328125</td><td>True</td><td>False</td><td>True</td><td>nan</td><td>nan</td><td>nan</td><td>nan</td><td>nan</td><td>True</td><td>True</td><td>True</td><td>nan</td><td>nan</td><td>nan</td><td>nan</td><td>nan</td><td>nan</td><td>nan</td><td>nan</td><td>nan</td><td>True</td><td>True</td><td>True</td><td>True</td><td>True</td><td>True</td><td>True</td><td>True</td><td>True</td><td>nan</td><td>nan</td><td>nan</td><td>nan</td><td>nan</td><td>True</td><td>True</td><td>nan</td><td>nan</td><td>nan</td><td>nan</td><td>nan</td><td>True</td><td>True</td><td>nan</td><td>nan</td><td>nan</td><td>nan</td><td>nan</td><td>True</td><td>True</td><td>nan</td><td>nan</td><td>nan</td><td>nan</td><td>nan</td><td>True</td><td>True</td><td>nan</td><td>nan</td><td>nan</td><td>nan</td><td>nan</td><td>True</td><td>True</td><td>4649.395270923253</td><td>4649.395270923253</td><td>4649.395270923253</td><td>4649.395270923253</td><td>391.00847572921134</td><td>391.00847572921134</td><td>391.00847572921134</td><td>391.00847572921134</td><td>391.00847572921134</td><td>False</td><td>False</td><td>False</td><td>False</td><td>False</td><td>True</td><td>False</td><td>False</td><td>False</td><td>False</td><td>False</td><td>False</td><td>False</td><td>False</td><td>False</td><td>3004.149612937568</td><td>3004.149612937568</td><td>3004.149612937568</td><td>256.65130041700127</td><td>256.65130041700127</td><td>256.65130041700127</td><td>256.65130041700127</td><td>True</td><td>True</td><td>False</td><td>False</td><td>True</td><td>True</td><td>False</td><td>824.0</td><td>False</td><td>nan</td><td>nan</td><td>nan</td><td>nan</td><td>nan</td><td>nan</td><td>nan</td><td>nan</td><td>True</td><td>True</td><td>False</td><td>False</td><td>False</td><td>False</td><td>False</td><td>False</td><td>False</td><td>True</td><td>1.101998932411275</td><td>1.101998932411275</td><td>1.101998932411275</td><td>0.0</td><td>0.0</td><td>0.0</td><td>0.0</td><td>False</td><td>False</td><td>False</td><td>1.0336966044210236</td><td>0.0</td><td>0.0</td><td>False</td><td>0.985560006332403</td><td>0.985560006332403</td><td>0.0</td><td>0.0</td><td>0.0</td><td>False</td><td>False</td><td>nan</td><td>True</td><td>184</td><td>False</td><td>False</td><td>False</td></tr>\n",
       "<tr><td>1010357501956</td><td>0.9235299085068365</td><td>-0.48107097907657753</td><td>0</td><td>False</td><td>False</td><td>False</td><td>False</td><td>0</td><td>False</td><td>nan</td><td>nan</td><td>nan</td><td>False</td><td>False</td><td>False</td><td>False</td><td>False</td><td>False</td><td>False</td><td>3788.9342783281404</td><td>8.539387758264214</td><td>False</td><td>False</td><td>False</td><td>3789.0628974423266</td><td>7.925577176117846</td><td>False</td><td>False</td><td>False</td><td>False</td><td>3789.0</td><td>3789.0</td><td>8.0</td><td>8.0</td><td>nan</td><td>nan</td><td>nan</td><td>nan</td><td>nan</td><td>nan</td><td>True</td><td>True</td><td>True</td><td>True</td><td>True</td><td>True</td><td>True</td><td>True</td><td>True</td><td>True</td><td>True</td><td>True</td><td>True</td><td>True</td><td>True</td><td>True</td><td>True</td><td>True</td><td>True</td><td>True</td><td>True</td><td>True</td><td>True</td><td>True</td><td>True</td><td>True</td><td>True</td><td>True</td><td>False</td><td>False</td><td>False</td><td>False</td><td>False</td><td>False</td><td>False</td><td>False</td><td>False</td><td>False</td><td>False</td><td>False</td><td>False</td><td>False</td><td>False</td><td>False</td><td>False</td><td>False</td><td>False</td><td>False</td><td>False</td><td>False</td><td>False</td><td>False</td><td>False</td><td>False</td><td>False</td><td>False</td><td>False</td><td>False</td><td>False</td><td>False</td><td>False</td><td>False</td><td>False</td><td>False</td><td>False</td><td>False</td><td>False</td><td>False</td><td>False</td><td>False</td><td>False</td><td>False</td><td>False</td><td>False</td><td>False</td><td>False</td><td>False</td><td>False</td><td>False</td><td>False</td><td>False</td><td>False</td><td>False</td><td>False</td><td>0.0</td><td>0.0</td><td>15616.712100698851</td><td>15616.712100698851</td><td>15616.712100698851</td><td>15616.712100698851</td><td>0.0</td><td>15771.866305486508</td><td>15771.866305486508</td><td>15771.866305486508</td><td>15771.866305486508</td><td>22.317295135316595</td><td>17.628625474634067</td><td>1.3426715090655863</td><td>22.317295135316595</td><td>17.628625474634067</td><td>1.3426715090655863</td><td>24.105732643582808</td><td>18.157726471369575</td><td>1.0269614325000223</td><td>24.105732643582808</td><td>18.157726471369575</td><td>1.0269614325000223</td><td>True</td><td>True</td><td>True</td><td>22.62074281731808</td><td>18.843142576207818</td><td>1.7203644272460576</td><td>1.9011251</td><td>1.9011251</td><td>1.2311798</td><td>1.2311798</td><td>1.5836426</td><td>1.5836426</td><td>3788.931227369696</td><td>8.301989418010033</td><td>16546.66312700411</td><td>16546.66312700411</td><td>695.3192644118585</td><td>695.3192644118585</td><td>695.3192644118585</td><td>4.456390567853385</td><td>5.410120931755419</td><td>-0.046786939633374346</td><td>-660.94446</td><td>-660.94446</td><td>-50.26648</td><td>-50.26648</td><td>-550.5686</td><td>-550.5686</td><td>False</td><td>False</td><td>False</td><td>False</td><td>False</td><td>False</td><td>-0.0034748336809761107</td><td>-0.0034748336809761107</td><td>0.0022033385874969127</td><td>0.0022033385874969127</td><td>4.4599063231791645</td><td>4.4599063231791645</td><td>5.4126875616759555</td><td>5.4126875616759555</td><td>-0.04652427369480204</td><td>-0.04652427369480204</td><td>True</td><td>True</td><td>False</td><td>False</td><td>False</td><td>False</td><td>False</td><td>False</td><td>0.22757840156555176</td><td>0.07707726955413818</td><td>0.0739312693476677</td><td>0.7287380695343018</td><td>False</td><td>False</td><td>False</td><td>False</td><td>False</td><td>3788.8968688524865</td><td>3788.8968688524865</td><td>8.732921522395436</td><td>8.732921522395436</td><td>22.401641563943727</td><td>22.401641563943727</td><td>16.699578079693666</td><td>16.699578079693666</td><td>1.0620240869265756</td><td>1.0620240869265756</td><td>True</td><td>True</td><td>True</td><td>False</td><td>False</td><td>False</td><td>False</td><td>False</td><td>False</td><td>False</td><td>False</td><td>False</td><td>3788.9432678657017</td><td>3788.9432678657017</td><td>8.755193833344547</td><td>8.755193833344547</td><td>20.51962031977017</td><td>20.51962031977017</td><td>17.820076085364924</td><td>17.820076085364924</td><td>0.5032968735027773</td><td>0.5032968735027773</td><td>True</td><td>True</td><td>False</td><td>False</td><td>False</td><td>False</td><td>False</td><td>False</td><td>15818.458</td><td>15818.458</td><td>3348.310791015625</td><td>3348.310791015625</td><td>157.84092712402344</td><td>157.84092712402344</td><td>157.84092712402344</td><td>True</td><td>False</td><td>False</td><td>6507.99462890625</td><td>6507.99462890625</td><td>237.44920349121094</td><td>237.44920349121094</td><td>237.44920349121094</td><td>True</td><td>False</td><td>True</td><td>9759.1240234375</td><td>9759.1240234375</td><td>315.2978515625</td><td>315.2978515625</td><td>315.2978515625</td><td>True</td><td>False</td><td>True</td><td>nan</td><td>nan</td><td>nan</td><td>nan</td><td>nan</td><td>True</td><td>True</td><td>True</td><td>nan</td><td>nan</td><td>nan</td><td>nan</td><td>nan</td><td>nan</td><td>nan</td><td>nan</td><td>nan</td><td>True</td><td>True</td><td>True</td><td>True</td><td>True</td><td>True</td><td>True</td><td>True</td><td>True</td><td>nan</td><td>nan</td><td>nan</td><td>nan</td><td>nan</td><td>True</td><td>True</td><td>nan</td><td>nan</td><td>nan</td><td>nan</td><td>nan</td><td>True</td><td>True</td><td>nan</td><td>nan</td><td>nan</td><td>nan</td><td>nan</td><td>True</td><td>True</td><td>nan</td><td>nan</td><td>nan</td><td>nan</td><td>nan</td><td>True</td><td>True</td><td>nan</td><td>nan</td><td>nan</td><td>nan</td><td>nan</td><td>True</td><td>True</td><td>17555.006575893243</td><td>17555.006575893243</td><td>17555.006575893243</td><td>17555.006575893243</td><td>522.100111164956</td><td>522.100111164956</td><td>522.100111164956</td><td>522.100111164956</td><td>522.100111164956</td><td>False</td><td>False</td><td>False</td><td>False</td><td>False</td><td>True</td><td>False</td><td>False</td><td>False</td><td>False</td><td>False</td><td>False</td><td>False</td><td>False</td><td>False</td><td>7323.285472136086</td><td>7323.285472136086</td><td>7323.285472136086</td><td>264.8928158585222</td><td>264.8928158585222</td><td>264.8928158585222</td><td>264.8928158585222</td><td>True</td><td>True</td><td>False</td><td>False</td><td>True</td><td>True</td><td>False</td><td>825.0</td><td>False</td><td>nan</td><td>nan</td><td>nan</td><td>nan</td><td>nan</td><td>nan</td><td>nan</td><td>nan</td><td>True</td><td>True</td><td>False</td><td>False</td><td>False</td><td>False</td><td>False</td><td>False</td><td>False</td><td>True</td><td>1.096035329844537</td><td>1.096035329844537</td><td>1.096035329844537</td><td>0.0</td><td>0.0</td><td>0.0</td><td>0.0</td><td>False</td><td>False</td><td>False</td><td>1.030656877067036</td><td>0.0</td><td>0.0</td><td>False</td><td>0.9813535262603783</td><td>0.9813535262603783</td><td>0.0</td><td>0.0</td><td>0.0</td><td>False</td><td>False</td><td>nan</td><td>True</td><td>437</td><td>False</td><td>False</td><td>False</td></tr>\n",
       "<tr><td>1010357501957</td><td>0.9227888992171793</td><td>-0.4785170024901623</td><td>0</td><td>False</td><td>False</td><td>False</td><td>False</td><td>0</td><td>False</td><td>nan</td><td>nan</td><td>nan</td><td>False</td><td>False</td><td>False</td><td>False</td><td>False</td><td>False</td><td>False</td><td>1070.43384176351</td><td>12.834787065506172</td><td>False</td><td>False</td><td>False</td><td>1070.0450882626653</td><td>12.947012125580347</td><td>False</td><td>False</td><td>False</td><td>False</td><td>1070.0</td><td>1070.0</td><td>13.0</td><td>13.0</td><td>nan</td><td>nan</td><td>nan</td><td>nan</td><td>nan</td><td>nan</td><td>True</td><td>True</td><td>True</td><td>True</td><td>True</td><td>True</td><td>True</td><td>True</td><td>True</td><td>True</td><td>True</td><td>True</td><td>True</td><td>True</td><td>True</td><td>True</td><td>True</td><td>True</td><td>True</td><td>True</td><td>True</td><td>True</td><td>True</td><td>True</td><td>True</td><td>True</td><td>True</td><td>True</td><td>False</td><td>False</td><td>False</td><td>False</td><td>False</td><td>False</td><td>False</td><td>False</td><td>False</td><td>False</td><td>False</td><td>False</td><td>False</td><td>False</td><td>False</td><td>False</td><td>False</td><td>False</td><td>False</td><td>False</td><td>False</td><td>False</td><td>False</td><td>False</td><td>False</td><td>False</td><td>False</td><td>False</td><td>False</td><td>False</td><td>False</td><td>False</td><td>False</td><td>False</td><td>False</td><td>False</td><td>False</td><td>False</td><td>False</td><td>False</td><td>False</td><td>False</td><td>False</td><td>False</td><td>False</td><td>False</td><td>False</td><td>False</td><td>False</td><td>False</td><td>False</td><td>False</td><td>False</td><td>False</td><td>False</td><td>False</td><td>0.0</td><td>0.0</td><td>4895.88020847544</td><td>4895.88020847544</td><td>4895.88020847544</td><td>4895.88020847544</td><td>0.0</td><td>5043.820513783563</td><td>5043.820513783563</td><td>5043.820513783563</td><td>5043.820513783563</td><td>8.55331912840827</td><td>7.950985544281625</td><td>3.394492519172994</td><td>8.55331912840827</td><td>7.950985544281625</td><td>3.394492519172994</td><td>9.679942575995605</td><td>9.284586822467999</td><td>3.942529115981543</td><td>9.679942575995605</td><td>9.284586822467999</td><td>3.942529115981543</td><td>True</td><td>True</td><td>True</td><td>8.319025357400449</td><td>7.920644108981018</td><td>3.1895964271505</td><td>1.3703208</td><td>1.3703208</td><td>1.0158484</td><td>1.0158484</td><td>1.3046991</td><td>1.3046991</td><td>1070.2819457146793</td><td>12.9097334031074</td><td>4899.5911883445215</td><td>4899.5911883445215</td><td>403.53357446840096</td><td>403.53357446840096</td><td>403.53357446840096</td><td>4.532004446087842</td><td>5.192914673220645</td><td>-0.14360192452696993</td><td>-276.48523</td><td>-276.48523</td><td>-106.00717</td><td>-106.00717</td><td>-263.24493</td><td>-263.24493</td><td>False</td><td>False</td><td>False</td><td>False</td><td>False</td><td>False</td><td>0.0008790571276006704</td><td>0.0008790571276006704</td><td>0.0033906163707768</td><td>0.0033906163707768</td><td>4.535859761470915</td><td>4.535859761470915</td><td>5.195654005187468</td><td>5.195654005187468</td><td>-0.14370658234868955</td><td>-0.14370658234868955</td><td>True</td><td>True</td><td>False</td><td>False</td><td>False</td><td>False</td><td>False</td><td>False</td><td>0.24639376997947693</td><td>1.1743088960647583</td><td>0.2635611295700073</td><td>0.39405590295791626</td><td>False</td><td>False</td><td>False</td><td>False</td><td>False</td><td>1070.5779304392079</td><td>1070.5779304392079</td><td>12.832948902775113</td><td>12.832948902775113</td><td>8.850790868247172</td><td>8.850790868247172</td><td>8.031166276113169</td><td>8.031166276113169</td><td>3.5925352553620296</td><td>3.5925352553620296</td><td>True</td><td>True</td><td>True</td><td>False</td><td>False</td><td>False</td><td>False</td><td>False</td><td>False</td><td>False</td><td>False</td><td>False</td><td>1070.5322150016302</td><td>1070.5322150016302</td><td>12.83109063652391</td><td>12.83109063652391</td><td>7.792642362040445</td><td>7.792642362040445</td><td>7.554334942159042</td><td>7.554334942159042</td><td>1.552697768660967</td><td>1.552697768660967</td><td>True</td><td>True</td><td>False</td><td>False</td><td>False</td><td>False</td><td>False</td><td>False</td><td>4875.4854</td><td>4875.4854</td><td>2229.049560546875</td><td>2229.049560546875</td><td>154.75946044921875</td><td>154.75946044921875</td><td>154.75946044921875</td><td>True</td><td>False</td><td>False</td><td>3396.251708984375</td><td>3396.251708984375</td><td>231.010986328125</td><td>231.010986328125</td><td>231.010986328125</td><td>True</td><td>False</td><td>True</td><td>4309.892578125</td><td>4309.892578125</td><td>306.8758544921875</td><td>306.8758544921875</td><td>306.8758544921875</td><td>True</td><td>False</td><td>True</td><td>4929.19775390625</td><td>4929.19775390625</td><td>457.35845947265625</td><td>457.35845947265625</td><td>457.35845947265625</td><td>True</td><td>False</td><td>True</td><td>5370.736328125</td><td>5370.736328125</td><td>5370.736328125</td><td>5370.736328125</td><td>608.64453125</td><td>608.64453125</td><td>608.64453125</td><td>608.64453125</td><td>608.64453125</td><td>True</td><td>True</td><td>True</td><td>False</td><td>False</td><td>False</td><td>True</td><td>True</td><td>True</td><td>nan</td><td>nan</td><td>nan</td><td>nan</td><td>nan</td><td>True</td><td>True</td><td>nan</td><td>nan</td><td>nan</td><td>nan</td><td>nan</td><td>True</td><td>True</td><td>nan</td><td>nan</td><td>nan</td><td>nan</td><td>nan</td><td>True</td><td>True</td><td>nan</td><td>nan</td><td>nan</td><td>nan</td><td>nan</td><td>True</td><td>True</td><td>nan</td><td>nan</td><td>nan</td><td>nan</td><td>nan</td><td>True</td><td>True</td><td>5471.25201237689</td><td>5471.25201237689</td><td>5471.25201237689</td><td>5471.25201237689</td><td>318.7288177992751</td><td>318.7288177992751</td><td>318.7288177992751</td><td>318.7288177992751</td><td>318.7288177992751</td><td>False</td><td>False</td><td>False</td><td>False</td><td>False</td><td>True</td><td>False</td><td>False</td><td>False</td><td>False</td><td>False</td><td>False</td><td>False</td><td>False</td><td>False</td><td>4261.457688666958</td><td>4261.457688666958</td><td>4261.457688666958</td><td>261.34967757376387</td><td>261.34967757376387</td><td>261.34967757376387</td><td>261.34967757376387</td><td>True</td><td>True</td><td>False</td><td>False</td><td>True</td><td>True</td><td>False</td><td>819.0</td><td>False</td><td>nan</td><td>nan</td><td>nan</td><td>nan</td><td>nan</td><td>nan</td><td>nan</td><td>nan</td><td>True</td><td>True</td><td>False</td><td>False</td><td>False</td><td>False</td><td>False</td><td>False</td><td>False</td><td>True</td><td>1.1050217533878912</td><td>1.1050217533878912</td><td>1.1050217533878912</td><td>0.0</td><td>0.0</td><td>0.0</td><td>0.0</td><td>False</td><td>False</td><td>False</td><td>1.0371701276611676</td><td>0.0</td><td>0.0</td><td>False</td><td>0.9896647528582565</td><td>0.9896647528582565</td><td>0.0</td><td>0.0</td><td>0.0</td><td>False</td><td>False</td><td>nan</td><td>True</td><td>264</td><td>False</td><td>False</td><td>False</td></tr>\n",
       "</table>"
      ],
      "text/plain": [
       "<Table length=5>\n",
       "      id           coord_ra      ... calib_photometry_reserved\n",
       "                     rad         ...                          \n",
       "    int64          float64       ...            bool          \n",
       "------------- ------------------ ... -------------------------\n",
       "1010357501953  0.923033029229361 ...                     False\n",
       "1010357501954 0.9231694833170864 ...                     False\n",
       "1010357501955 0.9232606263113138 ...                     False\n",
       "1010357501956 0.9235299085068365 ...                     False\n",
       "1010357501957 0.9227888992171793 ...                     False"
      ]
     },
     "execution_count": 15,
     "metadata": {},
     "output_type": "execute_result"
    }
   ],
   "source": [
    "src.asAstropy()[:5]"
   ]
  },
  {
   "cell_type": "markdown",
   "metadata": {},
   "source": [
    "Now we’ll overplot sources from the `src` table onto the image display using the Display’s `dot` method for plotting markers. `Display.dot` plots markers individually, so you’ll need to iterate over rows in the `SourceTable`. Next we display the first 100 sources. We limit the number of sources since plotting the whole catalog is a serial process and takes some time. Because of this, it is more efficient to send a batch of updates to the display, so we enclose the loop in a `display.Buffering` context, like this:"
   ]
  },
  {
   "cell_type": "code",
   "execution_count": 16,
   "metadata": {},
   "outputs": [],
   "source": [
    "with display1.Buffering():\n",
    "    for record in src:\n",
    "        display1.dot('o', record.getX(), record.getY(), size=20, ctype='orange')"
   ]
  },
  {
   "cell_type": "markdown",
   "metadata": {},
   "source": [
    "Note that the first 100 sources are preferentially located at the bottom of the image. This spatial ordering is likely imprinted by the source detection algorithm; however, it could change due to parallelization. The units o the `size` parameter are believed to be pixels."
   ]
  },
  {
   "cell_type": "markdown",
   "metadata": {},
   "source": [
    "## Clearing markers\n",
    "\n",
    "`Display.dot` always adds new markers to the display. To clear the display of all markers, use the erase method:"
   ]
  },
  {
   "cell_type": "code",
   "execution_count": 17,
   "metadata": {},
   "outputs": [],
   "source": [
    "display1.erase()"
   ]
  },
  {
   "cell_type": "markdown",
   "metadata": {},
   "source": [
    "## Using FireflyClient directly."
   ]
  },
  {
   "cell_type": "markdown",
   "metadata": {},
   "source": [
    "We can also use the Firefly client directly to make plots and add catalogs to the visualization.  First retrieve the `FireflyClient` object."
   ]
  },
  {
   "cell_type": "code",
   "execution_count": 18,
   "metadata": {},
   "outputs": [],
   "source": [
    "fc = display1.getClient()"
   ]
  },
  {
   "cell_type": "markdown",
   "metadata": {},
   "source": [
    "For uploading a table it is convenient to use the firefly_client.plot module. Import it and ensure it is using the same FireflyClient instance."
   ]
  },
  {
   "cell_type": "code",
   "execution_count": 19,
   "metadata": {},
   "outputs": [],
   "source": [
    "import firefly_client.plot as ffplt\n",
    "ffplt.use_client(fc)"
   ]
  },
  {
   "cell_type": "markdown",
   "metadata": {},
   "source": [
    "Let's select just the sources that were used to fit the PSF. "
   ]
  },
  {
   "cell_type": "code",
   "execution_count": 20,
   "metadata": {},
   "outputs": [
    {
     "name": "stdout",
     "output_type": "stream",
     "text": [
      "[False False False ... False False False]\n"
     ]
    }
   ],
   "source": [
    "psf_src = src[src['calib_psfUsed']]\n",
    "print(src['calib_psfUsed'])"
   ]
  },
  {
   "cell_type": "markdown",
   "metadata": {},
   "source": [
    "Upload a SourceCatalog to Firefly. By default, the catalog is shown in an interactive table viewer."
   ]
  },
  {
   "cell_type": "code",
   "execution_count": 21,
   "metadata": {},
   "outputs": [],
   "source": [
    "tbl_id = ffplt.upload_table(psf_src, title='Source Catalog')"
   ]
  },
  {
   "cell_type": "markdown",
   "metadata": {},
   "source": [
    "Make a scatter plot."
   ]
  },
  {
   "cell_type": "code",
   "execution_count": 22,
   "metadata": {},
   "outputs": [],
   "source": [
    "ffplt.scatter(x_col='base_CircularApertureFlux_12_0_flux/base_GaussianFlux_flux',\n",
    "              y_col='log10(base_CircularApertureFlux_12_0_flux)',\n",
    "              size=4,\n",
    "              color='blue',\n",
    "              title='test ap flux/model mag vs. log(ap flux)',\n",
    "              xlabel='Model',\n",
    "              ylabel='Ap/Model')"
   ]
  },
  {
   "cell_type": "markdown",
   "metadata": {},
   "source": [
    "Plots are rendered by `plotly`, so follow the same syntax for construction.  For info on `plotly` see the [primer](https://plot.ly/python/getting-started/) and [examples](https://plot.ly/python/line-and-scatter/)."
   ]
  },
  {
   "cell_type": "code",
   "execution_count": 23,
   "metadata": {},
   "outputs": [],
   "source": [
    "display1.erase()"
   ]
  },
  {
   "cell_type": "markdown",
   "metadata": {},
   "source": [
    "## Wrap up\n",
    "In this tutorial we have used the `Butler` to access LSST simulation data and used the LSST Science Pipelines Python API to display images and tables. Here are some key takeaways:\n",
    "\n",
    "* Use the `lsst.daf.persistence.Butler` class to read and write data from repositories.\n",
    "* The `lsst.afw.display` module provides a flexible framework for sending data from LSST Science Pipelines code to image displays. We used the Firefly backend for web-based visualization (`ds9`, `matplotlib`, and `ginga` are other avialable backends).\n",
    "* `Exposure` objects have image data, mask data, and metadata. When you display an Exposure, the display framework automatically overlays mask planes.\n",
    "* We have accessed and visualized the Table of sources extracted from an image. The `Table.asAstropy` method can be used to view the table as an `astropy.table.Table`.\n",
    "* We have sent a subset of objects to directly to the Firefly API for additional plotting and investigation.\n",
    "\n",
    "------\n",
    "\n",
    " # Part II  https://github.com/lsst/display_firefly/blob/master/examples/HSC-Footprints.ipynb"
   ]
  },
  {
   "cell_type": "code",
   "execution_count": 24,
   "metadata": {},
   "outputs": [],
   "source": [
    "display1.erase()\n",
    "butler = Butler('/datasets/hsc/repo/rerun/RC/w_2019_22/DM-19244')\n",
    "\n",
    "# Define an ID for retrieving data\n",
    "\n",
    "dataId = dict(filter='HSC-R', tract=9813, patch='4,4')\n",
    "\n",
    "# Define a bounding boxes for a region of interest, one for the catalog and a larger one for the image.\n",
    "\n",
    "footprintsBbox = afwGeom.Box2I(corner=afwGeom.Point2I(16900, 18700),\n",
    "                     dimensions=afwGeom.Extent2I(600,600))\n",
    "imageBbox = afwGeom.Box2I(corner=afwGeom.Point2I(16800, 18600),\n",
    "                     dimensions=afwGeom.Extent2I(800,800))\n",
    "                               \n",
    "# Retrieve a cutout for the corresponding exposure / coadd\n",
    "coadd = butler.get('deepCoadd_sub', dataId=dataId, bbox=imageBbox)\n",
    "\n",
    "# Retrieve a catalog for the entire region\n",
    "measCat = butler.get('deepCoadd_meas', dataId=dataId)\n"
   ]
  },
  {
   "cell_type": "code",
   "execution_count": 25,
   "metadata": {},
   "outputs": [],
   "source": [
    "catSelect = np.array([footprintsBbox.contains(afwGeom.Point2I(r.getX(), r.getY()))\n",
    "                       for r in measCat])\n",
    "catalogSubset = measCat.subset(catSelect)"
   ]
  },
  {
   "cell_type": "code",
   "execution_count": 26,
   "metadata": {},
   "outputs": [],
   "source": [
    "display1.setMaskTransparency(80)\n",
    "display1.scale('asinh', 10, 80, unit='percent', Q=6)"
   ]
  },
  {
   "cell_type": "code",
   "execution_count": 27,
   "metadata": {},
   "outputs": [],
   "source": [
    "display1.resetLayout()\n",
    "display1.mtv(coadd)"
   ]
  },
  {
   "cell_type": "markdown",
   "metadata": {},
   "source": [
    "Overlay the footprints and accompanying table.\n",
    "\n",
    "Colors can be specified as a name like `'cyan'` or `afwDisplay.RED`; as an rgb value such as `'rgb(80,100,220)'`; or as rgb plus alpha (opacity) such as `'rgba('74,144,226,0.60)'`.\n",
    "\n",
    "The `layerString` and `titleString` are concatenated with the frame, to make the footprint drawing layer name and the table title, respectively. If multiple footprint layers are desired, be sure to use different values of `layerString`."
   ]
  },
  {
   "cell_type": "code",
   "execution_count": 28,
   "metadata": {},
   "outputs": [],
   "source": [
    "display1.overlayFootprints(catalogSubset, color='rgba(74,144,226,0.50)',\n",
    "                           highlightColor='yellow', selectColor='orange',\n",
    "                           style='outline', layerString='detection footprints ',\n",
    "                           titleString='catalog footprints ')"
   ]
  },
  {
   "cell_type": "markdown",
   "metadata": {},
   "source": [
    "_YA: Firefly can do a lot that's not exposed yet, because we don't have the interface with the stack._\n",
    "\n",
    "This was quickly written as a dmeo using `deepCoadd_meas` files which have had measurement and the deblender run. It would also be useful to be able to pass in a `footprint` detection catalog rather than a measurement catalog:\n",
    "\n",
    "Gregory says: \"A PR would be most welcome\"\n",
    "\n",
    "`https://github.com/lsst/display_firefly/blob/master/python/lsst/display/firefly/footprints.py`"
   ]
  },
  {
   "cell_type": "markdown",
   "metadata": {},
   "source": [
    "## Part III Fun with HSC image differences"
   ]
  },
  {
   "cell_type": "code",
   "execution_count": 29,
   "metadata": {},
   "outputs": [],
   "source": [
    "import lsst.daf.persistence as dafPersist\n",
    "import sqlite3\n",
    "import pandas as pd\n",
    "REPO = '/datasets/hsc/repo/rerun/private/yusra/RC2/ap_pipe_PDR1_bestcase'\n",
    "\n",
    "# Connect to the PPDB\n",
    "connection = sqlite3.connect(f'{REPO}/association.db')\n",
    "# Make a butler\n",
    "butler = dafPersist.Butler(REPO)"
   ]
  },
  {
   "cell_type": "code",
   "execution_count": 30,
   "metadata": {},
   "outputs": [],
   "source": [
    "# You can use the PPDB:\n",
    "\n",
    "ds = pd.read_sql_query(\"\"\"select ccdVisitId, ra, decl, psFlux, psFluxErr, midPointTai, \n",
    "x, y, ixxPSF, iyyPSF, ixyPSF, flags, snr, apFlux, apFluxErr, \n",
    "dipMeanFlux, dipMeanFluxErr, dipFluxDiff, \n",
    "dipFluxDiffErr, dipMeanFlux_dipFluxDiff_Cov, \n",
    "totFlux, totFluxErr, diffFlux, diffFluxErr \n",
    "from DiaSource where filterId=4\"\"\", connection)"
   ]
  },
  {
   "cell_type": "code",
   "execution_count": 31,
   "metadata": {},
   "outputs": [],
   "source": [
    "# create some derived columns\n",
    "\n",
    "ds['visit'] = ds.ccdVisitId.apply(lambda x: int(x/200.))\n",
    "ds['ccd'] = ds.ccdVisitId.apply(lambda x: int(np.round((x/200. - int(x/200.))*200)))\n",
    "\n",
    "SIGMA2FWHM = 2*np.sqrt(2*np.log(2))\n",
    "PIXEL_SCALE = 0.168\n",
    "traceRadius = np.sqrt(0.5) * np.sqrt(ds.ixxPSF + ds.iyyPSF)\n",
    "ds['seeing'] = SIGMA2FWHM * traceRadius"
   ]
  },
  {
   "cell_type": "code",
   "execution_count": 32,
   "metadata": {},
   "outputs": [
    {
     "name": "stderr",
     "output_type": "stream",
     "text": [
      "/opt/lsst/software/stack/stack/miniconda3-4.5.12-1172c30/Linux64/ap_association/17.0.1-6-ga2de75c+7/python/lsst/ap/association/mapApData.py:388: YAMLLoadWarning: calling yaml.load_all() without Loader=... is deprecated, as the default Loader is unsafe. Please read https://msg.pyyaml.org/load for full details.\n",
      "  table_list = list(yaml.load_all(yaml_stream))\n"
     ]
    },
    {
     "data": {
      "text/html": [
       "<div>\n",
       "<style scoped>\n",
       "    .dataframe tbody tr th:only-of-type {\n",
       "        vertical-align: middle;\n",
       "    }\n",
       "\n",
       "    .dataframe tbody tr th {\n",
       "        vertical-align: top;\n",
       "    }\n",
       "\n",
       "    .dataframe thead th {\n",
       "        text-align: right;\n",
       "    }\n",
       "</style>\n",
       "<table border=\"1\" class=\"dataframe\">\n",
       "  <thead>\n",
       "    <tr style=\"text-align: right;\">\n",
       "      <th></th>\n",
       "      <th>base_PixelFlags_flag</th>\n",
       "      <th>base_PixelFlags_flag_offimage</th>\n",
       "      <th>base_PixelFlags_flag_edge</th>\n",
       "      <th>base_PixelFlags_flag_interpolated</th>\n",
       "      <th>base_PixelFlags_flag_saturated</th>\n",
       "      <th>base_PixelFlags_flag_cr</th>\n",
       "      <th>base_PixelFlags_flag_bad</th>\n",
       "      <th>base_PixelFlags_flag_suspect</th>\n",
       "      <th>base_PixelFlags_flag_interpolatedCenter</th>\n",
       "      <th>base_PixelFlags_flag_saturatedCenter</th>\n",
       "      <th>...</th>\n",
       "      <th>slot_PsfFlux_flag_edge</th>\n",
       "      <th>ip_diffim_forced_PsfFlux_flag</th>\n",
       "      <th>ip_diffim_forced_PsfFlux_flag_noGoodPixels</th>\n",
       "      <th>ip_diffim_forced_PsfFlux_flag_edge</th>\n",
       "      <th>slot_Shape_flag</th>\n",
       "      <th>slot_Shape_flag_unweightedBad</th>\n",
       "      <th>slot_Shape_flag_unweighted</th>\n",
       "      <th>slot_Shape_flag_shift</th>\n",
       "      <th>slot_Shape_flag_maxIter</th>\n",
       "      <th>slot_Shape_flag_psf</th>\n",
       "    </tr>\n",
       "  </thead>\n",
       "  <tbody>\n",
       "    <tr>\n",
       "      <th>0</th>\n",
       "      <td>False</td>\n",
       "      <td>False</td>\n",
       "      <td>True</td>\n",
       "      <td>True</td>\n",
       "      <td>True</td>\n",
       "      <td>True</td>\n",
       "      <td>True</td>\n",
       "      <td>False</td>\n",
       "      <td>True</td>\n",
       "      <td>True</td>\n",
       "      <td>...</td>\n",
       "      <td>False</td>\n",
       "      <td>False</td>\n",
       "      <td>False</td>\n",
       "      <td>False</td>\n",
       "      <td>True</td>\n",
       "      <td>True</td>\n",
       "      <td>False</td>\n",
       "      <td>False</td>\n",
       "      <td>False</td>\n",
       "      <td>False</td>\n",
       "    </tr>\n",
       "    <tr>\n",
       "      <th>1</th>\n",
       "      <td>False</td>\n",
       "      <td>False</td>\n",
       "      <td>True</td>\n",
       "      <td>True</td>\n",
       "      <td>False</td>\n",
       "      <td>True</td>\n",
       "      <td>True</td>\n",
       "      <td>False</td>\n",
       "      <td>True</td>\n",
       "      <td>False</td>\n",
       "      <td>...</td>\n",
       "      <td>False</td>\n",
       "      <td>False</td>\n",
       "      <td>False</td>\n",
       "      <td>False</td>\n",
       "      <td>True</td>\n",
       "      <td>True</td>\n",
       "      <td>False</td>\n",
       "      <td>False</td>\n",
       "      <td>False</td>\n",
       "      <td>False</td>\n",
       "    </tr>\n",
       "    <tr>\n",
       "      <th>2</th>\n",
       "      <td>False</td>\n",
       "      <td>False</td>\n",
       "      <td>True</td>\n",
       "      <td>True</td>\n",
       "      <td>False</td>\n",
       "      <td>True</td>\n",
       "      <td>False</td>\n",
       "      <td>False</td>\n",
       "      <td>True</td>\n",
       "      <td>False</td>\n",
       "      <td>...</td>\n",
       "      <td>False</td>\n",
       "      <td>False</td>\n",
       "      <td>False</td>\n",
       "      <td>False</td>\n",
       "      <td>True</td>\n",
       "      <td>False</td>\n",
       "      <td>True</td>\n",
       "      <td>False</td>\n",
       "      <td>False</td>\n",
       "      <td>False</td>\n",
       "    </tr>\n",
       "    <tr>\n",
       "      <th>3</th>\n",
       "      <td>False</td>\n",
       "      <td>False</td>\n",
       "      <td>True</td>\n",
       "      <td>False</td>\n",
       "      <td>False</td>\n",
       "      <td>False</td>\n",
       "      <td>False</td>\n",
       "      <td>False</td>\n",
       "      <td>False</td>\n",
       "      <td>False</td>\n",
       "      <td>...</td>\n",
       "      <td>False</td>\n",
       "      <td>False</td>\n",
       "      <td>False</td>\n",
       "      <td>False</td>\n",
       "      <td>True</td>\n",
       "      <td>True</td>\n",
       "      <td>False</td>\n",
       "      <td>False</td>\n",
       "      <td>False</td>\n",
       "      <td>False</td>\n",
       "    </tr>\n",
       "    <tr>\n",
       "      <th>4</th>\n",
       "      <td>False</td>\n",
       "      <td>False</td>\n",
       "      <td>False</td>\n",
       "      <td>False</td>\n",
       "      <td>False</td>\n",
       "      <td>False</td>\n",
       "      <td>False</td>\n",
       "      <td>False</td>\n",
       "      <td>False</td>\n",
       "      <td>False</td>\n",
       "      <td>...</td>\n",
       "      <td>False</td>\n",
       "      <td>False</td>\n",
       "      <td>False</td>\n",
       "      <td>False</td>\n",
       "      <td>True</td>\n",
       "      <td>True</td>\n",
       "      <td>False</td>\n",
       "      <td>False</td>\n",
       "      <td>False</td>\n",
       "      <td>False</td>\n",
       "    </tr>\n",
       "  </tbody>\n",
       "</table>\n",
       "<p>5 rows × 29 columns</p>\n",
       "</div>"
      ],
      "text/plain": [
       "   base_PixelFlags_flag  base_PixelFlags_flag_offimage  \\\n",
       "0                 False                          False   \n",
       "1                 False                          False   \n",
       "2                 False                          False   \n",
       "3                 False                          False   \n",
       "4                 False                          False   \n",
       "\n",
       "   base_PixelFlags_flag_edge  base_PixelFlags_flag_interpolated  \\\n",
       "0                       True                               True   \n",
       "1                       True                               True   \n",
       "2                       True                               True   \n",
       "3                       True                              False   \n",
       "4                      False                              False   \n",
       "\n",
       "   base_PixelFlags_flag_saturated  base_PixelFlags_flag_cr  \\\n",
       "0                            True                     True   \n",
       "1                           False                     True   \n",
       "2                           False                     True   \n",
       "3                           False                    False   \n",
       "4                           False                    False   \n",
       "\n",
       "   base_PixelFlags_flag_bad  base_PixelFlags_flag_suspect  \\\n",
       "0                      True                         False   \n",
       "1                      True                         False   \n",
       "2                     False                         False   \n",
       "3                     False                         False   \n",
       "4                     False                         False   \n",
       "\n",
       "   base_PixelFlags_flag_interpolatedCenter  \\\n",
       "0                                     True   \n",
       "1                                     True   \n",
       "2                                     True   \n",
       "3                                    False   \n",
       "4                                    False   \n",
       "\n",
       "   base_PixelFlags_flag_saturatedCenter  ...  slot_PsfFlux_flag_edge  \\\n",
       "0                                  True  ...                   False   \n",
       "1                                 False  ...                   False   \n",
       "2                                 False  ...                   False   \n",
       "3                                 False  ...                   False   \n",
       "4                                 False  ...                   False   \n",
       "\n",
       "   ip_diffim_forced_PsfFlux_flag  ip_diffim_forced_PsfFlux_flag_noGoodPixels  \\\n",
       "0                          False                                       False   \n",
       "1                          False                                       False   \n",
       "2                          False                                       False   \n",
       "3                          False                                       False   \n",
       "4                          False                                       False   \n",
       "\n",
       "   ip_diffim_forced_PsfFlux_flag_edge  slot_Shape_flag  \\\n",
       "0                               False             True   \n",
       "1                               False             True   \n",
       "2                               False             True   \n",
       "3                               False             True   \n",
       "4                               False             True   \n",
       "\n",
       "   slot_Shape_flag_unweightedBad  slot_Shape_flag_unweighted  \\\n",
       "0                           True                       False   \n",
       "1                           True                       False   \n",
       "2                          False                        True   \n",
       "3                           True                       False   \n",
       "4                           True                       False   \n",
       "\n",
       "   slot_Shape_flag_shift  slot_Shape_flag_maxIter  slot_Shape_flag_psf  \n",
       "0                  False                    False                False  \n",
       "1                  False                    False                False  \n",
       "2                  False                    False                False  \n",
       "3                  False                    False                False  \n",
       "4                  False                    False                False  \n",
       "\n",
       "[5 rows x 29 columns]"
      ]
     },
     "execution_count": 32,
     "metadata": {},
     "output_type": "execute_result"
    }
   ],
   "source": [
    "# Get flags\n",
    "from lsst.ap.association import UnpackPpdbFlags, MapDiaSourceConfig\n",
    "config = MapDiaSourceConfig()\n",
    "unpacker = UnpackPpdbFlags(config.flagMap, 'DiaSource')\n",
    "flag_values = unpacker.unpack(ds['flags'], 'flags')\n",
    "flag_names = list(flag_values.dtype.names)\n",
    "flagDF = pd.DataFrame(flag_values)\n",
    "flagDF.head()"
   ]
  },
  {
   "cell_type": "code",
   "execution_count": 33,
   "metadata": {},
   "outputs": [],
   "source": [
    "# Bad Flag Names are our current recommendation filtering difference image detections\n",
    "badFlagNames = ['base_PixelFlags_flag_saturated', \n",
    "                'base_PixelFlags_flag_suspect',\n",
    "                'base_PixelFlags_flag_bad',\n",
    "                'slot_Shape_flag']"
   ]
  },
  {
   "cell_type": "code",
   "execution_count": 34,
   "metadata": {},
   "outputs": [],
   "source": [
    "idxGood = flagDF[badFlagNames].sum(axis = 1) == 0 \n",
    "idxBad =  flagDF[badFlagNames].sum(axis = 1) != 0 "
   ]
  },
  {
   "cell_type": "code",
   "execution_count": 35,
   "metadata": {},
   "outputs": [],
   "source": [
    "dataId = dict(ccd=58, visit=19658)\n",
    "exp = butler.get('deepDiff_differenceExp', ccd=58, visit=19658)\n",
    "cat = butler.get('deepDiff_diaSrc', dataId=dataId)"
   ]
  },
  {
   "cell_type": "code",
   "execution_count": 36,
   "metadata": {},
   "outputs": [],
   "source": [
    "# You can reinitialize a Firefly viewer tab with\n",
    "display1.clearViewer()\n",
    "# Making a display tab reopen after closing it\n",
    "display1.show()\n"
   ]
  },
  {
   "cell_type": "code",
   "execution_count": 37,
   "metadata": {},
   "outputs": [],
   "source": [
    "display1.mtv(exp)"
   ]
  },
  {
   "cell_type": "code",
   "execution_count": 38,
   "metadata": {},
   "outputs": [],
   "source": [
    "# Plot unflagged sources:\n",
    "subset = ds[(ds.visit==19658) & (ds.ccd==58) & (idxGood)]\n",
    "\n",
    "with display1.Buffering():\n",
    "    for key, record in subset.iterrows():\n",
    "        display1.dot('o', record['x'], record['y'], size=20, ctype='cyan')"
   ]
  },
  {
   "cell_type": "markdown",
   "metadata": {},
   "source": [
    "It gets overwhelmed if you plot thousands of dots on an image, so we downsample the rows with shape flags and the large footprint peaks:"
   ]
  },
  {
   "cell_type": "code",
   "execution_count": 39,
   "metadata": {},
   "outputs": [
    {
     "name": "stdout",
     "output_type": "stream",
     "text": [
      "3446\n"
     ]
    }
   ],
   "source": [
    "# Plot flagged sources:\n",
    "subset = ds[(ds.visit==19658) & (ds.ccd==58) & (idxBad)]\n",
    "\n",
    "print(len(subset))\n",
    "# plot only a random 500 rows \n",
    "with display1.Buffering():\n",
    "    for key, record in subset.sample(500).iterrows():\n",
    "        display1.dot('+', record['x'], record['y'], size=20, ctype='red')"
   ]
  },
  {
   "cell_type": "code",
   "execution_count": 40,
   "metadata": {},
   "outputs": [],
   "source": [
    "# Plot peaks in larger footprints\n",
    "with display1.Buffering():\n",
    "    for record in cat:\n",
    "        footprint = record.getFootprint()\n",
    "        if footprint.getArea() > 1000:\n",
    "            # Plot only every 10th peak. \n",
    "            for peak in footprint.getPeaks()[::10]:\n",
    "                display1.dot('+', peak['f_x'], peak['f_y'], size=10, ctype='orange')"
   ]
  },
  {
   "cell_type": "code",
   "execution_count": null,
   "metadata": {},
   "outputs": [],
   "source": []
  },
  {
   "cell_type": "code",
   "execution_count": null,
   "metadata": {},
   "outputs": [],
   "source": []
  }
 ],
 "metadata": {
  "kernelspec": {
   "display_name": "LSST",
   "language": "python",
   "name": "lsst"
  },
  "language_info": {
   "codemirror_mode": {
    "name": "ipython",
    "version": 3
   },
   "file_extension": ".py",
   "mimetype": "text/x-python",
   "name": "python",
   "nbconvert_exporter": "python",
   "pygments_lexer": "ipython3",
   "version": "3.7.2"
  }
 },
 "nbformat": 4,
 "nbformat_minor": 2
}
