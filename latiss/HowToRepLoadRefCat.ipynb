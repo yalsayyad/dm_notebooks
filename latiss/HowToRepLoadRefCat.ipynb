{
 "cells": [
  {
   "cell_type": "markdown",
   "id": "2eddca74-c8de-49e9-b7ef-527d8e12dc5a",
   "metadata": {},
   "source": [
    "# How to reproduce refcat loading \n",
    "\n",
    "This was run at the USDF. Check to see if you get the same answer with the summit butler"
   ]
  },
  {
   "cell_type": "code",
   "execution_count": 1,
   "id": "d7a60063-4566-46f0-a6f4-7e6f889d0c51",
   "metadata": {},
   "outputs": [],
   "source": [
    "from lsst.daf.butler import Butler\n",
    "import lsst.daf.butler as dafButler\n",
    "from lsst.pipe.tasks.characterizeImage import CharacterizeImageTask, CharacterizeImageConfig\n",
    "from lsst.pipe.tasks.calibrate import CalibrateTask, CalibrateConfig\n",
    "from lsst.utils import getPackageDir\n",
    "from lsst.meas.algorithms import ReferenceObjectLoader\n",
    "from lsst.daf.base import DateTime\n",
    "import astropy.time"
   ]
  },
  {
   "cell_type": "code",
   "execution_count": 2,
   "id": "9f292a77-a561-48b2-b7ab-7cbc0de71110",
   "metadata": {},
   "outputs": [],
   "source": [
    "#butler = Butler('/repo/embargo', collections=['LATISS/runs/quickLook',])\n",
    "import lsst.summit.utils.butlerUtils as butlerUtils\n",
    "butler = butlerUtils.makeDefaultLatissButler(embargo=True)\n",
    "\n",
    "\n",
    "# Setting up tasks isn't necessary, but just to have available:\n",
    "config = CharacterizeImageConfig()\n",
    "basicConfig = CharacterizeImageConfig()\n",
    "obs_lsst = getPackageDir(\"obs_lsst\")\n",
    "config.load(os.path.join(obs_lsst, \"config\", \"characterizeImage.py\"))\n",
    "config.load(os.path.join(obs_lsst, \"config\", \"latiss\", \"characterizeImage.py\"))\n",
    "config.measurement = basicConfig.measurement\n",
    "charImage = CharacterizeImageTask(config=config)\n",
    "\n",
    "config = CalibrateConfig()\n",
    "basicConfig = CalibrateConfig()\n",
    "config.load(os.path.join(obs_lsst, \"config\", \"calibrate.py\"))\n",
    "config.load(os.path.join(obs_lsst, \"config\", \"latiss\", \"calibrate.py\"))\n",
    "config.measurement = basicConfig.measurement\n",
    "\n",
    "calibrate = CalibrateTask(config=config, icSourceSchema=charImage.schema)\n",
    "\n",
    "# Preload refcat dataids and deferred dataset handles\n",
    "astrometryRefCatName = calibrate.config.connections.astromRefCat\n",
    "astromRefs = butler.registry.queryDatasets(astrometryRefCatName).expanded()\n",
    "astromHandles = [dafButler.DeferredDatasetHandle(butler=butler, ref=ref, parameters=None)\n",
    "                 for ref in astromRefs]\n",
    "astromDataIds = [butler.registry.expandDataId(ref.dataId) for ref in astromRefs]\n",
    "\n",
    "loader = ReferenceObjectLoader(\n",
    "    astromDataIds,\n",
    "    astromHandles,\n",
    "    name=astrometryRefCatName,\n",
    "    config=calibrate.config.astromRefObjLoader\n",
    ")\n"
   ]
  },
  {
   "cell_type": "code",
   "execution_count": 3,
   "id": "ac8f1f46-2202-47b0-8b8f-da2f95ae5fbb",
   "metadata": {},
   "outputs": [],
   "source": [
    "dataId = {'day_obs': 20221207, 'seq_num': 56, 'detector':0}\n",
    "exposure = butler.get(\"quickLookExp\", collections=['LATISS/runs/quickLook',], dataId=dataId)"
   ]
  },
  {
   "cell_type": "code",
   "execution_count": 4,
   "id": "471045c8-7efe-4c56-bba1-e43cb8060abb",
   "metadata": {},
   "outputs": [],
   "source": [
    "bbox=exposure.getBBox()\n",
    "wcs=exposure.info.getWcs()\n",
    "photoCalib=exposure.info.getPhotoCalib()\n",
    "filterLabel = exposure.info.getFilter()\n",
    "filterName = filterLabel.bandLabel if filterLabel is not None else None\n",
    "\n",
    "if exposure.info.hasVisitInfo():\n",
    "    epochTaiMjd = exposure.visitInfo.date.get(system=DateTime.MJD, scale=DateTime.TAI)\n",
    "    epoch = astropy.time.Time(epochTaiMjd, scale=\"tai\", format=\"mjd\")"
   ]
  },
  {
   "cell_type": "code",
   "execution_count": 5,
   "id": "faf4c4c8-a75c-4704-bac2-3feb40d04860",
   "metadata": {},
   "outputs": [
    {
     "data": {
      "text/html": [
       "<pre style=\"margin: 0.1em;\n",
       "padding-left: 0.25em;\n",
       "border-left-style: solid;\n",
       "font-family: var(--jp-code-font-family);\n",
       "font-size: var(--jp-code-font-size);\n",
       "line-height: var(--jp-code-line-height);\n",
       "\"><span style=\"color: var(--jp-warn-color2)\">lsst.meas.algorithms.loadReferenceObjects.ReferenceObjectLoader</span> <span style=\"color: var(--jp-info-color0)\">INFO</span>: Loading reference objects from gaia_dr2_20200414 in region bounded by [12.39796454, 12.94918999], [-72.97375435, -72.81406432] RA Dec</pre>"
      ],
      "text/plain": [
       "<IPython.core.display.HTML object>"
      ]
     },
     "metadata": {},
     "output_type": "display_data"
    },
    {
     "data": {
      "text/html": [
       "<pre style=\"margin: 0.1em;\n",
       "padding-left: 0.25em;\n",
       "border-left-style: solid;\n",
       "font-family: var(--jp-code-font-family);\n",
       "font-size: var(--jp-code-font-size);\n",
       "line-height: var(--jp-code-line-height);\n",
       "\"><span style=\"color: var(--jp-warn-color2)\">lsst.meas.algorithms.loadReferenceObjects.ReferenceObjectLoader</span> <span style=\"color: var(--jp-info-color0)\">INFO</span>: Loaded 22821 reference objects</pre>"
      ],
      "text/plain": [
       "<IPython.core.display.HTML object>"
      ]
     },
     "metadata": {},
     "output_type": "display_data"
    },
    {
     "data": {
      "text/html": [
       "<pre style=\"margin: 0.1em;\n",
       "padding-left: 0.25em;\n",
       "border-left-style: solid;\n",
       "font-family: var(--jp-code-font-family);\n",
       "font-size: var(--jp-code-font-size);\n",
       "line-height: var(--jp-code-line-height);\n",
       "\"><span style=\"color: var(--jp-warn-color2)\">lsst.meas.algorithms.loadReferenceObjects.ReferenceObjectLoader</span> <span style=\"color: var(--jp-info-color0)\">INFO</span>: Correcting reference catalog for proper motion to &lt;Time object: scale=&#x27;tai&#x27; format=&#x27;mjd&#x27; value=59921.0405222628&gt;</pre>"
      ],
      "text/plain": [
       "<IPython.core.display.HTML object>"
      ]
     },
     "metadata": {},
     "output_type": "display_data"
    }
   ],
   "source": [
    "loadRes = loader.loadPixelBox(\n",
    "            bbox=bbox,\n",
    "            wcs=wcs,\n",
    "            filterName=filterName,\n",
    "            epoch=epoch,\n",
    "        )"
   ]
  },
  {
   "cell_type": "code",
   "execution_count": 6,
   "id": "a04f7e3d-19a4-41a6-a5e2-2f9ed3a775ee",
   "metadata": {},
   "outputs": [
    {
     "data": {
      "text/plain": [
       "Struct(refCat=         id               coord_ra      ...   slot_Centroid_y   hasCentroid\n",
       "                            rad         ...                                \n",
       "------------------- ------------------- ... ------------------- -----------\n",
       "4685951397518077696 0.21943853968556495 ...  -369.9058228838078        True\n",
       "4685951397518077824  0.2194402462256785 ...   75.11871528214829        True\n",
       "4685951363158578432 0.21864208890609196 ...  -603.4876931602446        True\n",
       "4685951367422201344 0.21855306734170216 ... -329.64206866411064        True\n",
       "4685951298743193984 0.21843114042009543 ...  -877.1016505325495        True\n",
       "4685951367462670848 0.21805295062245617 ...  -843.9187392264564        True\n",
       "4685951363158432384 0.21872518343778627 ...  -706.6455688091103        True\n",
       "4685951401781940096 0.21916847299592437 ...  -413.1528360388363        True\n",
       "4685951367462670976 0.21786510618408791 ...  -799.4586364516042        True\n",
       "4685951397518074240  0.2191903444087068 ...  -357.0489429445945        True\n",
       "                ...                 ... ...                 ...         ...\n",
       "4688964166724872576 0.21832196253041267 ...   4463.456427556007        True\n",
       "4688964162456035968 0.21873654723537725 ...   4514.308176252814        True\n",
       "4688964201083764352 0.21925883741317012 ...   4689.786353999396        True\n",
       "4688964162456267264 0.21849122191373269 ...   4691.216921386808        True\n",
       "4688964093728834304 0.21896242918590217 ...  3995.1299795919604        True\n",
       "4688964235443492352  0.2201663903417364 ...   4677.450104898185        True\n",
       "4688964372901743232 0.21847910140596202 ...   4767.232423152798        True\n",
       "4688964201083757440  0.2194764808068491 ...   4723.604627236485        True\n",
       "4688964368636247936 0.21811416987101737 ...   4804.866119403704        True\n",
       "4688964098023880320 0.21867530178956432 ...   3875.879150665817        True\n",
       "Length = 22821 rows; fluxField=phot_g_mean_flux)"
      ]
     },
     "execution_count": 6,
     "metadata": {},
     "output_type": "execute_result"
    }
   ],
   "source": [
    "loadRes"
   ]
  },
  {
   "cell_type": "code",
   "execution_count": 7,
   "id": "99e3775e-210d-4796-8dbb-392faedc6a8d",
   "metadata": {},
   "outputs": [
    {
     "data": {
      "text/plain": [
       "22821"
      ]
     },
     "execution_count": 7,
     "metadata": {},
     "output_type": "execute_result"
    }
   ],
   "source": [
    "len(loadRes.refCat)"
   ]
  },
  {
   "cell_type": "code",
   "execution_count": 8,
   "id": "fa3b50b3-1649-4577-8e62-a85b2e14e808",
   "metadata": {},
   "outputs": [
    {
     "data": {
      "text/plain": [
       "<class 'lsst.afw.table.SimpleRecord'>\n",
       "id: 4685951397518077696\n",
       "coord_ra: 0.219439 rad\n",
       "coord_dec: -1.27334 rad\n",
       "phot_g_mean_flux: 80255.8\n",
       "phot_bp_mean_flux: 94605.4\n",
       "phot_rp_mean_flux: 192367\n",
       "phot_g_mean_fluxErr: 302.364\n",
       "phot_bp_mean_fluxErr: 5834.91\n",
       "phot_rp_mean_fluxErr: 33157.9\n",
       "coord_raErr: 2.25264e-08\n",
       "coord_decErr: 1.53864e-08\n",
       "epoch: 57205.9\n",
       "pm_ra: 6.21106e-09 rad\n",
       "pm_dec: -3.30518e-09 rad\n",
       "pm_raErr: 3.02474e-09\n",
       "pm_decErr: 2.06476e-09\n",
       "pm_flag: 0\n",
       "parallax: 3.31542e-09 rad\n",
       "parallaxErr: 1.28006e-09 rad\n",
       "parallax_flag: 0\n",
       "astrometric_excess_noise: 1.34285\n",
       "phot_variable_flag: NOT_AVAILABLE\n",
       "centroid_x: 925.256\n",
       "centroid_y: -369.906\n",
       "hasCentroid: 1"
      ]
     },
     "execution_count": 8,
     "metadata": {},
     "output_type": "execute_result"
    }
   ],
   "source": [
    "loadRes.refCat[0]"
   ]
  },
  {
   "cell_type": "code",
   "execution_count": null,
   "id": "465102cb-8de7-4bb4-a382-c95933390743",
   "metadata": {},
   "outputs": [],
   "source": [
    "loadRes.keys()"
   ]
  },
  {
   "cell_type": "code",
   "execution_count": null,
   "id": "1f73713a-469f-484b-a2d5-59a8fadb2730",
   "metadata": {},
   "outputs": [],
   "source": []
  }
 ],
 "metadata": {
  "kernelspec": {
   "display_name": "LSST",
   "language": "python",
   "name": "lsst"
  },
  "language_info": {
   "codemirror_mode": {
    "name": "ipython",
    "version": 3
   },
   "file_extension": ".py",
   "mimetype": "text/x-python",
   "name": "python",
   "nbconvert_exporter": "python",
   "pygments_lexer": "ipython3",
   "version": "3.10.6"
  }
 },
 "nbformat": 4,
 "nbformat_minor": 5
}
