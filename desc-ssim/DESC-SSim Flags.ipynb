{
 "cells": [
  {
   "cell_type": "markdown",
   "metadata": {},
   "source": [
    "# DRP Processing Flags\n",
    "\n",
    "For DESC-SSim call June 29 2017"
   ]
  },
  {
   "cell_type": "code",
   "execution_count": null,
   "metadata": {
    "collapsed": false
   },
   "outputs": [],
   "source": [
    "# First lets get a source catalog to play with:\n",
    "# source /global/common/cori/contrib/lsst/lsstDM/setupStack-13_0_c.sh\n",
    "# setup lsst_distrib\n",
    "\n",
    "import lsst.daf.persistence as dafPersist\n",
    "\n",
    "butler = dafPersist.Butler('/global/cscratch1/sd/descdm/DC1/full_focalplane_undithered')\n",
    "srcCat = butler.get('deepCoadd_meas', filter='r', tract=0, patch='7,9')\n",
    "srcCat.getSchema()"
   ]
  },
  {
   "cell_type": "markdown",
   "metadata": {},
   "source": [
    "More detail about the flags seen in this schema:\n",
    "\n",
    "## 1) Primary Flag\n",
    "\n",
    "The most important flag is the `detect_isPrimary` flag. Any kind analysis should be done only for sources `where detect_isPrimary` which will filter duplicate sources from your catalog.  \n",
    "\n",
    "There are two types of duplicates in the source catalogs. \n",
    "1. *Deblender* parents vs. their children\n",
    "2. Sources measured in the *patch and tract overlap* regions. \"detect_isPrimary=True\" will ensure that you have ONLY the children sources when a footprint was deblended and only sources in the inner patch and inner tract. \n",
    "\n",
    "### Deblender:\n",
    "\n",
    "\n",
    "We refer to a group of blended objects as a “family.” A “child” refers to a particular deblended object within a family. A “parent” is also created for each family, representing the alternate hypothesis that the blend is actually a single object. For a blend, both the parent and children are entered into the catalog, with the parent having `detect_isPrimary = False`, and `deblend_nChild = <number of children it has>`. The children will have `detect_isPrimary = True`, `deblend_nChild = 0` and `parent = <id of the parent>`.  You can self join the on ID of the parent to filter out sources with exceptionally bright parents which have pathological photometry. You can also only select children by limiting to `deblend_nChild == 0`.\n",
    "\n",
    "\n",
    "### Tract and Patch Overlaps:\n",
    "\n",
    "The patches overlap to allow measurement of sources on the edges of patches. Patches have an inner BBox and an outer BBox. If the centroid falls in the innerBBox is it marked `detect_isPatchInner`. \n",
    "\n",
    "\n",
    "    (Field['Flag'](name=\"detect_isPatchInner\", doc=\"true if source is in the inner region of a coadd patch\"), Key['Flag'](offset=544, bit=62)),\n",
    "    (Field['Flag'](name=\"detect_isTractInner\", doc=\"true if source is in the inner region of a coadd tract\"), Key['Flag'](offset=544, bit=63)),\n",
    "    (Field['I'](name=\"deblend_nChild\", doc=\"Number of children this object has (defaults to 0)\"), Key<I>(offset=40, nElements=1)),\n",
    "    (Field['Flag'](name=\"detect_isPrimary\", doc=\"true if source has no children and is in the inner region of a coadd patch and is in the inner region of a coadd tract and is not \"detected\" in a pseudo-filter (see config.pseudoFilterList)\"), Key['Flag'](offset=1168, bit=0)),\n",
    "        \n",
    "        \n",
    "   \n",
    "## Summary:\n",
    "    \n",
    "    detect_isPrimary = deblend_nChild == 0 and detect_isPatchInner and detect_isTractInner\n",
    "\n",
    " "
   ]
  },
  {
   "cell_type": "code",
   "execution_count": null,
   "metadata": {
    "collapsed": true
   },
   "outputs": [],
   "source": [
    "srcCat.get(\"deblend_nChild\")\n",
    "srcCat.get(\"detect_isPrimary\")\n",
    "srcCat.get(\"parent\")\n",
    "\n",
    "# Limit to primary like:\n",
    "idx = srcCat.get(\"detect_isPrimary\") \n",
    "print len(srcCat.get(\"base_PsfFlux_flux\")[idx])\n",
    "\n"
   ]
  },
  {
   "cell_type": "markdown",
   "metadata": {},
   "source": [
    "## 2) Pixel Flags\n",
    "\n",
    "For clean samples, you may also want to filter sources w/ bad pixels. We often filter out \"base_PixelFlags_flag_edge\", \"base_PixelFlags_flag_saturated\", \"base_PixelFlags_flag_saturatedCenter.\" Using \"base_PixelFlags_flag\" will filter out all of the flags thtat start with \"base_PixelFlags_flag*\".\n",
    "\n",
    "    (Field['Flag'](name=\"base_PixelFlags_flag\", doc=\"general failure flag, set if anything went wring\"), Key['Flag'](offset=544, bit=22)),\n",
    "    (Field['Flag'](name=\"base_PixelFlags_flag_offimage\", doc=\"Source center is off image\"), Key['Flag'](offset=544, bit=23)),\n",
    "    (Field['Flag'](name=\"base_PixelFlags_flag_edge\", doc=\"Source is outside usable exposure region (masked EDGE or NO_DATA)\"), Key['Flag'](offset=544, bit=24)),\n",
    "    (Field['Flag'](name=\"base_PixelFlags_flag_interpolated\", doc=\"Interpolated pixel in the Source footprint\"), Key['Flag'](offset=544, bit=25)),\n",
    "    (Field['Flag'](name=\"base_PixelFlags_flag_saturated\", doc=\"Saturated pixel in the Source footprint\"), Key['Flag'](offset=544, bit=26)),\n",
    "    (Field['Flag'](name=\"base_PixelFlags_flag_cr\", doc=\"Cosmic ray in the Source footprint\"), Key['Flag'](offset=544, bit=27)),\n",
    "    (Field['Flag'](name=\"base_PixelFlags_flag_bad\", doc=\"Bad pixel in the Source footprint\"), Key['Flag'](offset=544, bit=28)),\n",
    "    (Field['Flag'](name=\"base_PixelFlags_flag_suspect\", doc=\"Source''s footprint includes suspect pixels\"), Key['Flag'](offset=544, bit=29)),\n",
    "    (Field['Flag'](name=\"base_PixelFlags_flag_interpolatedCenter\", doc=\"Interpolated pixel in the Source center\"), Key['Flag'](offset=544, bit=30)),\n",
    "    (Field['Flag'](name=\"base_PixelFlags_flag_saturatedCenter\", doc=\"Saturated pixel in the Source center\"), Key['Flag'](offset=544, bit=31)),\n",
    "    (Field['Flag'](name=\"base_PixelFlags_flag_crCenter\", doc=\"Cosmic ray in the Source center\"), Key['Flag'](offset=544, bit=32)),\n",
    "    (Field['Flag'](name=\"base_PixelFlags_flag_suspectCenter\", doc=\"Source''s center is close to suspect pixels\"), Key['Flag'](offset=544, bit=33)),"
   ]
  },
  {
   "cell_type": "markdown",
   "metadata": {},
   "source": [
    "## 3) Measurement Flags\n",
    "\n",
    "Measurement algorithms have their own flags to record exceptions and abnormalities detected in the measurement. Every measurement algorithm will have a unique series of flags to record the unique failure modes and a general flag which is the \"or\" of the individual flags. For example:\n",
    "\n",
    "    (Field['D'](name=\"base_PsfFlux_flux\", doc=\"flux derived from linear least-squares fit of PSF model\", units=\"count\"), Key<D>(offset=696, nElements=1)),\n",
    "    (Field['D'](name=\"base_PsfFlux_fluxSigma\", doc=\"1-sigma flux uncertainty\", units=\"count\"), Key<D>(offset=704, nElements=1)),\n",
    "    (Field['Flag'](name=\"base_PsfFlux_flag\", doc=\"general failure flag\"), Key['Flag'](offset=544, bit=34)),\n",
    "    (Field['Flag'](name=\"base_PsfFlux_flag_noGoodPixels\", doc=\"not enough non-rejected pixels in data to attempt the fit\"), Key['Flag'](offset=544, bit=35)),\n",
    "    (Field['Flag'](name=\"base_PsfFlux_flag_edge\", doc=\"object was too close to the edge of the image to use the full PSF model\"), Key['Flag'](offset=544, bit=36)),\n",
    "\n",
    "\n",
    "    base_PsfFlux_flag = base_PsfFlux_flag_noGoodPixels or base_PsfFlux_flag_edge"
   ]
  },
  {
   "cell_type": "code",
   "execution_count": null,
   "metadata": {
    "collapsed": false
   },
   "outputs": [],
   "source": [
    "srcCat.get(\"base_PsfFlux_flag\")"
   ]
  },
  {
   "cell_type": "code",
   "execution_count": null,
   "metadata": {
    "collapsed": false
   },
   "outputs": [],
   "source": [
    "# NOT a DM-endorsed way of working with tables:\n",
    "\n",
    "import pandas as pd\n",
    "\n",
    "df = pd.DataFrame()\n",
    "for col in srcCat.getSchema():\n",
    "    name = col.field.getName()\n",
    "    df[name] = icsrc.get(name)\n",
    "\n",
    "df.to_csv('filename.csv')"
   ]
  },
  {
   "cell_type": "code",
   "execution_count": null,
   "metadata": {
    "collapsed": true
   },
   "outputs": [],
   "source": []
  }
 ],
 "metadata": {
  "kernelspec": {
   "display_name": "Python 2",
   "language": "python",
   "name": "python2"
  },
  "language_info": {
   "codemirror_mode": {
    "name": "ipython",
    "version": 2
   },
   "file_extension": ".py",
   "mimetype": "text/x-python",
   "name": "python",
   "nbconvert_exporter": "python",
   "pygments_lexer": "ipython2",
   "version": "2.7.12"
  }
 },
 "nbformat": 4,
 "nbformat_minor": 0
}
