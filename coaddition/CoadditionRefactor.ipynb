{
 "cells": [
  {
   "cell_type": "markdown",
   "metadata": {
    "slideshow": {
     "slide_type": "slide"
    }
   },
   "source": [
    "## Rethinking Coaddition Data Products and Tasks\n",
    "### August 1st 2017\n",
    "\n",
    "Goals:\n",
    " * Undertand of *all the coadds* we'll want to make in a DRP (long term vision). How are they parameterized?\n",
    " * Discuss short term solution to RFC that fixes current problems.  "
   ]
  },
  {
   "cell_type": "markdown",
   "metadata": {
    "slideshow": {
     "slide_type": "slide"
    }
   },
   "source": [
    "## Current problems\n",
    "\n",
    "* Tasks that are awkward/impossible\n",
    " 1. Can't make direct/psfMatched, deep/bestSeeing etc... coadds in one DRP (without --clobber-config!). In LDM-151 these are called DeepCoadd, BestSeeingCoadd and ConstantPsfCoadd. We may want different modelPsfs for different purposes (e.g. deblending, artifact rejection) too.\n",
    " 2. Implementing artifact rejection in deepCoadds. This requires a PSF-Matched Median coadd as an intermediate data product.\n",
    " 3. Can't generate series of `ShortPeriodCoadds` without mutliple output repos. \n",
    " 4. TemplateCoadds for Alert Production binned by parallactic angle or wavelength to account for DCR.\n",
    "\n",
    "* The proliferation of data types in obs_base smells bad. \n",
    "* The illusion of \"deep\" being configurable is a lie. It's hard coded into `assembleCoadd`'s argument parser, for example. "
   ]
  },
  {
   "cell_type": "markdown",
   "metadata": {
    "slideshow": {
     "slide_type": "slide"
    }
   },
   "source": [
    "# Proposal\n",
    "\n",
    "* Move *some* configs to data ID keys\n",
    "* Make a new parent Coaddition Task that can make all coadds with specified keys. This can be subclassed to make more types. "
   ]
  },
  {
   "cell_type": "markdown",
   "metadata": {
    "slideshow": {
     "slide_type": "slide"
    }
   },
   "source": [
    "### Which configs can be data ID keys?\n",
    "\n",
    "* Driving Principle:\n",
    " * _Dataset Types:_ not interchangeblae/substitutable \n",
    " * _Data IDs:_ should be interchangable/substitutable. Keys shouldn't drive the logic. For example, we should not ever have to do the following:\n",
    "\n",
    "```python\n",
    "if dataId['filter'] == \"HSC-Y\": \n",
    "    # NO! Shouldn't do this\n",
    "```\n",
    "\n",
    "* Therefore\n",
    " * `WarpType` = data TYPE because downstream measurement on direct/psfMatched/likelihood coadds is different. \n",
    " * `Period` (i.e. `y1`, `y2`, `y3`) = data Id key\n",
    " * `ObsCondition` (i.e. `deep`, `bestSeeing`) = data Id key\n",
    " * `Subfilter` for DCR = data Id key"
   ]
  },
  {
   "cell_type": "markdown",
   "metadata": {
    "slideshow": {
     "slide_type": "slide"
    }
   },
   "source": [
    "### Map values for new selection keys to configs:\n",
    "\n",
    "This is analagous to `makeSkyMap.py` which DEFINES the coadd data ID keys: `tract` and `patch`. They're not descriptors of raw data. We invent these keys, and they map to `skyMap` configs.\n",
    "\n",
    "Therefore, we propose to remove the \"deep\" specifier and specify the additional coadd keys in 1 or 2 new tasks that:\n",
    "* `RegisterCoaddsPsfMatchSizes`\n",
    "* `RegisterCoaddSelection` which maps which config to pass to `ImageSelectionTask`\n",
    "  * *Epoch criteria*: `Period`\n",
    "  * *Observing Conditions criteria* such as seeing cutoff (`deep`/`bestSeeing`), transparency cutoff? airmass cutoff?)\n",
    " \n",
    "Notes:\n",
    "* In the same way that `patch` is a string that maps to a bounding box via the skymap, these tasks will define *string labels* for configs in a per-repo data product analgous to `skyMap.pickle`.\n",
    "* It defines the how *values* for the keys are defined, but cannot invent new keys unless added to the butler in obs_base. \n",
    "\n",
    "Open questions:\n",
    "* What keys to define? One key per \"map\" or multiple?\n",
    "  * one: `name={'y1BestSeeing': {'startDate': X, 'endDate': Y, 'seeingMax': 1.0}}` \n",
    "  * multiple: `period={'y1': {'startDate': X, 'endDate': Y}, seeing={'deep':{'seeingMax':4}, 'best':{'seeingMax':1}}` multiple  assumes selection axes are independent (which they're probably not). "
   ]
  },
  {
   "cell_type": "markdown",
   "metadata": {
    "slideshow": {
     "slide_type": "slide"
    }
   },
   "source": [
    "## Make new parent \"Coaddition Task\" (all names negotiable)\n",
    "\n",
    "1. Reimplements coaddition to use an online algorithm (implementation detail). \n",
    "2. Can make a series of coadds using keys defined in \"registerCoaddSelection\"\n",
    "```\n",
    "coadditionTask.py input/repo --output output/repo \\\n",
    "--id tract=0 patch=0,0 selectionName=y1^y2^y3^y4\n",
    "```"
   ]
  },
  {
   "cell_type": "markdown",
   "metadata": {
    "slideshow": {
     "slide_type": "subslide"
    }
   },
   "source": [
    "`AssembleCoadd` will still exist, but take two new config parameters: \"warpType\" and \"stackStat\" (see DM-4158) \n",
    "* We will continue to only be able to use once as commandline per DRP. In practice will only be used to make coadds for which online algorithm doesn't work: medians, sigma-clipped means.\n",
    "  * Propose changing data output type to \"ClippedCoadd\"?"
   ]
  },
  {
   "cell_type": "markdown",
   "metadata": {
    "slideshow": {
     "slide_type": "slide"
    }
   },
   "source": [
    "## Coadd Types\n",
    "\n",
    "|  LDM-151 Name   | Type            | Keys\n",
    "|-----------------|-----------------|\n",
    "| DeepCoadd       | directCoadd     | tract, patch, filter, selection \n",
    "| BestSeeingCoadd | directCoadd     | \"\n",
    "| ShortPeriodCoadd| directCoadd     | \"\n",
    "| LikelihoodCoadd | likelihoodCoadd | tract, patch, filter\n",
    "| ConstantPsfCoadd| psfMatchedCoadd | tract, patch, filter, selection, psfMatchSize\n",
    "| TemplateCoadd   | ?    |\n",
    "\n",
    "\n",
    "Coadd types needed as intermediate data products (not stored permanently):\n",
    "* Median PSF Matched Coadd (as a simple model of static sky to use for artifact masking)\n",
    "\n"
   ]
  },
  {
   "cell_type": "markdown",
   "metadata": {},
   "source": []
  }
 ],
 "metadata": {
  "celltoolbar": "Slideshow",
  "kernelspec": {
   "display_name": "Python 2",
   "language": "python",
   "name": "python2"
  },
  "language_info": {
   "codemirror_mode": {
    "name": "ipython",
    "version": 2
   },
   "file_extension": ".py",
   "mimetype": "text/x-python",
   "name": "python",
   "nbconvert_exporter": "python",
   "pygments_lexer": "ipython2",
   "version": "2.7.12"
  }
 },
 "nbformat": 4,
 "nbformat_minor": 1
}
