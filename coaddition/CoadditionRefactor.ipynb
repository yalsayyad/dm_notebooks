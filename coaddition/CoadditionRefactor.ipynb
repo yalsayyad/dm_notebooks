{
 "cells": [
  {
   "cell_type": "markdown",
   "metadata": {
    "slideshow": {
     "slide_type": "slide"
    }
   },
   "source": [
    "## Rethinking Coaddition Data Products and Tasks\n",
    "### August 1st 2017\n",
    "\n",
    "Goals:\n",
    " * Come to undertanding of *all the coadds* we'll want to make in a DRP (long term vision). How are they parameterized?\n",
    " * Agree on short term solution to RFC that fixes current problems.  "
   ]
  },
  {
   "cell_type": "markdown",
   "metadata": {
    "slideshow": {
     "slide_type": "slide"
    }
   },
   "source": [
    "## Current problems\n",
    "\n",
    "* Tasks that are awkward/impossible\n",
    " 1. Can't make direct/psfMatched, deep/bestSeeing etc... coadds in one DRP (without --clobber-config!). In LDM-151 these are called DeepCoadd, BestSeeingCoadd and ConstantPsfCoadd. We may want different modelPsfs for different purposes (e.g. deblending, artifact rejection) too.\n",
    " 2. Implementing artifact rejection in deepCoadds. This requires a PSF-Matched Median coadd as an intermediate data product.\n",
    " 3. Can't generate series of `ShortPeriodCoadds` without mutliple output repos. \n",
    " 4. TemplateCoadds for Alert Production binned by parallactic angle or wavelength to account for DCR.\n",
    "\n",
    "* The proliferation of data types in obs-base smells bad. \n",
    "* The illusion of \"deep\" being configurable is a lie. It's hard codded the argument parser, for example. "
   ]
  },
  {
   "cell_type": "markdown",
   "metadata": {
    "slideshow": {
     "slide_type": "slide"
    }
   },
   "source": [
    "## Proposal\n",
    "\n",
    "* Make a new parent Coaddition Task that can make multiple coadd types. This can be subclassed to make more types. \n",
    "* Move *some* configs to data ID keys\n"
   ]
  },
  {
   "cell_type": "markdown",
   "metadata": {
    "slideshow": {
     "slide_type": "slide"
    }
   },
   "source": [
    "## Which configs can be data ID keys?\n",
    "\n",
    "* Driving Principle:\n",
    " * _Dataset Types:_ not interchangeblae/substitutable \n",
    " * _Data IDs:_ should be interchangable/substitutable. Keys shouldn't drive the logic. For example, we should not ever have to do the following:\n",
    "\n",
    "```\n",
    "if dataId['filter'] == \"HSC-Y\": \n",
    "    # NO! Shouldn't do this\n",
    "```\n",
    "\n",
    "* Therefore\n",
    " * `WarpType` = data TYPE because downstream measurement on direct/psfMatched/likelihood coadds is different. \n",
    " * `Period` (i.e. `y1`, `y2`, `y3`) = data Id key\n",
    " * `ObsCondition` (i.e. `deep`, `bestSeeing`) = data Id key\n",
    " * `Subfilter` for DCR = data Id key"
   ]
  },
  {
   "cell_type": "markdown",
   "metadata": {},
   "source": [
    "### Map values for new keys to configs:\n",
    "\n",
    "This is analagous to `makeSkyMap.py` which DEFINES the coadd data ID keys: `tract` and `patch`. They're not descriptors of raw data. We invent these keys, and they make to `skyMap` configs.\n",
    "\n",
    "Therefore, we propose to remove the \"deep\" specifier and specify the additional coadd keys in 1 or 2 new tasks that:\n",
    "* `RegisterCoaddsPsfMatchSizes`\n",
    "* `RegisterCoaddSelection` which maps which config to pass to `ImageSelectionTask`\n",
    "  * *Epoch criteria*: `Period`\n",
    "  * *Observing Conditions criteria* such as seeing cutoff (`deep`/`bestSeeing`), transparency cutoff? airmass cutoff?)\n",
    " \n",
    "Notes:\n",
    "* In the same way that `patch` is a string that maps to a bounding box via the skymap, these tasks will define *string labels* for configs in a per-repo data product analgous to `skyMap.pickle`.\n",
    "* It defines the how *values* for the keys are defined, but cannot invent new keys unless added to the butler in obs_base. "
   ]
  },
  {
   "cell_type": "markdown",
   "metadata": {},
   "source": [
    "## Make new parent \"Coaddition Task\" (name negotiable)\n",
    "\n",
    "1. Reimplements coaddition to use an online algorithm (implementation detail). \n",
    "2. Can make a series of coadds using keys defined in \"registerCoaddSelection\"\n",
    "```\n",
    "coadditionTask.py input/repo --output output/repo \\\n",
    "--id tract=0 patch=0,0 selection=y1^y2^y3^y4\n",
    "```"
   ]
  },
  {
   "cell_type": "code",
   "execution_count": null,
   "metadata": {
    "collapsed": true
   },
   "outputs": [],
   "source": []
  }
 ],
 "metadata": {
  "celltoolbar": "Slideshow",
  "kernelspec": {
   "display_name": "Python 2",
   "language": "python",
   "name": "python2"
  },
  "language_info": {
   "codemirror_mode": {
    "name": "ipython",
    "version": 2
   },
   "file_extension": ".py",
   "mimetype": "text/x-python",
   "name": "python",
   "nbconvert_exporter": "python",
   "pygments_lexer": "ipython2",
   "version": "2.7.12"
  }
 },
 "nbformat": 4,
 "nbformat_minor": 1
}
